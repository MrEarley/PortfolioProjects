{
 "cells": [
  {
   "cell_type": "markdown",
   "id": "a3679dac",
   "metadata": {},
   "source": [
    "# NLP \n",
    "In this project we will be using NLP techniques to explore and categorize unstructered review data for fantasy novels and different types of beer. I build out vectors using the review length as a potential predictor of reviews. Additionally, I employ one hot encoding to classify review data. I build out feature arrays for each review based on different factors from reviews and try to accurately predict how many stars out of 5 are given to the review using machine learning. "
   ]
  },
  {
   "cell_type": "code",
   "execution_count": null,
   "id": "dc1b08f3",
   "metadata": {
    "lines_to_next_cell": 2
   },
   "outputs": [],
   "source": [
    "import json\n",
    "from collections import defaultdict\n",
    "from sklearn import linear_model\n",
    "import numpy\n",
    "import random\n",
    "import gzip\n",
    "import dateutil.parser\n",
    "import math"
   ]
  },
  {
   "cell_type": "code",
   "execution_count": null,
   "id": "b5ad2bc7",
   "metadata": {},
   "outputs": [],
   "source": [
    "### Part 1"
   ]
  },
  {
   "cell_type": "code",
   "execution_count": null,
   "id": "7ad76e05",
   "metadata": {
    "lines_to_next_cell": 2
   },
   "outputs": [],
   "source": [
    "def assertFloat(x):\n",
    "    assert type(float(x)) == float\n",
    "\n",
    "def assertFloatList(items, N):\n",
    "    assert len(items) == N\n",
    "    assert [type(float(x)) for x in items] == [float]*N"
   ]
  },
  {
   "cell_type": "code",
   "execution_count": null,
   "id": "45e4b4b4",
   "metadata": {
    "lines_to_next_cell": 2
   },
   "outputs": [],
   "source": [
    "f = gzip.open(\"/fantasy_10000.json.gz\")\n",
    "dataset = []\n",
    "for l in f:\n",
    "    dataset.append(json.loads(l))"
   ]
  },
  {
   "cell_type": "code",
   "execution_count": null,
   "id": "f5f84b24",
   "metadata": {
    "lines_to_next_cell": 2
   },
   "outputs": [],
   "source": [
    "\n",
    "\n",
    "dataset1 = dataset[:10]"
   ]
  },
  {
   "cell_type": "code",
   "execution_count": null,
   "id": "b145e5cb",
   "metadata": {
    "lines_to_next_cell": 2
   },
   "outputs": [],
   "source": [
    "\n",
    "\n",
    "dataset[0]"
   ]
  },
  {
   "cell_type": "code",
   "execution_count": null,
   "id": "b78782d7",
   "metadata": {},
   "outputs": [],
   "source": [
    "\n",
    "\n",
    "# Testing out to see why X isn't coming out as a 2d array\n",
    "\n",
    "def feature1(datum):\n",
    "    max_length = 0\n",
    "    features = []\n",
    "    \n",
    "    for review in dataset:\n",
    "        review_text = review.get('review_text', '')\n",
    "        length = len(review_text)\n",
    "        max_length = max(max_length, length)\n",
    "    \n",
    "    for review in dataset:\n",
    "        review_text = review.get('review_text', '')\n",
    "        length = len(review_text)\n",
    "        feat = length / max_length\n",
    "        return [1] + [feat]\n",
    "    \n",
    "    \n",
    "    \n"
   ]
  },
  {
   "cell_type": "code",
   "execution_count": null,
   "id": "13586e36",
   "metadata": {
    "lines_to_next_cell": 2
   },
   "outputs": [],
   "source": [
    "\n",
    "\n",
    "# original feature\n",
    "\n",
    "def feature(dataset):\n",
    "    max_length = 0\n",
    "    features = []\n",
    "    \n",
    "    # Find the maximum length in the entire dataset\n",
    "    for review in dataset:\n",
    "        review_text = review.get('review_text', '')\n",
    "        length = len(review_text)\n",
    "        max_length = max(max_length, length)\n",
    "    \n",
    "    # Calculate the feature for each review\n",
    "    for review in dataset:\n",
    "        review_text = review.get('review_text', '')\n",
    "        length = len(review_text)\n",
    "        feat = length / max_length\n",
    "        features.append([1] + [feat])\n",
    "    \n",
    "    return features"
   ]
  },
  {
   "cell_type": "code",
   "execution_count": null,
   "id": "8de5af9e",
   "metadata": {
    "lines_to_next_cell": 2
   },
   "outputs": [],
   "source": [
    "\n",
    "\n",
    "X1 = [feature1(d) for d in dataset1]"
   ]
  },
  {
   "cell_type": "code",
   "execution_count": null,
   "id": "8e516866",
   "metadata": {
    "lines_to_next_cell": 2
   },
   "outputs": [],
   "source": [
    "\n",
    "\n",
    "X1[:10]"
   ]
  },
  {
   "cell_type": "code",
   "execution_count": null,
   "id": "ad99eaa9",
   "metadata": {
    "lines_to_next_cell": 2
   },
   "outputs": [],
   "source": [
    "\n",
    "\n",
    "len(dataset)"
   ]
  },
  {
   "cell_type": "code",
   "execution_count": null,
   "id": "6fde8e02",
   "metadata": {
    "lines_to_next_cell": 2
   },
   "outputs": [],
   "source": [
    "\n",
    "\n",
    "# Taking out the examples that don't have a review\n",
    "\n",
    "data = [d for d in dataset if 'review_text' in d]"
   ]
  },
  {
   "cell_type": "code",
   "execution_count": null,
   "id": "225ff04a",
   "metadata": {
    "lines_to_next_cell": 2
   },
   "outputs": [],
   "source": [
    "\n",
    "\n",
    "data = [d for d in dataset if 'date_added' in d]"
   ]
  },
  {
   "cell_type": "code",
   "execution_count": null,
   "id": "10d7a1e8",
   "metadata": {
    "lines_to_next_cell": 2
   },
   "outputs": [],
   "source": [
    "\n",
    "\n",
    "len(data)"
   ]
  },
  {
   "cell_type": "code",
   "execution_count": null,
   "id": "cca7d7d0",
   "metadata": {
    "lines_to_next_cell": 2
   },
   "outputs": [],
   "source": [
    "\n",
    "\n",
    "len('This should be 3.5 stars. I really enjoyed it, but found it all kind of random and leading nowhere. That being said, it was very imaginative and entertaining. Hrun the Barbarian was one of my favorites, as was anything the Luggage did.')"
   ]
  },
  {
   "cell_type": "code",
   "execution_count": null,
   "id": "0916db81",
   "metadata": {
    "lines_to_next_cell": 2
   },
   "outputs": [],
   "source": [
    "\n",
    "\n",
    "dataset[10]"
   ]
  },
  {
   "cell_type": "code",
   "execution_count": null,
   "id": "1a2356e6",
   "metadata": {
    "lines_to_next_cell": 2
   },
   "outputs": [],
   "source": [
    "\n",
    "\n",
    "max_length = 0\n",
    "for review in dataset:\n",
    "    review_text = review.get('review_text', '')\n",
    "    length = len(review_text)\n",
    "    max_length = max(max_length, length)\n",
    "    \n",
    "max_length"
   ]
  },
  {
   "cell_type": "code",
   "execution_count": null,
   "id": "df6fb930",
   "metadata": {
    "lines_to_next_cell": 2
   },
   "outputs": [],
   "source": [
    "\n",
    "\n",
    "len(dataset[1]['review_text'])"
   ]
  },
  {
   "cell_type": "code",
   "execution_count": null,
   "id": "ea22c0e3",
   "metadata": {},
   "outputs": [],
   "source": [
    "\n",
    "\n",
    "def feature(datum):\n",
    "    max_length = 0\n",
    "    features = []\n",
    "    \n",
    "    for review in dataset:\n",
    "        review_text = review.get('review_text', '')\n",
    "        length = len(review_text)\n",
    "        max_length = max(max_length, length)\n",
    "    \n",
    "    for review in dataset:\n",
    "        review_text = review.get('review_text', '')\n",
    "        length = len(review_text)\n",
    "        feat = length / max_length\n",
    "        return [1] + [feat]\n",
    "    \n"
   ]
  },
  {
   "cell_type": "code",
   "execution_count": null,
   "id": "a57adaab",
   "metadata": {
    "lines_to_next_cell": 2
   },
   "outputs": [],
   "source": [
    "\n",
    "\n",
    "# Most recently updated\n",
    "\n",
    "def feature(datum):\n",
    "    max_length = 0\n",
    "    features = []\n",
    "\n",
    "    # Find the maximum length in the entire dataset\n",
    "    for review in dataset:\n",
    "        review_text = review.get('review_text', '')\n",
    "        length = len(review_text)\n",
    "        max_length = max(max_length, length)\n",
    "\n",
    "    # Calculate the feature for each review and append it to the features list\n",
    "    for review in dataset:\n",
    "        review_text = review.get('review_text', '')\n",
    "        length = len(review_text)\n",
    "        feat = length / max_length\n",
    "        features.append([1, feat])  # Append as a two-element list\n",
    "\n",
    "    return features"
   ]
  },
  {
   "cell_type": "code",
   "execution_count": null,
   "id": "c3ff8de6",
   "metadata": {
    "lines_to_next_cell": 2
   },
   "outputs": [],
   "source": [
    "\n",
    "\n",
    "# Hard coding in the 14306\n",
    "\n",
    "def feature(datum):\n",
    "    #max_length = 14306\n",
    "\n",
    "    # Calculate the feature for each review and append it to the features list\n",
    "    for review in dataset:\n",
    "        review_text = review.get('review_text', '')\n",
    "        length = len(review_text)\n",
    "        feat = length / 14306\n",
    "        return [1] + [feat]"
   ]
  },
  {
   "cell_type": "code",
   "execution_count": null,
   "id": "2ad151a0",
   "metadata": {
    "lines_to_next_cell": 2
   },
   "outputs": [],
   "source": [
    "\n",
    "\n",
    "# this one works but makes way to big of an X\n",
    "\n",
    "def feature(datum):\n",
    "    max_length = 14306\n",
    "    features = []\n",
    "\n",
    "    # Calculate the feature for each review and append it to the features list\n",
    "    for review in dataset:\n",
    "        review_text = review.get('review_text', '')\n",
    "        length = len(review_text)\n",
    "        feat = length / max_length\n",
    "        features.append([1, feat])\n",
    "\n",
    "    return features"
   ]
  },
  {
   "cell_type": "code",
   "execution_count": null,
   "id": "d635870c",
   "metadata": {
    "lines_to_next_cell": 2
   },
   "outputs": [],
   "source": [
    "\n",
    "\n",
    "# Changing dataset to datum so hopefully it only does it once, takes in dataset instead of datum\n",
    "\n",
    "def feature(dataset):\n",
    "    max_length = 14306\n",
    "    features = []\n",
    "\n",
    "    # Calculate the feature for each review and append it to the features list\n",
    "    for datum in dataset:\n",
    "        review_text = datum.get('review_text', '')\n",
    "        length = len(review_text)\n",
    "        feat = length / max_length\n",
    "        features.append([1, feat])\n",
    "\n",
    "    return features"
   ]
  },
  {
   "cell_type": "code",
   "execution_count": null,
   "id": "56b5838f",
   "metadata": {
    "lines_to_next_cell": 2
   },
   "outputs": [],
   "source": [
    "def feature(datum):\n",
    "    review_text = datum.get('review_text', '')  # Access the 'review_text' key\n",
    "    length = len(review_text)\n",
    "    feat = length / 14306\n",
    "    return [1] + [feat]"
   ]
  },
  {
   "cell_type": "code",
   "execution_count": null,
   "id": "edb36b0e",
   "metadata": {
    "lines_to_next_cell": 2
   },
   "outputs": [],
   "source": [
    "\n",
    "\n",
    "X = [feature(d) for d in dataset]"
   ]
  },
  {
   "cell_type": "code",
   "execution_count": null,
   "id": "155669a2",
   "metadata": {
    "lines_to_next_cell": 2
   },
   "outputs": [],
   "source": [
    "\n",
    "\n",
    "X[:10]"
   ]
  },
  {
   "cell_type": "code",
   "execution_count": null,
   "id": "9efb0a8d",
   "metadata": {
    "lines_to_next_cell": 2
   },
   "outputs": [],
   "source": [
    "\n",
    "\n",
    "X[:10] # Original one where I cut it out of the long one"
   ]
  },
  {
   "cell_type": "code",
   "execution_count": null,
   "id": "0a8cdd0d",
   "metadata": {
    "lines_to_next_cell": 2
   },
   "outputs": [],
   "source": [
    "\n",
    "\n",
    "Y = [d['rating'] for d in dataset]"
   ]
  },
  {
   "cell_type": "code",
   "execution_count": null,
   "id": "f6e90723",
   "metadata": {
    "lines_to_next_cell": 2
   },
   "outputs": [],
   "source": [
    "\n",
    "\n",
    "theta,residuals,rank,s = numpy.linalg.lstsq(X, Y)"
   ]
  },
  {
   "cell_type": "code",
   "execution_count": null,
   "id": "40fb6ebd",
   "metadata": {
    "lines_to_next_cell": 2
   },
   "outputs": [],
   "source": [
    "\n",
    "\n",
    "import numpy as np\n",
    "\n",
    "predicted_values = np.dot(X, theta)\n",
    "\n",
    "# Step 2: Calculate residuals\n",
    "residuals = Y - predicted_values\n",
    "\n",
    "# Step 3: Square the residuals\n",
    "squared_residuals = residuals**2\n",
    "\n",
    "# Step 4: Calculate MSE\n",
    "MSE = np.mean(squared_residuals)"
   ]
  },
  {
   "cell_type": "code",
   "execution_count": null,
   "id": "c8e50d2a",
   "metadata": {
    "lines_to_next_cell": 2
   },
   "outputs": [],
   "source": [
    "\n",
    "\n",
    "MSE"
   ]
  },
  {
   "cell_type": "code",
   "execution_count": null,
   "id": "46ee06a8",
   "metadata": {
    "lines_to_next_cell": 2
   },
   "outputs": [],
   "source": [
    "\n",
    "\n",
    "theta"
   ]
  },
  {
   "cell_type": "code",
   "execution_count": null,
   "id": "c836ccfe",
   "metadata": {
    "lines_to_next_cell": 2
   },
   "outputs": [],
   "source": [
    "\n",
    "\n",
    "answers['Q1'] = [theta[0], theta[1], MSE]"
   ]
  },
  {
   "cell_type": "code",
   "execution_count": null,
   "id": "f609200f",
   "metadata": {
    "lines_to_next_cell": 2
   },
   "outputs": [],
   "source": [
    "\n",
    "\n",
    "assertFloatList(answers['Q1'], 3)"
   ]
  },
  {
   "cell_type": "code",
   "execution_count": null,
   "id": "0028529b",
   "metadata": {
    "lines_to_next_cell": 2
   },
   "outputs": [],
   "source": [
    "\n",
    "\n",
    "### Part 2"
   ]
  },
  {
   "cell_type": "code",
   "execution_count": null,
   "id": "ec7ba9c9",
   "metadata": {
    "lines_to_next_cell": 2
   },
   "outputs": [],
   "source": [
    "\n",
    "\n",
    "dataset[1]"
   ]
  },
  {
   "cell_type": "code",
   "execution_count": null,
   "id": "6940834c",
   "metadata": {
    "lines_to_next_cell": 2
   },
   "outputs": [],
   "source": [
    "\n",
    "\n",
    "import dateutil.parser\n",
    "t = dateutil.parser.parse(data[’date_added’])\n",
    "t.weekday(), t.month # etc."
   ]
  },
  {
   "cell_type": "code",
   "execution_count": null,
   "id": "5f10af09",
   "metadata": {},
   "outputs": [],
   "source": [
    "\n",
    "\n",
    "for d in dataset:\n",
    "    t = dateutil.parser.parse(d['date_added'])\n",
    "    d['parsed_date'] = t\n",
    "    \n"
   ]
  },
  {
   "cell_type": "code",
   "execution_count": null,
   "id": "8b338ff0",
   "metadata": {
    "lines_to_next_cell": 2
   },
   "outputs": [],
   "source": [
    "\n",
    "\n",
    "# This gives us [0, 1, 0, 0, 0, 0, 0] for Tuesday, etc. \n",
    "\n",
    "day_names = ['Monday', 'Tuesday', 'Wednesday', 'Thursday', 'Friday', 'Saturday', 'Sunday']\n",
    "\n",
    "for d in dataset:\n",
    "    t = dateutil.parser.parse(d['date_added'])\n",
    "    day_of_week = t.weekday()\n",
    "    one_hot_day = [1 if i == day_of_week else 0 for i in range(6)]\n",
    "    d['one_hot_day'] = one_hot_day"
   ]
  },
  {
   "cell_type": "code",
   "execution_count": null,
   "id": "33e15a7f",
   "metadata": {
    "lines_to_next_cell": 2
   },
   "outputs": [],
   "source": [
    "\n",
    "\n",
    "import calendar\n",
    "month_names = list(calendar.month_name)[1:]\n",
    "month_names"
   ]
  },
  {
   "cell_type": "code",
   "execution_count": null,
   "id": "b9ee232c",
   "metadata": {
    "lines_to_next_cell": 2
   },
   "outputs": [],
   "source": [
    "\n",
    "\n",
    "month_names = list(calendar.month_name)[1:]\n",
    "\n",
    "for d in dataset:\n",
    "    t = dateutil.parser.parse(d['date_added'])\n",
    "    day_of_month = t.month\n",
    "    one_hot_month = [1 if i == day_of_month else 0 for i in range(11)]\n",
    "    d['one_hot_month'] = one_hot_month"
   ]
  },
  {
   "cell_type": "code",
   "execution_count": null,
   "id": "57fab744",
   "metadata": {},
   "outputs": [],
   "source": [
    "\n",
    "\n",
    "# Trying to get [0, 0, 0, 0, 0, 0] for Monday\n",
    "\n",
    "for data in dataset:\n",
    "    # Parse the \"date_added\" field into a datetime object\n",
    "    t = dateutil.parser.parse(data['date_added'])\n",
    "    \n",
    "    # Get the day of the week as an integer (0 = Monday, 1 = Tuesday, ..., 6 = Sunday)\n",
    "    week_day = t.weekday()\n",
    "    \n",
    "    one_hot_weekday = [0]*6\n",
    "    one_hot_weekday[week_day] = 1\n",
    "    \n",
    "    month = t.month\n",
    "    \n",
    "    one_hot_month = [0]*12\n",
    "    one_hot_month[month - 1] = 1\n",
    "    \n",
    "    \n"
   ]
  },
  {
   "cell_type": "code",
   "execution_count": null,
   "id": "633cde31",
   "metadata": {
    "lines_to_next_cell": 2
   },
   "outputs": [],
   "source": [
    "\n",
    "\n",
    "dataset[0]['one_hot_day']"
   ]
  },
  {
   "cell_type": "code",
   "execution_count": null,
   "id": "4b3389e4",
   "metadata": {
    "lines_to_next_cell": 2
   },
   "outputs": [],
   "source": [
    "\n",
    "\n",
    "X.append(dataset['one_hot_day'])\n",
    "X.append(dataset['one_hot_month'])"
   ]
  },
  {
   "cell_type": "code",
   "execution_count": null,
   "id": "4271cc58",
   "metadata": {
    "lines_to_next_cell": 2
   },
   "outputs": [],
   "source": [
    "\n",
    "\n",
    "dataset[0]['one_hot_day'][0]"
   ]
  },
  {
   "cell_type": "code",
   "execution_count": null,
   "id": "7438100a",
   "metadata": {
    "lines_to_next_cell": 2
   },
   "outputs": [],
   "source": [
    "\n",
    "\n",
    "for entry in dataset:\n",
    "    entry['one_hot_day'] = [int(val) for val in entry['one_hot_day']]\n",
    "    #dataset['one_hot_day'] = dataset['one_hot_day'][1:]"
   ]
  },
  {
   "cell_type": "code",
   "execution_count": null,
   "id": "e0f34b26",
   "metadata": {
    "lines_to_next_cell": 2
   },
   "outputs": [],
   "source": [
    "\n",
    "\n",
    "for entry in dataset:\n",
    "    #entry['one_hot_day'] = [int(val) for val in entry['one_hot_day']]\n",
    "    dataset['one_hot_day'] = dataset[1:]['one_hot_day']"
   ]
  },
  {
   "cell_type": "code",
   "execution_count": null,
   "id": "9ddb821c",
   "metadata": {
    "lines_to_next_cell": 2
   },
   "outputs": [],
   "source": [
    "\n",
    "\n",
    "# THIS is the one\n",
    "\n",
    "def feature2(datum):\n",
    "    # Calculate the feature for each review and append it to the features list\n",
    "    review_text = datum.get('review_text', '')  # Access the 'review_text' key\n",
    "    length = len(review_text)\n",
    "    #feat = length / 14306\n",
    "    #return [1] + [feat]\n",
    "        \n",
    "    t = dateutil.parser.parse(datum['date_added'])\n",
    "    day_of_week = t.weekday()\n",
    "    one_hot_day = [1 if i == day_of_week else 0 for i in range(6)]\n",
    "    #d['one_hot_day'] = one_hot_day\n",
    "    \n",
    "    day_of_month = t.month\n",
    "    one_hot_month = [1 if i == day_of_month else 0 for i in range(11)]\n",
    "    #d['one_hot_month'] = one_hot_month\n",
    "    \n",
    "    feat = [1] + [length / 14306] + one_hot_day + one_hot_month\n",
    "\n",
    "    return feat"
   ]
  },
  {
   "cell_type": "code",
   "execution_count": null,
   "id": "cc96c679",
   "metadata": {
    "lines_to_next_cell": 2
   },
   "outputs": [],
   "source": [
    "\n",
    "\n",
    "X2 = [feature(d) for d in dataset]"
   ]
  },
  {
   "cell_type": "code",
   "execution_count": null,
   "id": "9066b8d2",
   "metadata": {
    "lines_to_next_cell": 2
   },
   "outputs": [],
   "source": [
    "\n",
    "\n",
    "X2[:5]"
   ]
  },
  {
   "cell_type": "code",
   "execution_count": null,
   "id": "9f0c19d8",
   "metadata": {
    "lines_to_next_cell": 2
   },
   "outputs": [],
   "source": [
    "\n",
    "\n",
    "Y = [d['rating'] for d in dataset]"
   ]
  },
  {
   "cell_type": "code",
   "execution_count": null,
   "id": "ea9cb809",
   "metadata": {
    "lines_to_next_cell": 2
   },
   "outputs": [],
   "source": [
    "### Part 3"
   ]
  },
  {
   "cell_type": "code",
   "execution_count": null,
   "id": "21383b7f",
   "metadata": {
    "lines_to_next_cell": 2
   },
   "outputs": [],
   "source": [
    "\n",
    "\n",
    "dataset[:5]"
   ]
  },
  {
   "cell_type": "code",
   "execution_count": null,
   "id": "80ca5215",
   "metadata": {
    "lines_to_next_cell": 2
   },
   "outputs": [],
   "source": [
    "\n",
    "\n",
    "def feature3(datum):\n",
    "# Calculate the feature for each review and append it to the features list\n",
    "    review_text = datum.get('review_text', '')  # Access the 'review_text' key\n",
    "    length = len(review_text)\n",
    "        \n",
    "    t = dateutil.parser.parse(datum['date_added'])\n",
    "    day_of_week = t.weekday()\n",
    "\n",
    "    month = t.month\n",
    "    \n",
    "    \n",
    "    feat = [1, length / 14306, day_of_week, month]\n",
    "\n",
    "    return feat"
   ]
  },
  {
   "cell_type": "code",
   "execution_count": null,
   "id": "1eb05d32",
   "metadata": {
    "lines_to_next_cell": 2
   },
   "outputs": [],
   "source": [
    "\n",
    "\n",
    "X31 = [feature3(d) for d in dataset]"
   ]
  },
  {
   "cell_type": "code",
   "execution_count": null,
   "id": "eb7ffabb",
   "metadata": {
    "lines_to_next_cell": 2
   },
   "outputs": [],
   "source": [
    "\n",
    "\n",
    "X31[:5]"
   ]
  },
  {
   "cell_type": "code",
   "execution_count": null,
   "id": "2a40967c",
   "metadata": {
    "lines_to_next_cell": 2
   },
   "outputs": [],
   "source": [
    "\n",
    "\n",
    "# Model number 1, using weekday and month directly as features\n",
    "\n",
    "theta31,residuals31,rank31,s31 = numpy.linalg.lstsq(X31, Y)"
   ]
  },
  {
   "cell_type": "code",
   "execution_count": null,
   "id": "d4677796",
   "metadata": {
    "lines_to_next_cell": 2
   },
   "outputs": [],
   "source": [
    "\n",
    "\n",
    "predicted_values31 = np.dot(X31, theta31)\n",
    "\n",
    "# Step 2: Calculate residuals\n",
    "residuals31 = Y - predicted_values31\n",
    "\n",
    "# Step 3: Square the residuals\n",
    "squared_residuals31 = residuals31**2\n",
    "\n",
    "# Step 4: Calculate MSE\n",
    "mse2 = np.mean(squared_residuals31)"
   ]
  },
  {
   "cell_type": "code",
   "execution_count": null,
   "id": "15ceb3af",
   "metadata": {
    "lines_to_next_cell": 2
   },
   "outputs": [],
   "source": [
    "\n",
    "\n",
    "mse2"
   ]
  },
  {
   "cell_type": "code",
   "execution_count": null,
   "id": "8656f00b",
   "metadata": {
    "lines_to_next_cell": 2
   },
   "outputs": [],
   "source": [
    "\n",
    "\n",
    "X2[0]"
   ]
  },
  {
   "cell_type": "code",
   "execution_count": null,
   "id": "7cda4744",
   "metadata": {
    "lines_to_next_cell": 2
   },
   "outputs": [],
   "source": [
    "\n",
    "\n",
    "# Model number 2 using one hot encoding, in theory should have smaller MSE?\n",
    "\n",
    "theta32,residuals32,rank32,s32 = numpy.linalg.lstsq(X2, Y)"
   ]
  },
  {
   "cell_type": "code",
   "execution_count": null,
   "id": "b62059aa",
   "metadata": {
    "lines_to_next_cell": 2
   },
   "outputs": [],
   "source": [
    "\n",
    "\n",
    "predicted_values32 = np.dot(X2, theta32)\n",
    "\n",
    "# Step 2: Calculate residuals\n",
    "residuals32 = Y - predicted_values32\n",
    "\n",
    "# Step 3: Square the residuals\n",
    "squared_residuals32 = residuals32**2\n",
    "\n",
    "# Step 4: Calculate MSE\n",
    "mse3 = np.mean(squared_residuals32)"
   ]
  },
  {
   "cell_type": "code",
   "execution_count": null,
   "id": "615a1130",
   "metadata": {
    "lines_to_next_cell": 2
   },
   "outputs": [],
   "source": [
    "\n",
    "\n",
    "mse3"
   ]
  },
  {
   "cell_type": "code",
   "execution_count": null,
   "id": "146cf14e",
   "metadata": {
    "lines_to_next_cell": 2
   },
   "outputs": [],
   "source": [
    "\n",
    "\n",
    "def feature3(datum):\n",
    "    # ..."
   ]
  },
  {
   "cell_type": "code",
   "execution_count": null,
   "id": "50c5e465",
   "metadata": {
    "lines_to_next_cell": 2
   },
   "outputs": [],
   "source": [
    "\n",
    "\n",
    "### Part 4"
   ]
  },
  {
   "cell_type": "code",
   "execution_count": null,
   "id": "2de57495",
   "metadata": {
    "lines_to_next_cell": 2
   },
   "outputs": [],
   "source": [
    "\n",
    "\n",
    "random.seed(0)\n",
    "random.shuffle(dataset)"
   ]
  },
  {
   "cell_type": "code",
   "execution_count": null,
   "id": "ff8a5cc4",
   "metadata": {
    "lines_to_next_cell": 2
   },
   "outputs": [],
   "source": [
    "\n",
    "\n",
    "#X2 is using the one hot encoding\n",
    "X2 = [feature(d) for d in dataset]\n",
    "#X3 is using the raw day of week and month\n",
    "X3 = [feature3(d) for d in dataset]\n",
    "Y = [d['rating'] for d in dataset]"
   ]
  },
  {
   "cell_type": "code",
   "execution_count": null,
   "id": "fa55f20e",
   "metadata": {
    "lines_to_next_cell": 2
   },
   "outputs": [],
   "source": [
    "\n",
    "\n",
    "X3[0]"
   ]
  },
  {
   "cell_type": "code",
   "execution_count": null,
   "id": "16abbc11",
   "metadata": {
    "lines_to_next_cell": 2
   },
   "outputs": [],
   "source": [
    "\n",
    "\n",
    "train2, test2 = X2[:len(X2)//2], X2[len(X2)//2:]\n",
    "train3, test3 = X3[:len(X3)//2], X3[len(X3)//2:]\n",
    "trainY, testY = Y[:len(Y)//2], Y[len(Y)//2:]"
   ]
  },
  {
   "cell_type": "code",
   "execution_count": null,
   "id": "5fcf22ae",
   "metadata": {
    "lines_to_next_cell": 2
   },
   "outputs": [],
   "source": [
    "\n",
    "\n",
    "# Training X2 (one hot) on the training set, then will predict on test2\n",
    "\n",
    "theta42,residuals42,rank42,s42 = numpy.linalg.lstsq(train2, trainY)"
   ]
  },
  {
   "cell_type": "code",
   "execution_count": null,
   "id": "ec8485db",
   "metadata": {
    "lines_to_next_cell": 2
   },
   "outputs": [],
   "source": [
    "\n",
    "\n",
    "predicted_values42 = np.dot(test2, theta42)\n",
    "\n",
    "# Step 2: Calculate residuals\n",
    "residuals42 = testY - predicted_values42\n",
    "\n",
    "# Step 3: Square the residuals\n",
    "squared_residuals42 = residuals42**2\n",
    "\n",
    "# Step 4: Calculate MSE\n",
    "test_mse2 = np.mean(squared_residuals42)"
   ]
  },
  {
   "cell_type": "code",
   "execution_count": null,
   "id": "9d3f12d4",
   "metadata": {
    "lines_to_next_cell": 2
   },
   "outputs": [],
   "source": [
    "\n",
    "\n",
    "test_mse2"
   ]
  },
  {
   "cell_type": "code",
   "execution_count": null,
   "id": "90cf9f65",
   "metadata": {
    "lines_to_next_cell": 2
   },
   "outputs": [],
   "source": [
    "\n",
    "\n",
    "# Training X3 (just week and month numbers) on the training set, then will predict on test 3\n",
    "\n",
    "theta43,residuals43,rank43,s43 = numpy.linalg.lstsq(train3, trainY)"
   ]
  },
  {
   "cell_type": "code",
   "execution_count": null,
   "id": "6711f6ea",
   "metadata": {
    "lines_to_next_cell": 2
   },
   "outputs": [],
   "source": [
    "\n",
    "\n",
    "predicted_values43 = np.dot(test3, theta43)\n",
    "\n",
    "# Step 2: Calculate residuals\n",
    "residuals43 = testY - predicted_values43\n",
    "\n",
    "# Step 3: Square the residuals\n",
    "squared_residuals43 = residuals43**2\n",
    "\n",
    "# Step 4: Calculate MSE\n",
    "test_mse3 = np.mean(squared_residuals43)"
   ]
  },
  {
   "cell_type": "code",
   "execution_count": null,
   "id": "912658b3",
   "metadata": {
    "lines_to_next_cell": 2
   },
   "outputs": [],
   "source": [
    "\n",
    "\n",
    "test_mse3"
   ]
  },
  {
   "cell_type": "code",
   "execution_count": null,
   "id": "a5acf3a7",
   "metadata": {
    "lines_to_next_cell": 2
   },
   "outputs": [],
   "source": [
    "\n",
    "\n",
    "### Part 5"
   ]
  },
  {
   "cell_type": "code",
   "execution_count": null,
   "id": "24f4f7b3",
   "metadata": {
    "lines_to_next_cell": 2
   },
   "outputs": [],
   "source": [
    "\n",
    "\n",
    "f = open(\"beer_50000.json\")\n",
    "dataset = []\n",
    "for l in f:\n",
    "    dataset.append(eval(l))"
   ]
  },
  {
   "cell_type": "code",
   "execution_count": null,
   "id": "af9e189c",
   "metadata": {
    "lines_to_next_cell": 2
   },
   "outputs": [],
   "source": [
    "\n",
    "\n",
    "dataset[1]"
   ]
  },
  {
   "cell_type": "code",
   "execution_count": null,
   "id": "0aaa1502",
   "metadata": {
    "lines_to_next_cell": 2
   },
   "outputs": [],
   "source": [
    "\n",
    "\n",
    "y = [d['review/overall'] >= 4 for d in dataset]"
   ]
  },
  {
   "cell_type": "code",
   "execution_count": null,
   "id": "1ac573cc",
   "metadata": {
    "lines_to_next_cell": 2
   },
   "outputs": [],
   "source": [
    "\n",
    "\n",
    "y[:10]"
   ]
  },
  {
   "cell_type": "code",
   "execution_count": null,
   "id": "ff00385d",
   "metadata": {
    "lines_to_next_cell": 2
   },
   "outputs": [],
   "source": [
    "\n",
    "\n",
    "def feature_beertext(datum):\n",
    "    beer_review = datum.get('review/text', '')  # Access the 'review_text' key\n",
    "    length = len(beer_review)\n",
    "    return [1] + [length]"
   ]
  },
  {
   "cell_type": "code",
   "execution_count": null,
   "id": "ce5991e9",
   "metadata": {
    "lines_to_next_cell": 2
   },
   "outputs": [],
   "source": [
    "\n",
    "\n",
    "X = [feature_beertext(d) for d in dataset]"
   ]
  },
  {
   "cell_type": "code",
   "execution_count": null,
   "id": "e799d19a",
   "metadata": {
    "lines_to_next_cell": 2
   },
   "outputs": [],
   "source": [
    "\n",
    "\n",
    "X[:10]"
   ]
  },
  {
   "cell_type": "code",
   "execution_count": null,
   "id": "318cbea3",
   "metadata": {
    "lines_to_next_cell": 2
   },
   "outputs": [],
   "source": [
    "\n",
    "\n",
    "X = \n",
    "y = "
   ]
  },
  {
   "cell_type": "code",
   "execution_count": null,
   "id": "cb225bfe",
   "metadata": {
    "lines_to_next_cell": 2
   },
   "outputs": [],
   "source": [
    "\n",
    "\n",
    "import numpy as np\n",
    "from sklearn.linear_model import LogisticRegression\n",
    "from sklearn.metrics import confusion_matrix, balanced_accuracy_score\n",
    "from sklearn.model_selection import train_test_split\n",
    "\n",
    "X_train, X_test, y_train, y_test = train_test_split(X, y, test_size = 0.2, random_state = 42)\n",
    "\n",
    "model = LogisticRegression(class_weight = 'balanced', solver='liblinear')\n",
    "\n",
    "model.fit(X_train, y_train)\n",
    "\n",
    "y_pred = model.predict(X_test)"
   ]
  },
  {
   "cell_type": "code",
   "execution_count": null,
   "id": "4e83ad11",
   "metadata": {
    "lines_to_next_cell": 2
   },
   "outputs": [],
   "source": [
    "\n",
    "\n",
    "y_test[:10]"
   ]
  },
  {
   "cell_type": "code",
   "execution_count": null,
   "id": "291dae30",
   "metadata": {
    "lines_to_next_cell": 2
   },
   "outputs": [],
   "source": [
    "\n",
    "\n",
    "y_pred[:10]"
   ]
  },
  {
   "cell_type": "code",
   "execution_count": null,
   "id": "d5abad58",
   "metadata": {
    "lines_to_next_cell": 2
   },
   "outputs": [],
   "source": [
    "\n",
    "\n",
    "y[:10]"
   ]
  },
  {
   "cell_type": "code",
   "execution_count": null,
   "id": "5da2edb8",
   "metadata": {
    "lines_to_next_cell": 2
   },
   "outputs": [],
   "source": [
    "\n",
    "\n",
    "conf_matrix = confusion_matrix(y_test, y_pred)"
   ]
  },
  {
   "cell_type": "code",
   "execution_count": null,
   "id": "d188dbd7",
   "metadata": {
    "lines_to_next_cell": 2
   },
   "outputs": [],
   "source": [
    "\n",
    "\n",
    "TN, FP, FN, TP = conf_matrix.ravel"
   ]
  },
  {
   "cell_type": "code",
   "execution_count": null,
   "id": "8f709120",
   "metadata": {
    "lines_to_next_cell": 2
   },
   "outputs": [],
   "source": [
    "\n",
    "\n",
    "TN, FP, FN, TP = conf_matrix.ravel()"
   ]
  },
  {
   "cell_type": "code",
   "execution_count": null,
   "id": "a2625364",
   "metadata": {
    "lines_to_next_cell": 2
   },
   "outputs": [],
   "source": [
    "\n",
    "\n",
    "TN + FP + FN + TP"
   ]
  },
  {
   "cell_type": "code",
   "execution_count": null,
   "id": "bfb987fb",
   "metadata": {
    "lines_to_next_cell": 2
   },
   "outputs": [],
   "source": [
    "\n",
    "\n",
    "TP = \n",
    "TN = \n",
    "FP = \n",
    "FN = "
   ]
  },
  {
   "cell_type": "code",
   "execution_count": null,
   "id": "a7ff4951",
   "metadata": {
    "lines_to_next_cell": 2
   },
   "outputs": [],
   "source": [
    "\n",
    "\n",
    "BER = 1 - balanced_accuracy_score(y_test, y_pred)"
   ]
  },
  {
   "cell_type": "code",
   "execution_count": null,
   "id": "73ebd3a9",
   "metadata": {
    "lines_to_next_cell": 2
   },
   "outputs": [],
   "source": [
    "\n",
    "\n",
    "BER"
   ]
  },
  {
   "cell_type": "code",
   "execution_count": null,
   "id": "4bdaa814",
   "metadata": {
    "lines_to_next_cell": 2
   },
   "outputs": [],
   "source": [
    "\n",
    "\n",
    "answers['Q5'] = [TP, TN, FP, FN, BER]"
   ]
  },
  {
   "cell_type": "code",
   "execution_count": null,
   "id": "30880b66",
   "metadata": {
    "lines_to_next_cell": 2
   },
   "outputs": [],
   "source": [
    "\n",
    "\n",
    "assertFloatList(answers['Q5'], 5)"
   ]
  },
  {
   "cell_type": "code",
   "execution_count": null,
   "id": "914391a0",
   "metadata": {
    "lines_to_next_cell": 2
   },
   "outputs": [],
   "source": [
    "\n",
    "\n",
    "### Part 6"
   ]
  },
  {
   "cell_type": "code",
   "execution_count": null,
   "id": "5e5adbb8",
   "metadata": {
    "lines_to_next_cell": 2
   },
   "outputs": [],
   "source": [
    "\n",
    "\n",
    "import matplotlib.pyplot as plt\n",
    "from sklearn.metrics import precision_score\n",
    "\n",
    "sorted_indices = np.argsort(y_pred)[::1]\n",
    "sorted_labels = np.array(y)[sorted_indices]"
   ]
  },
  {
   "cell_type": "code",
   "execution_count": null,
   "id": "75783884",
   "metadata": {
    "lines_to_next_cell": 2
   },
   "outputs": [],
   "source": [
    "\n",
    "\n",
    "sorted_indices"
   ]
  },
  {
   "cell_type": "code",
   "execution_count": null,
   "id": "63de7e5f",
   "metadata": {
    "lines_to_next_cell": 2
   },
   "outputs": [],
   "source": [
    "\n",
    "\n",
    "sorted_labels"
   ]
  },
  {
   "cell_type": "code",
   "execution_count": null,
   "id": "8169fb01",
   "metadata": {
    "lines_to_next_cell": 2
   },
   "outputs": [],
   "source": [
    "\n",
    "\n",
    "precs = []"
   ]
  },
  {
   "cell_type": "code",
   "execution_count": null,
   "id": "b219b29e",
   "metadata": {
    "lines_to_next_cell": 2
   },
   "outputs": [],
   "source": [
    "\n",
    "\n",
    "for k in [1,100,1000,10000]:\n",
    "    top_K = sorted_labels[:k]\n",
    "    precision = precision_score(top_K, np.ones(k))\n",
    "    precs.append(precision)"
   ]
  },
  {
   "cell_type": "code",
   "execution_count": null,
   "id": "93022515",
   "metadata": {
    "lines_to_next_cell": 2
   },
   "outputs": [],
   "source": [
    "\n",
    "\n",
    "precs"
   ]
  },
  {
   "cell_type": "code",
   "execution_count": null,
   "id": "d1e40327",
   "metadata": {
    "lines_to_next_cell": 2
   },
   "outputs": [],
   "source": [
    "\n",
    "\n",
    "K_values = [1,100,1000,10000]"
   ]
  },
  {
   "cell_type": "code",
   "execution_count": null,
   "id": "4474c6ae",
   "metadata": {
    "lines_to_next_cell": 2
   },
   "outputs": [],
   "source": [
    "\n",
    "\n",
    "plt.figure(figsize=(10,6))\n",
    "plt.plot(K_values, precs, marker='o')\n",
    "plt.xscale('log')\n",
    "plt.grid(True)\n",
    "plt.show()"
   ]
  },
  {
   "cell_type": "code",
   "execution_count": null,
   "id": "8c55dcf1",
   "metadata": {
    "lines_to_next_cell": 2
   },
   "outputs": [],
   "source": [
    "\n",
    "\n",
    "answers['Q6'] = precs"
   ]
  },
  {
   "cell_type": "code",
   "execution_count": null,
   "id": "f5ba7bdb",
   "metadata": {
    "lines_to_next_cell": 2
   },
   "outputs": [],
   "source": [
    "\n",
    "\n",
    "assertFloatList(answers['Q6'], 4)"
   ]
  },
  {
   "cell_type": "code",
   "execution_count": null,
   "id": "0321ebbc",
   "metadata": {
    "lines_to_next_cell": 2
   },
   "outputs": [],
   "source": [
    "\n",
    "\n",
    "### Part 7"
   ]
  },
  {
   "cell_type": "code",
   "execution_count": null,
   "id": "9807e0b3",
   "metadata": {
    "lines_to_next_cell": 2
   },
   "outputs": [],
   "source": [
    "\n",
    "\n",
    "dataset[0]"
   ]
  },
  {
   "cell_type": "code",
   "execution_count": null,
   "id": "ce5f8d5c",
   "metadata": {
    "lines_to_next_cell": 2
   },
   "outputs": [],
   "source": [
    "\n",
    "\n",
    "def feature_beertext_improved(datum):\n",
    "    beer_review = datum.get('review/text', '')  # Access the 'review_text' key\n",
    "    length = len(beer_review)\n",
    "    app = datum['review/appearance']\n",
    "    pal = datum['review/palate']\n",
    "    taste = datum['review/taste']\n",
    "    aroma = datum['review/aroma']\n",
    "    return [1] + [length] + [app] + [pal] + [taste] + [aroma]"
   ]
  },
  {
   "cell_type": "code",
   "execution_count": null,
   "id": "882ef9d0",
   "metadata": {
    "lines_to_next_cell": 2
   },
   "outputs": [],
   "source": [
    "\n",
    "\n",
    "X7 = [feature_beertext_improved(d) for d in dataset]"
   ]
  },
  {
   "cell_type": "code",
   "execution_count": null,
   "id": "af02f718",
   "metadata": {
    "lines_to_next_cell": 2
   },
   "outputs": [],
   "source": [
    "\n",
    "\n",
    "X7[0]"
   ]
  },
  {
   "cell_type": "code",
   "execution_count": null,
   "id": "7416b262",
   "metadata": {
    "lines_to_next_cell": 2
   },
   "outputs": [],
   "source": [
    "\n",
    "\n",
    "X_train7, X_test7, y_train7, y_test7 = train_test_split(X7, y, test_size = 0.2, random_state = 42)\n",
    "\n",
    "model = LogisticRegression(class_weight = 'balanced', solver='liblinear')\n",
    "\n",
    "model.fit(X_train7, y_train7)\n",
    "\n",
    "y_pred7 = model.predict(X_test7)"
   ]
  },
  {
   "cell_type": "code",
   "execution_count": null,
   "id": "f6bb2d53",
   "metadata": {
    "lines_to_next_cell": 2
   },
   "outputs": [],
   "source": [
    "\n",
    "\n",
    "BER7 = 1 - balanced_accuracy_score(y_test7, y_pred7)"
   ]
  },
  {
   "cell_type": "code",
   "execution_count": null,
   "id": "b53c6d25",
   "metadata": {
    "lines_to_next_cell": 2
   },
   "outputs": [],
   "source": [
    "\n",
    "\n",
    "BER7"
   ]
  },
  {
   "cell_type": "code",
   "execution_count": null,
   "id": "6e44929d",
   "metadata": {
    "lines_to_next_cell": 2
   },
   "outputs": [],
   "source": [
    "\n",
    "\n",
    "its_test_BER = BER7"
   ]
  },
  {
   "cell_type": "code",
   "execution_count": null,
   "id": "2009a581",
   "metadata": {
    "lines_to_next_cell": 2
   },
   "outputs": [],
   "source": [
    "\n",
    "\n",
    "its_test_BER = balanced_accuracy_score(y_test7, y_pred7)"
   ]
  },
  {
   "cell_type": "code",
   "execution_count": null,
   "id": "53fa2d6b",
   "metadata": {
    "lines_to_next_cell": 2
   },
   "outputs": [],
   "source": [
    "\n",
    "\n",
    "answers['Q7'] = [\"In my solution I included review values for other factors such as appearance, aroma, palate and taste. This brought up the balanced accuracy score significantly.\", its_test_BER]"
   ]
  }
 ],
 "metadata": {
  "jupytext": {
   "cell_metadata_filter": "-all",
   "encoding": "# coding: utf-8",
   "executable": "/usr/bin/env python",
   "formats": "ipynb,py",
   "main_language": "python"
  },
  "kernelspec": {
   "display_name": "Python 3 (ipykernel)",
   "language": "python",
   "name": "python3"
  },
  "language_info": {
   "codemirror_mode": {
    "name": "ipython",
    "version": 3
   },
   "file_extension": ".py",
   "mimetype": "text/x-python",
   "name": "python",
   "nbconvert_exporter": "python",
   "pygments_lexer": "ipython3",
   "version": "3.11.5"
  }
 },
 "nbformat": 4,
 "nbformat_minor": 5
}
