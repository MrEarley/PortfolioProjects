{
 "cells": [
  {
   "cell_type": "code",
   "execution_count": 4,
   "id": "f3deab9f",
   "metadata": {},
   "outputs": [],
   "source": [
    "# import libraries and read in data\n",
    "import pandas as pd\n",
    "\n",
    "nba = pd.read_csv('/Users/williamearley/SIS/nba_player_game_logs.csv')"
   ]
  },
  {
   "cell_type": "code",
   "execution_count": 5,
   "id": "717e1387",
   "metadata": {},
   "outputs": [
    {
     "data": {
      "text/html": [
       "<div>\n",
       "<style scoped>\n",
       "    .dataframe tbody tr th:only-of-type {\n",
       "        vertical-align: middle;\n",
       "    }\n",
       "\n",
       "    .dataframe tbody tr th {\n",
       "        vertical-align: top;\n",
       "    }\n",
       "\n",
       "    .dataframe thead th {\n",
       "        text-align: right;\n",
       "    }\n",
       "</style>\n",
       "<table border=\"1\" class=\"dataframe\">\n",
       "  <thead>\n",
       "    <tr style=\"text-align: right;\">\n",
       "      <th></th>\n",
       "      <th>GAME_ID</th>\n",
       "      <th>game_date</th>\n",
       "      <th>TEAM</th>\n",
       "      <th>TEAM_ID</th>\n",
       "      <th>PERIOD</th>\n",
       "      <th>PLAYER_ID</th>\n",
       "      <th>MIN</th>\n",
       "      <th>FGM</th>\n",
       "      <th>FGA</th>\n",
       "      <th>FG_PCT</th>\n",
       "      <th>...</th>\n",
       "      <th>AST</th>\n",
       "      <th>TOV</th>\n",
       "      <th>STL</th>\n",
       "      <th>BLK</th>\n",
       "      <th>BLKA</th>\n",
       "      <th>PF</th>\n",
       "      <th>PFD</th>\n",
       "      <th>PTS</th>\n",
       "      <th>PLUS_MINUS</th>\n",
       "      <th>PLAYER_NAME</th>\n",
       "    </tr>\n",
       "  </thead>\n",
       "  <tbody>\n",
       "    <tr>\n",
       "      <th>0</th>\n",
       "      <td>22100001</td>\n",
       "      <td>2021-10-19</td>\n",
       "      <td>BKN</td>\n",
       "      <td>1610612751</td>\n",
       "      <td>All</td>\n",
       "      <td>200746</td>\n",
       "      <td>15.700</td>\n",
       "      <td>0</td>\n",
       "      <td>2</td>\n",
       "      <td>0.000</td>\n",
       "      <td>...</td>\n",
       "      <td>1</td>\n",
       "      <td>1</td>\n",
       "      <td>0</td>\n",
       "      <td>1</td>\n",
       "      <td>0</td>\n",
       "      <td>2</td>\n",
       "      <td>2</td>\n",
       "      <td>1</td>\n",
       "      <td>2</td>\n",
       "      <td>LaMarcus Aldridge</td>\n",
       "    </tr>\n",
       "    <tr>\n",
       "      <th>1</th>\n",
       "      <td>22100001</td>\n",
       "      <td>2021-10-19</td>\n",
       "      <td>BKN</td>\n",
       "      <td>1610612751</td>\n",
       "      <td>All</td>\n",
       "      <td>200794</td>\n",
       "      <td>5.217</td>\n",
       "      <td>0</td>\n",
       "      <td>0</td>\n",
       "      <td>0.000</td>\n",
       "      <td>...</td>\n",
       "      <td>0</td>\n",
       "      <td>1</td>\n",
       "      <td>0</td>\n",
       "      <td>1</td>\n",
       "      <td>0</td>\n",
       "      <td>0</td>\n",
       "      <td>0</td>\n",
       "      <td>0</td>\n",
       "      <td>-1</td>\n",
       "      <td>Paul Millsap</td>\n",
       "    </tr>\n",
       "    <tr>\n",
       "      <th>2</th>\n",
       "      <td>22100001</td>\n",
       "      <td>2021-10-19</td>\n",
       "      <td>BKN</td>\n",
       "      <td>1610612751</td>\n",
       "      <td>All</td>\n",
       "      <td>201142</td>\n",
       "      <td>30.250</td>\n",
       "      <td>13</td>\n",
       "      <td>25</td>\n",
       "      <td>0.520</td>\n",
       "      <td>...</td>\n",
       "      <td>4</td>\n",
       "      <td>1</td>\n",
       "      <td>0</td>\n",
       "      <td>2</td>\n",
       "      <td>3</td>\n",
       "      <td>2</td>\n",
       "      <td>5</td>\n",
       "      <td>32</td>\n",
       "      <td>-20</td>\n",
       "      <td>Kevin Durant</td>\n",
       "    </tr>\n",
       "    <tr>\n",
       "      <th>3</th>\n",
       "      <td>22100001</td>\n",
       "      <td>2021-10-19</td>\n",
       "      <td>MIL</td>\n",
       "      <td>1610612749</td>\n",
       "      <td>All</td>\n",
       "      <td>201572</td>\n",
       "      <td>28.167</td>\n",
       "      <td>3</td>\n",
       "      <td>9</td>\n",
       "      <td>0.333</td>\n",
       "      <td>...</td>\n",
       "      <td>0</td>\n",
       "      <td>0</td>\n",
       "      <td>1</td>\n",
       "      <td>3</td>\n",
       "      <td>2</td>\n",
       "      <td>3</td>\n",
       "      <td>0</td>\n",
       "      <td>8</td>\n",
       "      <td>0</td>\n",
       "      <td>Brook Lopez</td>\n",
       "    </tr>\n",
       "    <tr>\n",
       "      <th>4</th>\n",
       "      <td>22100001</td>\n",
       "      <td>2021-10-19</td>\n",
       "      <td>MIL</td>\n",
       "      <td>1610612749</td>\n",
       "      <td>All</td>\n",
       "      <td>201588</td>\n",
       "      <td>23.350</td>\n",
       "      <td>0</td>\n",
       "      <td>3</td>\n",
       "      <td>0.000</td>\n",
       "      <td>...</td>\n",
       "      <td>3</td>\n",
       "      <td>1</td>\n",
       "      <td>0</td>\n",
       "      <td>1</td>\n",
       "      <td>0</td>\n",
       "      <td>5</td>\n",
       "      <td>1</td>\n",
       "      <td>1</td>\n",
       "      <td>-6</td>\n",
       "      <td>George Hill</td>\n",
       "    </tr>\n",
       "  </tbody>\n",
       "</table>\n",
       "<p>5 rows × 29 columns</p>\n",
       "</div>"
      ],
      "text/plain": [
       "    GAME_ID   game_date TEAM     TEAM_ID PERIOD  PLAYER_ID     MIN  FGM  FGA  \\\n",
       "0  22100001  2021-10-19  BKN  1610612751    All     200746  15.700    0    2   \n",
       "1  22100001  2021-10-19  BKN  1610612751    All     200794   5.217    0    0   \n",
       "2  22100001  2021-10-19  BKN  1610612751    All     201142  30.250   13   25   \n",
       "3  22100001  2021-10-19  MIL  1610612749    All     201572  28.167    3    9   \n",
       "4  22100001  2021-10-19  MIL  1610612749    All     201588  23.350    0    3   \n",
       "\n",
       "   FG_PCT  ...  AST  TOV  STL  BLK  BLKA  PF  PFD  PTS  PLUS_MINUS  \\\n",
       "0   0.000  ...    1    1    0    1     0   2    2    1           2   \n",
       "1   0.000  ...    0    1    0    1     0   0    0    0          -1   \n",
       "2   0.520  ...    4    1    0    2     3   2    5   32         -20   \n",
       "3   0.333  ...    0    0    1    3     2   3    0    8           0   \n",
       "4   0.000  ...    3    1    0    1     0   5    1    1          -6   \n",
       "\n",
       "         PLAYER_NAME  \n",
       "0  LaMarcus Aldridge  \n",
       "1       Paul Millsap  \n",
       "2       Kevin Durant  \n",
       "3        Brook Lopez  \n",
       "4        George Hill  \n",
       "\n",
       "[5 rows x 29 columns]"
      ]
     },
     "execution_count": 5,
     "metadata": {},
     "output_type": "execute_result"
    }
   ],
   "source": [
    "# Start exploring data\n",
    "nba.head(5)"
   ]
  },
  {
   "cell_type": "code",
   "execution_count": 6,
   "id": "1f9d1dac",
   "metadata": {},
   "outputs": [
    {
     "data": {
      "text/html": [
       "<div>\n",
       "<style scoped>\n",
       "    .dataframe tbody tr th:only-of-type {\n",
       "        vertical-align: middle;\n",
       "    }\n",
       "\n",
       "    .dataframe tbody tr th {\n",
       "        vertical-align: top;\n",
       "    }\n",
       "\n",
       "    .dataframe thead th {\n",
       "        text-align: right;\n",
       "    }\n",
       "</style>\n",
       "<table border=\"1\" class=\"dataframe\">\n",
       "  <thead>\n",
       "    <tr style=\"text-align: right;\">\n",
       "      <th></th>\n",
       "      <th>GAME_ID</th>\n",
       "      <th>TEAM_ID</th>\n",
       "      <th>PLAYER_ID</th>\n",
       "      <th>MIN</th>\n",
       "      <th>FGM</th>\n",
       "      <th>FGA</th>\n",
       "      <th>FG_PCT</th>\n",
       "      <th>FG3M</th>\n",
       "      <th>FG3A</th>\n",
       "      <th>FG3_PCT</th>\n",
       "      <th>...</th>\n",
       "      <th>REB</th>\n",
       "      <th>AST</th>\n",
       "      <th>TOV</th>\n",
       "      <th>STL</th>\n",
       "      <th>BLK</th>\n",
       "      <th>BLKA</th>\n",
       "      <th>PF</th>\n",
       "      <th>PFD</th>\n",
       "      <th>PTS</th>\n",
       "      <th>PLUS_MINUS</th>\n",
       "    </tr>\n",
       "  </thead>\n",
       "  <tbody>\n",
       "    <tr>\n",
       "      <th>count</th>\n",
       "      <td>2.793000e+04</td>\n",
       "      <td>2.793000e+04</td>\n",
       "      <td>2.793000e+04</td>\n",
       "      <td>27930.000000</td>\n",
       "      <td>27930.000000</td>\n",
       "      <td>27930.000000</td>\n",
       "      <td>27930.000000</td>\n",
       "      <td>27930.000000</td>\n",
       "      <td>27930.000000</td>\n",
       "      <td>27930.000000</td>\n",
       "      <td>...</td>\n",
       "      <td>27930.000000</td>\n",
       "      <td>27930.000000</td>\n",
       "      <td>27930.000000</td>\n",
       "      <td>27930.000000</td>\n",
       "      <td>27930.000000</td>\n",
       "      <td>27930.000000</td>\n",
       "      <td>27930.000000</td>\n",
       "      <td>27930.000000</td>\n",
       "      <td>27930.000000</td>\n",
       "      <td>27930.000000</td>\n",
       "    </tr>\n",
       "    <tr>\n",
       "      <th>mean</th>\n",
       "      <td>2.345468e+07</td>\n",
       "      <td>1.610613e+09</td>\n",
       "      <td>1.179047e+06</td>\n",
       "      <td>22.755459</td>\n",
       "      <td>3.815575</td>\n",
       "      <td>8.281167</td>\n",
       "      <td>0.426556</td>\n",
       "      <td>1.171966</td>\n",
       "      <td>3.313713</td>\n",
       "      <td>0.254688</td>\n",
       "      <td>...</td>\n",
       "      <td>4.176656</td>\n",
       "      <td>2.313570</td>\n",
       "      <td>1.230648</td>\n",
       "      <td>0.716291</td>\n",
       "      <td>0.443502</td>\n",
       "      <td>0.443502</td>\n",
       "      <td>1.863158</td>\n",
       "      <td>1.863122</td>\n",
       "      <td>10.404977</td>\n",
       "      <td>0.000000</td>\n",
       "    </tr>\n",
       "    <tr>\n",
       "      <th>std</th>\n",
       "      <td>5.024768e+06</td>\n",
       "      <td>8.681019e+00</td>\n",
       "      <td>6.657292e+05</td>\n",
       "      <td>10.917661</td>\n",
       "      <td>3.187534</td>\n",
       "      <td>5.986824</td>\n",
       "      <td>0.254008</td>\n",
       "      <td>1.486799</td>\n",
       "      <td>3.067090</td>\n",
       "      <td>0.289562</td>\n",
       "      <td>...</td>\n",
       "      <td>3.464083</td>\n",
       "      <td>2.577287</td>\n",
       "      <td>1.401704</td>\n",
       "      <td>0.950301</td>\n",
       "      <td>0.787796</td>\n",
       "      <td>0.737417</td>\n",
       "      <td>1.483423</td>\n",
       "      <td>2.032707</td>\n",
       "      <td>8.617417</td>\n",
       "      <td>11.569457</td>\n",
       "    </tr>\n",
       "    <tr>\n",
       "      <th>min</th>\n",
       "      <td>2.210000e+07</td>\n",
       "      <td>1.610613e+09</td>\n",
       "      <td>2.207000e+03</td>\n",
       "      <td>0.000000</td>\n",
       "      <td>0.000000</td>\n",
       "      <td>0.000000</td>\n",
       "      <td>0.000000</td>\n",
       "      <td>0.000000</td>\n",
       "      <td>0.000000</td>\n",
       "      <td>0.000000</td>\n",
       "      <td>...</td>\n",
       "      <td>0.000000</td>\n",
       "      <td>0.000000</td>\n",
       "      <td>0.000000</td>\n",
       "      <td>0.000000</td>\n",
       "      <td>0.000000</td>\n",
       "      <td>0.000000</td>\n",
       "      <td>0.000000</td>\n",
       "      <td>0.000000</td>\n",
       "      <td>0.000000</td>\n",
       "      <td>-56.000000</td>\n",
       "    </tr>\n",
       "    <tr>\n",
       "      <th>25%</th>\n",
       "      <td>2.210032e+07</td>\n",
       "      <td>1.610613e+09</td>\n",
       "      <td>2.035520e+05</td>\n",
       "      <td>14.900000</td>\n",
       "      <td>1.000000</td>\n",
       "      <td>4.000000</td>\n",
       "      <td>0.286000</td>\n",
       "      <td>0.000000</td>\n",
       "      <td>1.000000</td>\n",
       "      <td>0.000000</td>\n",
       "      <td>...</td>\n",
       "      <td>2.000000</td>\n",
       "      <td>0.000000</td>\n",
       "      <td>0.000000</td>\n",
       "      <td>0.000000</td>\n",
       "      <td>0.000000</td>\n",
       "      <td>0.000000</td>\n",
       "      <td>1.000000</td>\n",
       "      <td>0.000000</td>\n",
       "      <td>4.000000</td>\n",
       "      <td>-7.000000</td>\n",
       "    </tr>\n",
       "    <tr>\n",
       "      <th>50%</th>\n",
       "      <td>2.210065e+07</td>\n",
       "      <td>1.610613e+09</td>\n",
       "      <td>1.628418e+06</td>\n",
       "      <td>23.683000</td>\n",
       "      <td>3.000000</td>\n",
       "      <td>7.000000</td>\n",
       "      <td>0.444000</td>\n",
       "      <td>1.000000</td>\n",
       "      <td>3.000000</td>\n",
       "      <td>0.200000</td>\n",
       "      <td>...</td>\n",
       "      <td>3.000000</td>\n",
       "      <td>2.000000</td>\n",
       "      <td>1.000000</td>\n",
       "      <td>0.000000</td>\n",
       "      <td>0.000000</td>\n",
       "      <td>0.000000</td>\n",
       "      <td>2.000000</td>\n",
       "      <td>1.000000</td>\n",
       "      <td>9.000000</td>\n",
       "      <td>0.000000</td>\n",
       "    </tr>\n",
       "    <tr>\n",
       "      <th>75%</th>\n",
       "      <td>2.210098e+07</td>\n",
       "      <td>1.610613e+09</td>\n",
       "      <td>1.629680e+06</td>\n",
       "      <td>31.602250</td>\n",
       "      <td>6.000000</td>\n",
       "      <td>12.000000</td>\n",
       "      <td>0.571000</td>\n",
       "      <td>2.000000</td>\n",
       "      <td>5.000000</td>\n",
       "      <td>0.500000</td>\n",
       "      <td>...</td>\n",
       "      <td>6.000000</td>\n",
       "      <td>3.000000</td>\n",
       "      <td>2.000000</td>\n",
       "      <td>1.000000</td>\n",
       "      <td>1.000000</td>\n",
       "      <td>1.000000</td>\n",
       "      <td>3.000000</td>\n",
       "      <td>3.000000</td>\n",
       "      <td>15.000000</td>\n",
       "      <td>7.000000</td>\n",
       "    </tr>\n",
       "    <tr>\n",
       "      <th>max</th>\n",
       "      <td>4.210041e+07</td>\n",
       "      <td>1.610613e+09</td>\n",
       "      <td>1.630994e+06</td>\n",
       "      <td>56.517000</td>\n",
       "      <td>22.000000</td>\n",
       "      <td>37.000000</td>\n",
       "      <td>1.000000</td>\n",
       "      <td>11.000000</td>\n",
       "      <td>20.000000</td>\n",
       "      <td>1.000000</td>\n",
       "      <td>...</td>\n",
       "      <td>25.000000</td>\n",
       "      <td>19.000000</td>\n",
       "      <td>10.000000</td>\n",
       "      <td>8.000000</td>\n",
       "      <td>8.000000</td>\n",
       "      <td>6.000000</td>\n",
       "      <td>6.000000</td>\n",
       "      <td>17.000000</td>\n",
       "      <td>60.000000</td>\n",
       "      <td>52.000000</td>\n",
       "    </tr>\n",
       "  </tbody>\n",
       "</table>\n",
       "<p>8 rows × 25 columns</p>\n",
       "</div>"
      ],
      "text/plain": [
       "            GAME_ID       TEAM_ID     PLAYER_ID           MIN           FGM  \\\n",
       "count  2.793000e+04  2.793000e+04  2.793000e+04  27930.000000  27930.000000   \n",
       "mean   2.345468e+07  1.610613e+09  1.179047e+06     22.755459      3.815575   \n",
       "std    5.024768e+06  8.681019e+00  6.657292e+05     10.917661      3.187534   \n",
       "min    2.210000e+07  1.610613e+09  2.207000e+03      0.000000      0.000000   \n",
       "25%    2.210032e+07  1.610613e+09  2.035520e+05     14.900000      1.000000   \n",
       "50%    2.210065e+07  1.610613e+09  1.628418e+06     23.683000      3.000000   \n",
       "75%    2.210098e+07  1.610613e+09  1.629680e+06     31.602250      6.000000   \n",
       "max    4.210041e+07  1.610613e+09  1.630994e+06     56.517000     22.000000   \n",
       "\n",
       "                FGA        FG_PCT          FG3M          FG3A       FG3_PCT  \\\n",
       "count  27930.000000  27930.000000  27930.000000  27930.000000  27930.000000   \n",
       "mean       8.281167      0.426556      1.171966      3.313713      0.254688   \n",
       "std        5.986824      0.254008      1.486799      3.067090      0.289562   \n",
       "min        0.000000      0.000000      0.000000      0.000000      0.000000   \n",
       "25%        4.000000      0.286000      0.000000      1.000000      0.000000   \n",
       "50%        7.000000      0.444000      1.000000      3.000000      0.200000   \n",
       "75%       12.000000      0.571000      2.000000      5.000000      0.500000   \n",
       "max       37.000000      1.000000     11.000000     20.000000      1.000000   \n",
       "\n",
       "       ...           REB           AST           TOV           STL  \\\n",
       "count  ...  27930.000000  27930.000000  27930.000000  27930.000000   \n",
       "mean   ...      4.176656      2.313570      1.230648      0.716291   \n",
       "std    ...      3.464083      2.577287      1.401704      0.950301   \n",
       "min    ...      0.000000      0.000000      0.000000      0.000000   \n",
       "25%    ...      2.000000      0.000000      0.000000      0.000000   \n",
       "50%    ...      3.000000      2.000000      1.000000      0.000000   \n",
       "75%    ...      6.000000      3.000000      2.000000      1.000000   \n",
       "max    ...     25.000000     19.000000     10.000000      8.000000   \n",
       "\n",
       "                BLK          BLKA            PF           PFD           PTS  \\\n",
       "count  27930.000000  27930.000000  27930.000000  27930.000000  27930.000000   \n",
       "mean       0.443502      0.443502      1.863158      1.863122     10.404977   \n",
       "std        0.787796      0.737417      1.483423      2.032707      8.617417   \n",
       "min        0.000000      0.000000      0.000000      0.000000      0.000000   \n",
       "25%        0.000000      0.000000      1.000000      0.000000      4.000000   \n",
       "50%        0.000000      0.000000      2.000000      1.000000      9.000000   \n",
       "75%        1.000000      1.000000      3.000000      3.000000     15.000000   \n",
       "max        8.000000      6.000000      6.000000     17.000000     60.000000   \n",
       "\n",
       "         PLUS_MINUS  \n",
       "count  27930.000000  \n",
       "mean       0.000000  \n",
       "std       11.569457  \n",
       "min      -56.000000  \n",
       "25%       -7.000000  \n",
       "50%        0.000000  \n",
       "75%        7.000000  \n",
       "max       52.000000  \n",
       "\n",
       "[8 rows x 25 columns]"
      ]
     },
     "execution_count": 6,
     "metadata": {},
     "output_type": "execute_result"
    }
   ],
   "source": [
    "nba.describe()"
   ]
  },
  {
   "cell_type": "code",
   "execution_count": 9,
   "id": "45565558",
   "metadata": {},
   "outputs": [
    {
     "data": {
      "text/plain": [
       "(27930, 29)"
      ]
     },
     "execution_count": 9,
     "metadata": {},
     "output_type": "execute_result"
    }
   ],
   "source": [
    "nba.shape"
   ]
  },
  {
   "cell_type": "code",
   "execution_count": 10,
   "id": "c0b6db9f",
   "metadata": {},
   "outputs": [
    {
     "name": "stdout",
     "output_type": "stream",
     "text": [
      "<class 'pandas.core.frame.DataFrame'>\n",
      "RangeIndex: 27930 entries, 0 to 27929\n",
      "Data columns (total 29 columns):\n",
      " #   Column       Non-Null Count  Dtype  \n",
      "---  ------       --------------  -----  \n",
      " 0   GAME_ID      27930 non-null  int64  \n",
      " 1   game_date    27930 non-null  object \n",
      " 2   TEAM         27930 non-null  object \n",
      " 3   TEAM_ID      27930 non-null  int64  \n",
      " 4   PERIOD       27930 non-null  object \n",
      " 5   PLAYER_ID    27930 non-null  int64  \n",
      " 6   MIN          27930 non-null  float64\n",
      " 7   FGM          27930 non-null  int64  \n",
      " 8   FGA          27930 non-null  int64  \n",
      " 9   FG_PCT       27930 non-null  float64\n",
      " 10  FG3M         27930 non-null  int64  \n",
      " 11  FG3A         27930 non-null  int64  \n",
      " 12  FG3_PCT      27930 non-null  float64\n",
      " 13  FTM          27930 non-null  int64  \n",
      " 14  FTA          27930 non-null  int64  \n",
      " 15  FT_PCT       27930 non-null  float64\n",
      " 16  OREB         27930 non-null  int64  \n",
      " 17  DREB         27930 non-null  int64  \n",
      " 18  REB          27930 non-null  int64  \n",
      " 19  AST          27930 non-null  int64  \n",
      " 20  TOV          27930 non-null  int64  \n",
      " 21  STL          27930 non-null  int64  \n",
      " 22  BLK          27930 non-null  int64  \n",
      " 23  BLKA         27930 non-null  int64  \n",
      " 24  PF           27930 non-null  int64  \n",
      " 25  PFD          27930 non-null  int64  \n",
      " 26  PTS          27930 non-null  int64  \n",
      " 27  PLUS_MINUS   27930 non-null  int64  \n",
      " 28  PLAYER_NAME  27930 non-null  object \n",
      "dtypes: float64(4), int64(21), object(4)\n",
      "memory usage: 6.2+ MB\n"
     ]
    }
   ],
   "source": [
    "nba.info()"
   ]
  },
  {
   "cell_type": "markdown",
   "id": "9d238eae",
   "metadata": {},
   "source": [
    "## Problem A"
   ]
  },
  {
   "cell_type": "code",
   "execution_count": 227,
   "id": "d0ad44ce",
   "metadata": {},
   "outputs": [],
   "source": [
    "# Sorting by player name and game date\n",
    "nba_sorted = nba.sort_values(by=['PLAYER_NAME', 'game_date'])\n",
    "grouped_player = nba_sorted.groupby('PLAYER_NAME')\n",
    "last_5 = grouped_player.head(5).sum()"
   ]
  },
  {
   "cell_type": "code",
   "execution_count": 228,
   "id": "a5cd60ec",
   "metadata": {},
   "outputs": [],
   "source": [
    "# Grouping by the player name, looping through to just the 5 most recent games\n",
    "# Making sure to account for players playing less than 5 games\n",
    "grouped_players = nba_sorted.groupby(\"PLAYER_NAME\")\n",
    "last_5 = pd.DataFrame()\n",
    "\n",
    "for _, group in grouped_players:\n",
    "    select_group = group.tail(5)\n",
    "    last_5 = pd.concat([last_5, select_group])"
   ]
  },
  {
   "cell_type": "code",
   "execution_count": 229,
   "id": "8865efc4",
   "metadata": {},
   "outputs": [],
   "source": [
    "# Adding totals for stats in the last 5 games\n",
    "distinct = last_5.groupby('PLAYER_NAME').sum()"
   ]
  },
  {
   "cell_type": "code",
   "execution_count": 230,
   "id": "74abd6ac",
   "metadata": {},
   "outputs": [],
   "source": [
    "# Getting per minute totals\n",
    "total_per_min = distinct['MIN']\n",
    "per_min = distinct.div(total_per_min, axis='index')"
   ]
  },
  {
   "cell_type": "code",
   "execution_count": 242,
   "id": "3fc0bbce",
   "metadata": {},
   "outputs": [],
   "source": [
    "# Multiplying by 28 to get per 28 totals\n",
    "per_28 = per_min.multiply(28)"
   ]
  },
  {
   "cell_type": "code",
   "execution_count": 243,
   "id": "505ec085",
   "metadata": {},
   "outputs": [],
   "source": [
    "# rearranging and dropping columns\n",
    "drop = [0, 1, 3]\n",
    "per_28 = per_28.drop(per_28.columns[drop],axis=1)"
   ]
  },
  {
   "cell_type": "code",
   "execution_count": 244,
   "id": "8bc633d5",
   "metadata": {},
   "outputs": [],
   "source": [
    "# Preparing to move these to end\n",
    "percent = per_28[[\"FG_PCT\", \"FG3_PCT\", \"FT_PCT\"]]"
   ]
  },
  {
   "cell_type": "code",
   "execution_count": 245,
   "id": "2fa18b8e",
   "metadata": {},
   "outputs": [],
   "source": [
    "#Dropping percent columns and adding them onto end\n",
    "columns_move = [\"FG_PCT\", \"FG3_PCT\", \"FT_PCT\"]\n",
    "\n",
    "per_28 = per_28.drop(columns_move, axis=1)\n",
    "\n",
    "per_28 = pd.merge(per_28, percent, on=\"PLAYER_NAME\", how='inner')"
   ]
  },
  {
   "cell_type": "code",
   "execution_count": 246,
   "id": "9b123d7b",
   "metadata": {},
   "outputs": [],
   "source": [
    "# Exporting to csv\n",
    "per_28.to_csv(\"players_per_28.csv\", index=False)"
   ]
  },
  {
   "cell_type": "markdown",
   "id": "9a26fe52",
   "metadata": {},
   "source": [
    "## Problem B"
   ]
  },
  {
   "cell_type": "code",
   "execution_count": 90,
   "id": "dbbe5402",
   "metadata": {},
   "outputs": [
    {
     "data": {
      "text/plain": [
       "array(['BKN', 'MIL', 'LAL', 'GSW', 'CHA', 'IND', 'CHI', 'DET', 'NYK',\n",
       "       'BOS', 'TOR', 'WAS', 'CLE', 'MEM', 'HOU', 'MIN', 'PHI', 'NOP',\n",
       "       'ORL', 'SAS', 'UTA', 'OKC', 'PHX', 'DEN', 'SAC', 'POR', 'ATL',\n",
       "       'DAL', 'MIA', 'LAC'], dtype=object)"
      ]
     },
     "execution_count": 90,
     "metadata": {},
     "output_type": "execute_result"
    }
   ],
   "source": [
    "# Printing out the team shorthand\n",
    "teams = nba[\"TEAM\"].unique()\n",
    "teams"
   ]
  },
  {
   "cell_type": "code",
   "execution_count": 221,
   "id": "17d0a4c1",
   "metadata": {},
   "outputs": [],
   "source": [
    "# Creating a list of just the playoff teams\n",
    "playoff_teams = {\"MIA\", \"ATL\", 'PHI', \"TOR\", \"MIL\", \"CHI\", \"BOS\", \"BKN\", \"PHX\", \"NOP\", \"DAL\", \"UTA\", \"GSW\", \"DEN\", \"MEM\", \"MIN\"}"
   ]
  },
  {
   "cell_type": "code",
   "execution_count": 222,
   "id": "0ed9d670",
   "metadata": {},
   "outputs": [],
   "source": [
    "# Creating a dataframe of just the playoff teams\n",
    "playoffs = nba[nba[\"TEAM\"].isin(playoff_teams)]"
   ]
  },
  {
   "cell_type": "code",
   "execution_count": 223,
   "id": "f6f1f858",
   "metadata": {},
   "outputs": [],
   "source": [
    "# Filtering for players who ONLY played in the playoffs\n",
    "playoff_start = '2022-04-16'\n",
    "only_playoffs = playoffs.groupby('PLAYER_NAME').filter(lambda x: (x['game_date'] >= playoff_start).all())"
   ]
  },
  {
   "cell_type": "code",
   "execution_count": 224,
   "id": "75b576cd",
   "metadata": {},
   "outputs": [],
   "source": [
    "# Removing Duplicates\n",
    "only_playoffs = only_playoffs.drop_duplicates(subset=\"PLAYER_ID\")"
   ]
  },
  {
   "cell_type": "code",
   "execution_count": 225,
   "id": "1ca960ed",
   "metadata": {},
   "outputs": [],
   "source": [
    "# Narrowing down to just the columns we want\n",
    "keep = [\"PLAYER_ID\", \"PLAYER_NAME\"]\n",
    "only_playoffs = only_playoffs.drop(columns=only_playoffs.columns.difference(keep))"
   ]
  },
  {
   "cell_type": "code",
   "execution_count": 88,
   "id": "0ccc2538",
   "metadata": {},
   "outputs": [],
   "source": [
    "# Exporting to csv\n",
    "only_playoffs.to_csv(\"playoffs_only.csv\", index=False)"
   ]
  },
  {
   "cell_type": "code",
   "execution_count": 226,
   "id": "a5a0be59",
   "metadata": {},
   "outputs": [],
   "source": [
    "# Filtering for players who only played the regular season, dropping duplicates\n",
    "# Narrowing down to just the columns we want\n",
    "no_playoffs = playoffs.groupby('PLAYER_NAME').filter(lambda x: (x['game_date'] < playoff_start).all())\n",
    "no_playoffs = no_playoffs.drop_duplicates(subset=\"PLAYER_ID\")\n",
    "no_playoffs = no_playoffs.drop(columns=no_playoffs.columns.difference(keep))"
   ]
  },
  {
   "cell_type": "code",
   "execution_count": 89,
   "id": "4f223ddb",
   "metadata": {},
   "outputs": [],
   "source": [
    "# Exporting to csv\n",
    "no_playoffs.to_csv(\"regular_season_only.csv\", index=False)"
   ]
  },
  {
   "cell_type": "markdown",
   "id": "c072021e",
   "metadata": {},
   "source": [
    "## Problem C"
   ]
  },
  {
   "cell_type": "code",
   "execution_count": 202,
   "id": "b80e3d61",
   "metadata": {},
   "outputs": [],
   "source": [
    "# Establishing all star game date and making data frame of only games before ASG\n",
    "all_star_date = \"2022-02-20\"\n",
    "before_break = nba[nba[\"game_date\"] < all_star_date]"
   ]
  },
  {
   "cell_type": "code",
   "execution_count": 203,
   "id": "9fed7486",
   "metadata": {},
   "outputs": [],
   "source": [
    "# Counting how many games each player played before ASG\n",
    "before_break_games = before_break.groupby('PLAYER_NAME').count()"
   ]
  },
  {
   "cell_type": "code",
   "execution_count": 204,
   "id": "0fbf5a70",
   "metadata": {},
   "outputs": [],
   "source": [
    "# Making a df of just their games played total before ASG\n",
    "remain = [\"PLAYER_NAME\", \"GAME_ID\"]\n",
    "before_break_games = before_break_games.drop(columns=before_break_games.columns.difference(remain))\n",
    "before_break_games = before_break_games.rename(columns={\"GAME_ID\": \"GAMES_PLAYED\"})"
   ]
  },
  {
   "cell_type": "code",
   "execution_count": 205,
   "id": "ef72dd64",
   "metadata": {},
   "outputs": [],
   "source": [
    "# Seeing how many minutes each player played total before ASG, also getting box score stats\n",
    "before_break_minutes = before_break.groupby('PLAYER_NAME').sum()"
   ]
  },
  {
   "cell_type": "code",
   "execution_count": 206,
   "id": "05bcc1c0",
   "metadata": {},
   "outputs": [],
   "source": [
    "# Finding minutes per game for filtering later\n",
    "before_break_minutues = pd.merge(before_break_minutes, before_break_games, on=\"PLAYER_NAME\")"
   ]
  },
  {
   "cell_type": "code",
   "execution_count": 207,
   "id": "8419d113",
   "metadata": {},
   "outputs": [],
   "source": [
    "# Merging dataframes\n",
    "total_per_game = before_break_minutues['GAMES_PLAYED']\n",
    "per_game = before_break_minutues.div(total_per_game, axis='index')\n",
    "per_game = pd.merge(per_game, before_break_games, on=\"PLAYER_NAME\")"
   ]
  },
  {
   "cell_type": "code",
   "execution_count": 208,
   "id": "1225a4b9",
   "metadata": {},
   "outputs": [],
   "source": [
    "# Filter out players who played less than 15 games or 15 MPG\n",
    "only_ballers_before = per_game[(per_game[\"MIN\"] > 15) & (per_game[\"GAMES_PLAYED_y\"] > 15)]"
   ]
  },
  {
   "cell_type": "markdown",
   "id": "e5b27a38",
   "metadata": {},
   "source": [
    "# Post All Star Break Data"
   ]
  },
  {
   "cell_type": "code",
   "execution_count": 209,
   "id": "921a04ad",
   "metadata": {},
   "outputs": [],
   "source": [
    "# Filtering for only games after the all star break.\n",
    "# **Including playoffs\n",
    "after_break = nba[nba[\"game_date\"] > all_star_date]"
   ]
  },
  {
   "cell_type": "code",
   "execution_count": 210,
   "id": "bc27ca5d",
   "metadata": {},
   "outputs": [],
   "source": [
    "# Counting games played after ASG\n",
    "after_break_games = after_break.groupby('PLAYER_NAME').count()"
   ]
  },
  {
   "cell_type": "code",
   "execution_count": 211,
   "id": "506f3b17",
   "metadata": {},
   "outputs": [],
   "source": [
    "# making df of just total games played after ASG\n",
    "remain = [\"PLAYER_NAME\", \"GAME_ID\"]\n",
    "after_break_games = after_break_games.drop(columns=after_break_games.columns.difference(remain))\n",
    "after_break_games = after_break_games.rename(columns={\"GAME_ID\": \"GAMES_PLAYED\"})"
   ]
  },
  {
   "cell_type": "code",
   "execution_count": 212,
   "id": "52084e29",
   "metadata": {},
   "outputs": [],
   "source": [
    "# Getting box scores and total minutes\n",
    "after_break_minutes = after_break.groupby('PLAYER_NAME').sum()"
   ]
  },
  {
   "cell_type": "code",
   "execution_count": 213,
   "id": "f822296c",
   "metadata": {},
   "outputs": [],
   "source": [
    "# Merging dataframes\n",
    "after_break_minutues = pd.merge(after_break_minutes, after_break_games, on=\"PLAYER_NAME\")"
   ]
  },
  {
   "cell_type": "code",
   "execution_count": 214,
   "id": "3f7f908b",
   "metadata": {},
   "outputs": [],
   "source": [
    "# Merging\n",
    "total_per_game = after_break_minutues['GAMES_PLAYED']\n",
    "per_game = after_break_minutues.div(total_per_game, axis='index')\n",
    "per_game = pd.merge(per_game, after_break_games, on=\"PLAYER_NAME\")"
   ]
  },
  {
   "cell_type": "code",
   "execution_count": 215,
   "id": "654223d4",
   "metadata": {},
   "outputs": [],
   "source": [
    "# Filter out players who played less than 15 games or 15 MPG\n",
    "only_ballers_after = per_game[(per_game[\"MIN\"] > 15) & (per_game[\"GAMES_PLAYED_y\"] > 15)]"
   ]
  },
  {
   "cell_type": "code",
   "execution_count": 216,
   "id": "7c50b71c",
   "metadata": {},
   "outputs": [],
   "source": [
    "# Finding players who BOTH played 15 games and 15 MPG before and after ASG\n",
    "player_ids_after = only_ballers_after[\"PLAYER_ID\"].unique()\n",
    "only_before_filtered = only_ballers_before[only_ballers_before[\"PLAYER_ID\"].isin(player_ids_after)]"
   ]
  },
  {
   "cell_type": "code",
   "execution_count": 217,
   "id": "fdc5b807",
   "metadata": {},
   "outputs": [],
   "source": [
    "# Finding players who BOTH played 15 games and 15 MPG before and after ASG\n",
    "player_ids_before = only_before_filtered[\"PLAYER_ID\"].unique()\n",
    "only_after_filtered = only_ballers_after[only_ballers_after[\"PLAYER_ID\"].isin(player_ids_before)]"
   ]
  },
  {
   "cell_type": "markdown",
   "id": "2c15bc44",
   "metadata": {},
   "source": [
    "Logistic Regression"
   ]
  },
  {
   "cell_type": "code",
   "execution_count": 219,
   "id": "d0467516",
   "metadata": {},
   "outputs": [
    {
     "name": "stdout",
     "output_type": "stream",
     "text": [
      "Optimization terminated successfully.\n",
      "         Current function value: 0.292395\n",
      "         Iterations 8\n",
      "PREDICTOR: FG3A, P_VALUE: 6.406093891005353e-05\n",
      "PREDICTOR: FTA, P_VALUE: 0.0003814836394918302\n"
     ]
    }
   ],
   "source": [
    "# Implementing Logistic Regression using statsmodels\n",
    "\n",
    "import statsmodels.api as sm\n",
    "\n",
    "columns = [\"FG_PCT\", \"FG3A\", \"FTA\", \"AST\", \"TOV\", \"OREB\"]\n",
    "\n",
    "X = only_before_filtered[columns]\n",
    "\n",
    "X = sm.add_constant(X)\n",
    "\n",
    "y = only_after_filtered[\"PTS\"] > 15\n",
    "\n",
    "model = sm.Logit(y, X)\n",
    "results = model.fit()\n",
    "\n",
    "summary = results.summary()\n",
    "\n",
    "p_values = results.pvalues[1:]\n",
    "\n",
    "significant = p_values[p_values < 0.05]\n",
    "\n",
    "for predictor, p_value in significant.items():\n",
    "    print(f\"PREDICTOR: {predictor}, P_VALUE: {p_value}\")    "
   ]
  },
  {
   "cell_type": "code",
   "execution_count": 220,
   "id": "7aec03e1",
   "metadata": {},
   "outputs": [],
   "source": [
    "# Creating dataframe for consistency\n",
    "significant = pd.DataFrame({\"PREDICTOR\": significant.index, \"P_VALUE\": significant.values})"
   ]
  },
  {
   "cell_type": "code",
   "execution_count": 179,
   "id": "3452e0d8",
   "metadata": {},
   "outputs": [],
   "source": [
    "# Exporting to csv\n",
    "significant.to_csv(\"logistic_results.csv\", index=False)"
   ]
  },
  {
   "cell_type": "code",
   "execution_count": 170,
   "id": "1c6d9e48",
   "metadata": {},
   "outputs": [
    {
     "name": "stdout",
     "output_type": "stream",
     "text": [
      "FG_PCT: 0.29637502165330354\n",
      "FG3A: 0.5041264800395177\n",
      "FTA: 0.9472370738698966\n",
      "AST: 0.10765618869647844\n",
      "TOV: 0.9231626610839178\n",
      "OREB: 0.2105829206687878\n",
      "Intercept: [-7.2444411]\n"
     ]
    }
   ],
   "source": [
    "# Performing sklearn LogisticRegression just to compare results\n",
    "from sklearn.linear_model import LogisticRegression\n",
    "\n",
    "columns = [\"FG_PCT\", \"FG3A\", \"FTA\", \"AST\", \"TOV\", \"OREB\"]\n",
    "\n",
    "X = only_before_filtered[columns]\n",
    "\n",
    "y = (only_after_filtered['PTS'] > 15).astype(int)\n",
    "\n",
    "model = LogisticRegression()\n",
    "\n",
    "model.fit(X,y)\n",
    "\n",
    "coefficients = model.coef_\n",
    "intercept = model.intercept_\n",
    "\n",
    "for predictor, coef in zip(columns, coefficients[0]):\n",
    "    print(f\"{predictor}: {coef}\")\n",
    "    \n",
    "print(f\"Intercept: {intercept}\")"
   ]
  },
  {
   "cell_type": "markdown",
   "id": "5f8ee0d6",
   "metadata": {},
   "source": [
    "## Problem D"
   ]
  },
  {
   "cell_type": "code",
   "execution_count": 180,
   "id": "8b924a01",
   "metadata": {},
   "outputs": [
    {
     "data": {
      "text/plain": [
       "array(['BKN', 'MIL', 'LAL', 'GSW', 'CHA', 'IND', 'CHI', 'DET', 'NYK',\n",
       "       'BOS', 'TOR', 'WAS', 'CLE', 'MEM', 'HOU', 'MIN', 'PHI', 'NOP',\n",
       "       'ORL', 'SAS', 'UTA', 'OKC', 'PHX', 'DEN', 'SAC', 'POR', 'ATL',\n",
       "       'DAL', 'MIA', 'LAC'], dtype=object)"
      ]
     },
     "execution_count": 180,
     "metadata": {},
     "output_type": "execute_result"
    }
   ],
   "source": [
    "# Printing out the team shorthand\n",
    "teams = nba[\"TEAM\"].unique()\n",
    "teams"
   ]
  },
  {
   "cell_type": "code",
   "execution_count": 181,
   "id": "f1c83a7b",
   "metadata": {},
   "outputs": [],
   "source": [
    "#Establishing the eastern conference teams\n",
    "\n",
    "east = ['BKN', 'MIL', 'CHA', 'IND', 'CHI', 'DET', 'NYK',\n",
    "       'BOS', 'TOR', 'WAS', 'CLE', 'PHI', 'ORL', 'ATL', 'MIA']"
   ]
  },
  {
   "cell_type": "code",
   "execution_count": 191,
   "id": "a0a08f8b",
   "metadata": {},
   "outputs": [],
   "source": [
    "# Creating a dataframe with just teams from the east and games in December\n",
    "eastern_teams = nba[nba[\"TEAM\"].isin(east)]\n",
    "december_east = eastern_teams[eastern_teams[\"game_date\"].str.startswith('2021-12')]"
   ]
  },
  {
   "cell_type": "code",
   "execution_count": 201,
   "id": "a67eaf44",
   "metadata": {},
   "outputs": [
    {
     "data": {
      "text/plain": [
       "<Figure size 864x576 with 0 Axes>"
      ]
     },
     "metadata": {},
     "output_type": "display_data"
    },
    {
     "data": {
      "image/png": "[encoded data removed]",
      "text/plain": [
       "<Figure size 864x864 with 15 Axes>"
      ]
     },
     "metadata": {
      "needs_background": "light"
     },
     "output_type": "display_data"
    }
   ],
   "source": [
    "import seaborn as sns\n",
    "import matplotlib.pyplot as plt\n",
    "\n",
    "plt.figure(figsize=(12,8))\n",
    "\n",
    "grid = sns.FacetGrid(december_east, col=\"TEAM\", col_wrap=4)\n",
    "\n",
    "grid.map(plt.hist, \"PTS\", bins=10, color=\"purple\")\n",
    "\n",
    "grid.set_titles(\"{col_name}\")\n",
    "\n",
    "grid.set_xlabels(\"Individual Point Totals by Player\")\n",
    "\n",
    "plt.savefig('team_points_dist.jpg', dpi=300)\n",
    "\n",
    "plt.show()"
   ]
  }
 ],
 "metadata": {
  "kernelspec": {
   "display_name": "Python 3 (ipykernel)",
   "language": "python",
   "name": "python3"
  },
  "language_info": {
   "codemirror_mode": {
    "name": "ipython",
    "version": 3
   },
   "file_extension": ".py",
   "mimetype": "text/x-python",
   "name": "python",
   "nbconvert_exporter": "python",
   "pygments_lexer": "ipython3",
   "version": "3.10.6"
  }
 },
 "nbformat": 4,
 "nbformat_minor": 5
}
