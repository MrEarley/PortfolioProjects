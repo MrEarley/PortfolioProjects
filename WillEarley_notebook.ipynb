{
 "cells": [
  {
   "cell_type": "markdown",
   "id": "2336f8ac",
   "metadata": {},
   "source": [
    "## Will Earley Script\n",
    "\n",
    "Thank you for this opportunity. I really enjoyed putting together this assignment. I focused on explainability here so that is why some commands are a bit more explicit or redundant than I typically would implement. Thanks again!"
   ]
  },
  {
   "cell_type": "code",
   "execution_count": 51,
   "id": "7a261306",
   "metadata": {},
   "outputs": [],
   "source": [
    "# import libraries and read in data\n",
    "import pandas as pd\n",
    "\n",
    "owners = pd.read_csv('/Users/williamearley/Broncos/owners.csv')\n",
    "pets = pd.read_csv('/Users/williamearley/Broncos/pets.csv')\n",
    "procedure_details = pd.read_csv('/Users/williamearley/Broncos/procedure_details.csv')\n",
    "procedures = pd.read_csv('/Users/williamearley/Broncos/procedures.csv')"
   ]
  },
  {
   "cell_type": "code",
   "execution_count": 2,
   "id": "7fff3f36",
   "metadata": {},
   "outputs": [
    {
     "data": {
      "text/html": [
       "<div>\n",
       "<style scoped>\n",
       "    .dataframe tbody tr th:only-of-type {\n",
       "        vertical-align: middle;\n",
       "    }\n",
       "\n",
       "    .dataframe tbody tr th {\n",
       "        vertical-align: top;\n",
       "    }\n",
       "\n",
       "    .dataframe thead th {\n",
       "        text-align: right;\n",
       "    }\n",
       "</style>\n",
       "<table border=\"1\" class=\"dataframe\">\n",
       "  <thead>\n",
       "    <tr style=\"text-align: right;\">\n",
       "      <th></th>\n",
       "      <th>OwnerID</th>\n",
       "      <th>Name</th>\n",
       "      <th>Surname</th>\n",
       "      <th>StreetAddress</th>\n",
       "      <th>City</th>\n",
       "      <th>State</th>\n",
       "      <th>StateFull</th>\n",
       "      <th>ZipCode</th>\n",
       "    </tr>\n",
       "  </thead>\n",
       "  <tbody>\n",
       "    <tr>\n",
       "      <th>0</th>\n",
       "      <td>6049</td>\n",
       "      <td>Debbie</td>\n",
       "      <td>Metivier</td>\n",
       "      <td>315 Goff Avenue</td>\n",
       "      <td>Grand Rapids</td>\n",
       "      <td>MI</td>\n",
       "      <td>Michigan</td>\n",
       "      <td>49503</td>\n",
       "    </tr>\n",
       "    <tr>\n",
       "      <th>1</th>\n",
       "      <td>2863</td>\n",
       "      <td>John</td>\n",
       "      <td>Sebastian</td>\n",
       "      <td>3221 Perry Street</td>\n",
       "      <td>Davison</td>\n",
       "      <td>MI</td>\n",
       "      <td>Michigan</td>\n",
       "      <td>48423</td>\n",
       "    </tr>\n",
       "    <tr>\n",
       "      <th>2</th>\n",
       "      <td>3518</td>\n",
       "      <td>Connie</td>\n",
       "      <td>Pauley</td>\n",
       "      <td>1539 Cunningham Court</td>\n",
       "      <td>Bloomfield Township</td>\n",
       "      <td>MI</td>\n",
       "      <td>Michigan</td>\n",
       "      <td>48302</td>\n",
       "    </tr>\n",
       "    <tr>\n",
       "      <th>3</th>\n",
       "      <td>3663</td>\n",
       "      <td>Lena</td>\n",
       "      <td>Haliburton</td>\n",
       "      <td>4217 Twin Oaks Drive</td>\n",
       "      <td>Traverse City</td>\n",
       "      <td>MI</td>\n",
       "      <td>Michigan</td>\n",
       "      <td>49684</td>\n",
       "    </tr>\n",
       "    <tr>\n",
       "      <th>4</th>\n",
       "      <td>1070</td>\n",
       "      <td>Jessica</td>\n",
       "      <td>Velazquez</td>\n",
       "      <td>3861 Woodbridge Lane</td>\n",
       "      <td>Southfield</td>\n",
       "      <td>MI</td>\n",
       "      <td>Michigan</td>\n",
       "      <td>48034</td>\n",
       "    </tr>\n",
       "  </tbody>\n",
       "</table>\n",
       "</div>"
      ],
      "text/plain": [
       "   OwnerID     Name     Surname          StreetAddress                 City  \\\n",
       "0     6049   Debbie    Metivier        315 Goff Avenue         Grand Rapids   \n",
       "1     2863     John   Sebastian      3221 Perry Street              Davison   \n",
       "2     3518   Connie      Pauley  1539 Cunningham Court  Bloomfield Township   \n",
       "3     3663     Lena  Haliburton   4217 Twin Oaks Drive        Traverse City   \n",
       "4     1070  Jessica   Velazquez   3861 Woodbridge Lane           Southfield   \n",
       "\n",
       "  State StateFull  ZipCode  \n",
       "0    MI  Michigan    49503  \n",
       "1    MI  Michigan    48423  \n",
       "2    MI  Michigan    48302  \n",
       "3    MI  Michigan    49684  \n",
       "4    MI  Michigan    48034  "
      ]
     },
     "execution_count": 2,
     "metadata": {},
     "output_type": "execute_result"
    }
   ],
   "source": [
    "# Exploring the data\n",
    "owners.head(5)"
   ]
  },
  {
   "cell_type": "code",
   "execution_count": 4,
   "id": "444ed395",
   "metadata": {},
   "outputs": [
    {
     "data": {
      "text/html": [
       "<div>\n",
       "<style scoped>\n",
       "    .dataframe tbody tr th:only-of-type {\n",
       "        vertical-align: middle;\n",
       "    }\n",
       "\n",
       "    .dataframe tbody tr th {\n",
       "        vertical-align: top;\n",
       "    }\n",
       "\n",
       "    .dataframe thead th {\n",
       "        text-align: right;\n",
       "    }\n",
       "</style>\n",
       "<table border=\"1\" class=\"dataframe\">\n",
       "  <thead>\n",
       "    <tr style=\"text-align: right;\">\n",
       "      <th></th>\n",
       "      <th>PetID</th>\n",
       "      <th>Name</th>\n",
       "      <th>Kind</th>\n",
       "      <th>Gender</th>\n",
       "      <th>Age</th>\n",
       "      <th>OwnerID</th>\n",
       "    </tr>\n",
       "  </thead>\n",
       "  <tbody>\n",
       "    <tr>\n",
       "      <th>0</th>\n",
       "      <td>J6-8562</td>\n",
       "      <td>Brandy</td>\n",
       "      <td>Dog</td>\n",
       "      <td>male</td>\n",
       "      <td>11</td>\n",
       "      <td>5168</td>\n",
       "    </tr>\n",
       "    <tr>\n",
       "      <th>1</th>\n",
       "      <td>Q0-2001</td>\n",
       "      <td>Roomba</td>\n",
       "      <td>Cat</td>\n",
       "      <td>male</td>\n",
       "      <td>9</td>\n",
       "      <td>5508</td>\n",
       "    </tr>\n",
       "    <tr>\n",
       "      <th>2</th>\n",
       "      <td>M0-2904</td>\n",
       "      <td>Simba</td>\n",
       "      <td>Cat</td>\n",
       "      <td>male</td>\n",
       "      <td>1</td>\n",
       "      <td>3086</td>\n",
       "    </tr>\n",
       "    <tr>\n",
       "      <th>3</th>\n",
       "      <td>R3-7551</td>\n",
       "      <td>Keller</td>\n",
       "      <td>Parrot</td>\n",
       "      <td>female</td>\n",
       "      <td>2</td>\n",
       "      <td>7908</td>\n",
       "    </tr>\n",
       "    <tr>\n",
       "      <th>4</th>\n",
       "      <td>P2-7342</td>\n",
       "      <td>Cuddles</td>\n",
       "      <td>Dog</td>\n",
       "      <td>male</td>\n",
       "      <td>13</td>\n",
       "      <td>4378</td>\n",
       "    </tr>\n",
       "  </tbody>\n",
       "</table>\n",
       "</div>"
      ],
      "text/plain": [
       "     PetID     Name    Kind  Gender  Age  OwnerID\n",
       "0  J6-8562   Brandy     Dog    male   11     5168\n",
       "1  Q0-2001   Roomba     Cat    male    9     5508\n",
       "2  M0-2904    Simba     Cat    male    1     3086\n",
       "3  R3-7551   Keller  Parrot  female    2     7908\n",
       "4  P2-7342  Cuddles     Dog    male   13     4378"
      ]
     },
     "execution_count": 4,
     "metadata": {},
     "output_type": "execute_result"
    }
   ],
   "source": [
    "pets.head(5)"
   ]
  },
  {
   "cell_type": "code",
   "execution_count": 6,
   "id": "f411095b",
   "metadata": {},
   "outputs": [
    {
     "data": {
      "text/html": [
       "<div>\n",
       "<style scoped>\n",
       "    .dataframe tbody tr th:only-of-type {\n",
       "        vertical-align: middle;\n",
       "    }\n",
       "\n",
       "    .dataframe tbody tr th {\n",
       "        vertical-align: top;\n",
       "    }\n",
       "\n",
       "    .dataframe thead th {\n",
       "        text-align: right;\n",
       "    }\n",
       "</style>\n",
       "<table border=\"1\" class=\"dataframe\">\n",
       "  <thead>\n",
       "    <tr style=\"text-align: right;\">\n",
       "      <th></th>\n",
       "      <th>ProcedureType</th>\n",
       "      <th>ProcedureSubCode</th>\n",
       "      <th>Description</th>\n",
       "      <th>Price</th>\n",
       "    </tr>\n",
       "  </thead>\n",
       "  <tbody>\n",
       "    <tr>\n",
       "      <th>0</th>\n",
       "      <td>OFFICE FEES</td>\n",
       "      <td>1</td>\n",
       "      <td>Office Call</td>\n",
       "      <td>32</td>\n",
       "    </tr>\n",
       "    <tr>\n",
       "      <th>1</th>\n",
       "      <td>OFFICE FEES</td>\n",
       "      <td>2</td>\n",
       "      <td>Emergency</td>\n",
       "      <td>100</td>\n",
       "    </tr>\n",
       "    <tr>\n",
       "      <th>2</th>\n",
       "      <td>OFFICE FEES</td>\n",
       "      <td>3</td>\n",
       "      <td>Reck</td>\n",
       "      <td>24</td>\n",
       "    </tr>\n",
       "    <tr>\n",
       "      <th>3</th>\n",
       "      <td>GROOMING</td>\n",
       "      <td>1</td>\n",
       "      <td>Bath</td>\n",
       "      <td>15</td>\n",
       "    </tr>\n",
       "    <tr>\n",
       "      <th>4</th>\n",
       "      <td>GROOMING</td>\n",
       "      <td>2</td>\n",
       "      <td>Flea Dip</td>\n",
       "      <td>15</td>\n",
       "    </tr>\n",
       "  </tbody>\n",
       "</table>\n",
       "</div>"
      ],
      "text/plain": [
       "  ProcedureType  ProcedureSubCode  Description  Price\n",
       "0   OFFICE FEES                 1  Office Call     32\n",
       "1   OFFICE FEES                 2    Emergency    100\n",
       "2   OFFICE FEES                 3         Reck     24\n",
       "3      GROOMING                 1         Bath     15\n",
       "4      GROOMING                 2     Flea Dip     15"
      ]
     },
     "execution_count": 6,
     "metadata": {},
     "output_type": "execute_result"
    }
   ],
   "source": [
    "procedure_details.head(5)"
   ]
  },
  {
   "cell_type": "code",
   "execution_count": 7,
   "id": "21c2d9e1",
   "metadata": {},
   "outputs": [
    {
     "data": {
      "text/html": [
       "<div>\n",
       "<style scoped>\n",
       "    .dataframe tbody tr th:only-of-type {\n",
       "        vertical-align: middle;\n",
       "    }\n",
       "\n",
       "    .dataframe tbody tr th {\n",
       "        vertical-align: top;\n",
       "    }\n",
       "\n",
       "    .dataframe thead th {\n",
       "        text-align: right;\n",
       "    }\n",
       "</style>\n",
       "<table border=\"1\" class=\"dataframe\">\n",
       "  <thead>\n",
       "    <tr style=\"text-align: right;\">\n",
       "      <th></th>\n",
       "      <th>PetID</th>\n",
       "      <th>Date</th>\n",
       "      <th>ProcedureType</th>\n",
       "      <th>ProcedureSubCode</th>\n",
       "    </tr>\n",
       "  </thead>\n",
       "  <tbody>\n",
       "    <tr>\n",
       "      <th>0</th>\n",
       "      <td>T0-3277</td>\n",
       "      <td>42391</td>\n",
       "      <td>VACCINATIONS</td>\n",
       "      <td>5</td>\n",
       "    </tr>\n",
       "    <tr>\n",
       "      <th>1</th>\n",
       "      <td>G6-6501</td>\n",
       "      <td>42398</td>\n",
       "      <td>VACCINATIONS</td>\n",
       "      <td>5</td>\n",
       "    </tr>\n",
       "    <tr>\n",
       "      <th>2</th>\n",
       "      <td>P9-3625</td>\n",
       "      <td>42399</td>\n",
       "      <td>ORTHOPEDIC</td>\n",
       "      <td>7</td>\n",
       "    </tr>\n",
       "    <tr>\n",
       "      <th>3</th>\n",
       "      <td>F1-1855</td>\n",
       "      <td>42402</td>\n",
       "      <td>VACCINATIONS</td>\n",
       "      <td>5</td>\n",
       "    </tr>\n",
       "    <tr>\n",
       "      <th>4</th>\n",
       "      <td>S1-2243</td>\n",
       "      <td>42404</td>\n",
       "      <td>VACCINATIONS</td>\n",
       "      <td>5</td>\n",
       "    </tr>\n",
       "  </tbody>\n",
       "</table>\n",
       "</div>"
      ],
      "text/plain": [
       "     PetID   Date ProcedureType  ProcedureSubCode\n",
       "0  T0-3277  42391  VACCINATIONS                 5\n",
       "1  G6-6501  42398  VACCINATIONS                 5\n",
       "2  P9-3625  42399    ORTHOPEDIC                 7\n",
       "3  F1-1855  42402  VACCINATIONS                 5\n",
       "4  S1-2243  42404  VACCINATIONS                 5"
      ]
     },
     "execution_count": 7,
     "metadata": {},
     "output_type": "execute_result"
    }
   ],
   "source": [
    "procedures.head(5)"
   ]
  },
  {
   "cell_type": "code",
   "execution_count": 9,
   "id": "fd521038",
   "metadata": {},
   "outputs": [
    {
     "data": {
      "text/plain": [
       "(89, 8)"
      ]
     },
     "execution_count": 9,
     "metadata": {},
     "output_type": "execute_result"
    }
   ],
   "source": [
    "owners.shape"
   ]
  },
  {
   "cell_type": "code",
   "execution_count": 8,
   "id": "0a5eb797",
   "metadata": {},
   "outputs": [
    {
     "data": {
      "text/plain": [
       "(100, 6)"
      ]
     },
     "execution_count": 8,
     "metadata": {},
     "output_type": "execute_result"
    }
   ],
   "source": [
    "pets.shape"
   ]
  },
  {
   "cell_type": "code",
   "execution_count": 10,
   "id": "307d8926",
   "metadata": {},
   "outputs": [
    {
     "data": {
      "text/plain": [
       "(41, 4)"
      ]
     },
     "execution_count": 10,
     "metadata": {},
     "output_type": "execute_result"
    }
   ],
   "source": [
    "procedure_details.shape"
   ]
  },
  {
   "cell_type": "code",
   "execution_count": 11,
   "id": "caf948f4",
   "metadata": {},
   "outputs": [
    {
     "data": {
      "text/plain": [
       "(41, 4)"
      ]
     },
     "execution_count": 11,
     "metadata": {},
     "output_type": "execute_result"
    }
   ],
   "source": [
    "procedures.shape"
   ]
  },
  {
   "cell_type": "markdown",
   "id": "b905e8f6",
   "metadata": {},
   "source": [
    "# Problem 1: What is the name of the oldest dog in Southfield"
   ]
  },
  {
   "cell_type": "code",
   "execution_count": 24,
   "id": "4c653792",
   "metadata": {},
   "outputs": [],
   "source": [
    "# Merge pet and owner dataframes\n",
    "\n",
    "pets_owners = pd.merge(pets, owners, on=\"OwnerID\", how=\"outer\")"
   ]
  },
  {
   "cell_type": "code",
   "execution_count": 26,
   "id": "f216c4e0",
   "metadata": {},
   "outputs": [],
   "source": [
    "southfield = pets_owners[pets_owners['City'] == 'Southfield']\n",
    "southfield = southfield.sort_values(by='Age', ascending=False)"
   ]
  },
  {
   "cell_type": "code",
   "execution_count": 27,
   "id": "6335bd9f",
   "metadata": {},
   "outputs": [
    {
     "data": {
      "text/plain": [
       "(100, 13)"
      ]
     },
     "execution_count": 27,
     "metadata": {},
     "output_type": "execute_result"
    }
   ],
   "source": [
    "pets_owners.shape"
   ]
  },
  {
   "cell_type": "code",
   "execution_count": 28,
   "id": "98cf6d96",
   "metadata": {},
   "outputs": [
    {
     "data": {
      "text/html": [
       "<div>\n",
       "<style scoped>\n",
       "    .dataframe tbody tr th:only-of-type {\n",
       "        vertical-align: middle;\n",
       "    }\n",
       "\n",
       "    .dataframe tbody tr th {\n",
       "        vertical-align: top;\n",
       "    }\n",
       "\n",
       "    .dataframe thead th {\n",
       "        text-align: right;\n",
       "    }\n",
       "</style>\n",
       "<table border=\"1\" class=\"dataframe\">\n",
       "  <thead>\n",
       "    <tr style=\"text-align: right;\">\n",
       "      <th></th>\n",
       "      <th>PetID</th>\n",
       "      <th>Name_x</th>\n",
       "      <th>Kind</th>\n",
       "      <th>Gender</th>\n",
       "      <th>Age</th>\n",
       "      <th>OwnerID</th>\n",
       "      <th>Name_y</th>\n",
       "      <th>Surname</th>\n",
       "      <th>StreetAddress</th>\n",
       "      <th>City</th>\n",
       "      <th>State</th>\n",
       "      <th>StateFull</th>\n",
       "      <th>ZipCode</th>\n",
       "    </tr>\n",
       "  </thead>\n",
       "  <tbody>\n",
       "    <tr>\n",
       "      <th>12</th>\n",
       "      <td>T2-2142</td>\n",
       "      <td>Stowe</td>\n",
       "      <td>Cat</td>\n",
       "      <td>female</td>\n",
       "      <td>15</td>\n",
       "      <td>1132</td>\n",
       "      <td>Rosa</td>\n",
       "      <td>Quarles</td>\n",
       "      <td>4791 Tennessee Avenue</td>\n",
       "      <td>Southfield</td>\n",
       "      <td>MI</td>\n",
       "      <td>Michigan</td>\n",
       "      <td>48034</td>\n",
       "    </tr>\n",
       "    <tr>\n",
       "      <th>85</th>\n",
       "      <td>P1-2578</td>\n",
       "      <td>Tiger</td>\n",
       "      <td>Cat</td>\n",
       "      <td>male</td>\n",
       "      <td>14</td>\n",
       "      <td>3034</td>\n",
       "      <td>Paul</td>\n",
       "      <td>Haring</td>\n",
       "      <td>2612 Tennessee Avenue</td>\n",
       "      <td>Southfield</td>\n",
       "      <td>MI</td>\n",
       "      <td>Michigan</td>\n",
       "      <td>48034</td>\n",
       "    </tr>\n",
       "    <tr>\n",
       "      <th>21</th>\n",
       "      <td>J0-7893</td>\n",
       "      <td>Crockett</td>\n",
       "      <td>Dog</td>\n",
       "      <td>male</td>\n",
       "      <td>12</td>\n",
       "      <td>1334</td>\n",
       "      <td>Jason</td>\n",
       "      <td>Cantwell</td>\n",
       "      <td>2372 Don Jackson Lane</td>\n",
       "      <td>Southfield</td>\n",
       "      <td>MI</td>\n",
       "      <td>Michigan</td>\n",
       "      <td>48075</td>\n",
       "    </tr>\n",
       "    <tr>\n",
       "      <th>34</th>\n",
       "      <td>T0-3277</td>\n",
       "      <td>Humbert</td>\n",
       "      <td>Cat</td>\n",
       "      <td>male</td>\n",
       "      <td>12</td>\n",
       "      <td>8133</td>\n",
       "      <td>Stacey</td>\n",
       "      <td>Randolph</td>\n",
       "      <td>1145 D Street</td>\n",
       "      <td>Southfield</td>\n",
       "      <td>MI</td>\n",
       "      <td>Michigan</td>\n",
       "      <td>48075</td>\n",
       "    </tr>\n",
       "    <tr>\n",
       "      <th>57</th>\n",
       "      <td>L4-2594</td>\n",
       "      <td>Newcastle</td>\n",
       "      <td>Cat</td>\n",
       "      <td>male</td>\n",
       "      <td>6</td>\n",
       "      <td>6405</td>\n",
       "      <td>Lawrence</td>\n",
       "      <td>Roder</td>\n",
       "      <td>1386 Hayhurst Lane</td>\n",
       "      <td>Southfield</td>\n",
       "      <td>MI</td>\n",
       "      <td>Michigan</td>\n",
       "      <td>48034</td>\n",
       "    </tr>\n",
       "  </tbody>\n",
       "</table>\n",
       "</div>"
      ],
      "text/plain": [
       "      PetID     Name_x Kind  Gender  Age  OwnerID    Name_y   Surname  \\\n",
       "12  T2-2142      Stowe  Cat  female   15     1132      Rosa   Quarles   \n",
       "85  P1-2578      Tiger  Cat    male   14     3034      Paul    Haring   \n",
       "21  J0-7893   Crockett  Dog    male   12     1334     Jason  Cantwell   \n",
       "34  T0-3277    Humbert  Cat    male   12     8133    Stacey  Randolph   \n",
       "57  L4-2594  Newcastle  Cat    male    6     6405  Lawrence     Roder   \n",
       "\n",
       "            StreetAddress        City State StateFull  ZipCode  \n",
       "12  4791 Tennessee Avenue  Southfield    MI  Michigan    48034  \n",
       "85  2612 Tennessee Avenue  Southfield    MI  Michigan    48034  \n",
       "21  2372 Don Jackson Lane  Southfield    MI  Michigan    48075  \n",
       "34          1145 D Street  Southfield    MI  Michigan    48075  \n",
       "57     1386 Hayhurst Lane  Southfield    MI  Michigan    48034  "
      ]
     },
     "execution_count": 28,
     "metadata": {},
     "output_type": "execute_result"
    }
   ],
   "source": [
    "southfield.head(5)"
   ]
  },
  {
   "cell_type": "markdown",
   "id": "6ebece57",
   "metadata": {},
   "source": [
    "Here we see, the oldest dog is Crockett, at 12 years old.  "
   ]
  },
  {
   "cell_type": "markdown",
   "id": "8140811c",
   "metadata": {},
   "source": [
    "# Problem 2: What is the average (mean) number of pets per city?"
   ]
  },
  {
   "cell_type": "code",
   "execution_count": 38,
   "id": "fc27ef02",
   "metadata": {},
   "outputs": [
    {
     "data": {
      "text/plain": [
       "2.5"
      ]
     },
     "execution_count": 38,
     "metadata": {},
     "output_type": "execute_result"
    }
   ],
   "source": [
    "# Using previous dataframe pets_owners and groupby\n",
    "mean_pets = pets_owners.groupby(\"City\").size().mean()\n",
    "mean_pets"
   ]
  },
  {
   "cell_type": "code",
   "execution_count": 50,
   "id": "b41d2d96",
   "metadata": {},
   "outputs": [
    {
     "data": {
      "text/plain": [
       "2.5"
      ]
     },
     "execution_count": 50,
     "metadata": {},
     "output_type": "execute_result"
    }
   ],
   "source": [
    "# Double checking a bit more basic way\n",
    "cities_count = pets_owners[\"City\"].unique()\n",
    "pets_count = pets_owners[\"PetID\"].unique()\n",
    "mean_pets_doublecheck = len(pets_count) / len(cities_count)\n",
    "mean_pets_doublecheck"
   ]
  },
  {
   "cell_type": "markdown",
   "id": "9cf19b04",
   "metadata": {},
   "source": [
    "# Problem 3: Which owner spend the most on procedures for their pet(s)?"
   ]
  },
  {
   "cell_type": "code",
   "execution_count": 65,
   "id": "0b840449",
   "metadata": {},
   "outputs": [
    {
     "data": {
      "text/plain": [
       "OwnerID      8316\n",
       "Name_y     Daniel\n",
       "Surname       Fay\n",
       "Price       450.0\n",
       "Name: 76, dtype: object"
      ]
     },
     "execution_count": 65,
     "metadata": {},
     "output_type": "execute_result"
    }
   ],
   "source": [
    "# We need to do some merging here, all dataframes will be involved as they each hold a piece of the puzzle!\n",
    "\n",
    "merged = pd.merge(pets, procedures, on=\"PetID\", how='left')\n",
    "merged = pd.merge(merged, owners, on=\"OwnerID\", how='left')\n",
    "merged = pd.merge(merged, procedure_details, on=['ProcedureType', \"ProcedureSubCode\"], how='left')\n",
    "\n",
    "# Next we add up how much each owner spent on their pet\n",
    "owner_total = merged.groupby([\"OwnerID\", 'Name_y', \"Surname\"])['Price'].sum().reset_index()\n",
    "\n",
    "# Finally, we find the name of the person who spent the most on their pet(s)\n",
    "highest_spender = owner_total.loc[owner_total['Price'].idxmax()]\n",
    "highest_spender"
   ]
  },
  {
   "cell_type": "markdown",
   "id": "638ad820",
   "metadata": {},
   "source": [
    "# Problem 4: How many owners spent 20 dollars or more on procedures for their pets?"
   ]
  },
  {
   "cell_type": "code",
   "execution_count": 70,
   "id": "54c509c2",
   "metadata": {},
   "outputs": [
    {
     "data": {
      "text/plain": [
       "12"
      ]
     },
     "execution_count": 70,
     "metadata": {},
     "output_type": "execute_result"
    }
   ],
   "source": [
    "# Luckily we already have a data frame well designed to tackle this problem. We can easily just see how many owners\n",
    "# spent 20 or more dollars on their pets.\n",
    "\n",
    "big_spenders = (owner_total['Price'] >= 20).sum()\n",
    "big_spenders"
   ]
  },
  {
   "cell_type": "markdown",
   "id": "879bab15",
   "metadata": {},
   "source": [
    "# Problem 5: How many owners have at least two different kinds of pets (e.g. a dog and a cat)?"
   ]
  },
  {
   "cell_type": "code",
   "execution_count": 80,
   "id": "e3cb4c12",
   "metadata": {},
   "outputs": [],
   "source": [
    "# First we are going to group by OwnerID and Kind, only including unique values so we can see all the \n",
    "# owners that have different kinds of pets. \n",
    "\n",
    "owners_pet_counts = pets.groupby(\"OwnerID\")[\"Kind\"].nunique()"
   ]
  },
  {
   "cell_type": "code",
   "execution_count": 82,
   "id": "00859525",
   "metadata": {},
   "outputs": [
    {
     "data": {
      "text/plain": [
       "4"
      ]
     },
     "execution_count": 82,
     "metadata": {},
     "output_type": "execute_result"
    }
   ],
   "source": [
    "# Now we just need to see how man of these are greater than or equal to 2\n",
    "\n",
    "two_or_more = owners_pet_counts[owners_pet_counts >= 2]\n",
    "\n",
    "len(two_or_more)"
   ]
  },
  {
   "cell_type": "markdown",
   "id": "0716602a",
   "metadata": {},
   "source": [
    "# Problem 6: How many owners have pets where the first letter of their name (OwnerName) matches the first letter of their pet's name (PetName)? E.g. Cookie and Charles."
   ]
  },
  {
   "cell_type": "code",
   "execution_count": 89,
   "id": "206bcdf4",
   "metadata": {},
   "outputs": [
    {
     "data": {
      "text/plain": [
       "8"
      ]
     },
     "execution_count": 89,
     "metadata": {},
     "output_type": "execute_result"
    }
   ],
   "source": [
    "# Here we just need to merge pets and owners and then use str to match the letters.\n",
    "\n",
    "pet_owners = pd.merge(pets, owners, on=\"OwnerID\", how=\"inner\")\n",
    "cookie_charles_df = pet_owners[pet_owners['Name_x'].str[0].str.lower() == pet_owners[\"Name_y\"].str[0].str.lower()]\n",
    "cookie_charles = cookie_charles_df['OwnerID'].nunique()\n",
    "cookie_charles"
   ]
  },
  {
   "cell_type": "markdown",
   "id": "fa7701d6",
   "metadata": {},
   "source": [
    "# Problem 7: What percentage of pets received a vaccination?"
   ]
  },
  {
   "cell_type": "code",
   "execution_count": 118,
   "id": "15b76e8a",
   "metadata": {},
   "outputs": [
    {
     "data": {
      "text/plain": [
       "24.0"
      ]
     },
     "execution_count": 118,
     "metadata": {},
     "output_type": "execute_result"
    }
   ],
   "source": [
    "# Here we find out how many unique pets had a vaccination, and then divide that by the total number of pets.\n",
    "\n",
    "vaccinated = procedures[procedures['ProcedureType'].str.contains('VACCINATIONS', case=False)]\n",
    "unique_vac = vaccinated['PetID'].nunique()\n",
    "unique_pets = pets['PetID'].nunique()\n",
    "percent_vac = (unique_vac / unique_pets) * 100\n",
    "percent_vac"
   ]
  },
  {
   "cell_type": "markdown",
   "id": "86871424",
   "metadata": {},
   "source": [
    "# Problem 8: What percentage of cities have more male pets than female pets?"
   ]
  },
  {
   "cell_type": "code",
   "execution_count": 124,
   "id": "51d6c3aa",
   "metadata": {},
   "outputs": [
    {
     "data": {
      "text/plain": [
       "57.49999999999999"
      ]
     },
     "execution_count": 124,
     "metadata": {},
     "output_type": "execute_result"
    }
   ],
   "source": [
    "# Here we just group the pet_owners df by city and count each gender in each city.\n",
    "# We see how many times the city has more males, and then calculate the overall percentage\n",
    "\n",
    "city_pet_counts = pet_owners.groupby('City')['Gender'].value_counts().unstack().fillna(0)\n",
    "more_males = (city_pet_counts['male'] > city_pet_counts['female']).sum()\n",
    "total_cities = len(city_pet_counts)\n",
    "percent = (more_males / total_cities) * 100\n",
    "percent"
   ]
  },
  {
   "cell_type": "markdown",
   "id": "3d7c9bca",
   "metadata": {},
   "source": [
    "# Problem 9: Which city's pet sample is made up of exactly 70% dogs? The answer is case sensitive, so please match the value for City exactly.\n"
   ]
  },
  {
   "cell_type": "code",
   "execution_count": 127,
   "id": "8805ee2a",
   "metadata": {},
   "outputs": [
    {
     "data": {
      "text/plain": [
       "['Grand Rapids']"
      ]
     },
     "execution_count": 127,
     "metadata": {},
     "output_type": "execute_result"
    }
   ],
   "source": [
    "# To complete this final question, we just need to groupby the city and map where \"Kind\" is a dog. \n",
    "# Then we just see which city is equal to 70%\n",
    "\n",
    "city_pet_percent = pet_owners.groupby('City')['Kind'].apply(lambda x: (x == 'Dog').mean() * 100)\n",
    "seventy_city = city_pet_percent[city_pet_percent == 70].index.tolist()\n",
    "seventy_city"
   ]
  },
  {
   "cell_type": "code",
   "execution_count": 132,
   "id": "67a3bd17",
   "metadata": {},
   "outputs": [
    {
     "data": {
      "text/html": [
       "<div>\n",
       "<style scoped>\n",
       "    .dataframe tbody tr th:only-of-type {\n",
       "        vertical-align: middle;\n",
       "    }\n",
       "\n",
       "    .dataframe tbody tr th {\n",
       "        vertical-align: top;\n",
       "    }\n",
       "\n",
       "    .dataframe thead th {\n",
       "        text-align: right;\n",
       "    }\n",
       "</style>\n",
       "<table border=\"1\" class=\"dataframe\">\n",
       "  <thead>\n",
       "    <tr style=\"text-align: right;\">\n",
       "      <th></th>\n",
       "      <th>PetID</th>\n",
       "      <th>Name_x</th>\n",
       "      <th>Kind</th>\n",
       "      <th>Gender</th>\n",
       "      <th>Age</th>\n",
       "      <th>OwnerID</th>\n",
       "      <th>Name_y</th>\n",
       "      <th>Surname</th>\n",
       "      <th>StreetAddress</th>\n",
       "      <th>City</th>\n",
       "      <th>State</th>\n",
       "      <th>StateFull</th>\n",
       "      <th>ZipCode</th>\n",
       "    </tr>\n",
       "  </thead>\n",
       "  <tbody>\n",
       "    <tr>\n",
       "      <th>0</th>\n",
       "      <td>J6-8562</td>\n",
       "      <td>Brandy</td>\n",
       "      <td>Dog</td>\n",
       "      <td>male</td>\n",
       "      <td>11</td>\n",
       "      <td>5168</td>\n",
       "      <td>Robert</td>\n",
       "      <td>Foster</td>\n",
       "      <td>4680 Rubaiyat Road</td>\n",
       "      <td>Grand Rapids</td>\n",
       "      <td>MI</td>\n",
       "      <td>Michigan</td>\n",
       "      <td>49503</td>\n",
       "    </tr>\n",
       "    <tr>\n",
       "      <th>7</th>\n",
       "      <td>X0-8765</td>\n",
       "      <td>Vuitton</td>\n",
       "      <td>Parrot</td>\n",
       "      <td>female</td>\n",
       "      <td>11</td>\n",
       "      <td>7581</td>\n",
       "      <td>Florence</td>\n",
       "      <td>Nolen</td>\n",
       "      <td>3103 Howard Street</td>\n",
       "      <td>Grand Rapids</td>\n",
       "      <td>MI</td>\n",
       "      <td>Michigan</td>\n",
       "      <td>49503</td>\n",
       "    </tr>\n",
       "    <tr>\n",
       "      <th>10</th>\n",
       "      <td>M8-7852</td>\n",
       "      <td>Cookie</td>\n",
       "      <td>Cat</td>\n",
       "      <td>female</td>\n",
       "      <td>8</td>\n",
       "      <td>7606</td>\n",
       "      <td>Edna</td>\n",
       "      <td>Moreno</td>\n",
       "      <td>2548 Wetzel Lane</td>\n",
       "      <td>Grand Rapids</td>\n",
       "      <td>MI</td>\n",
       "      <td>Michigan</td>\n",
       "      <td>49503</td>\n",
       "    </tr>\n",
       "    <tr>\n",
       "      <th>16</th>\n",
       "      <td>G4-8096</td>\n",
       "      <td>Danger</td>\n",
       "      <td>Dog</td>\n",
       "      <td>male</td>\n",
       "      <td>9</td>\n",
       "      <td>9037</td>\n",
       "      <td>Roger</td>\n",
       "      <td>Lade</td>\n",
       "      <td>1315 Echo Lane</td>\n",
       "      <td>Grand Rapids</td>\n",
       "      <td>MI</td>\n",
       "      <td>Michigan</td>\n",
       "      <td>49503</td>\n",
       "    </tr>\n",
       "    <tr>\n",
       "      <th>36</th>\n",
       "      <td>L0-6660</td>\n",
       "      <td>Cookie</td>\n",
       "      <td>Dog</td>\n",
       "      <td>male</td>\n",
       "      <td>9</td>\n",
       "      <td>5806</td>\n",
       "      <td>Jerry</td>\n",
       "      <td>Reyna</td>\n",
       "      <td>1073 Rubaiyat Road</td>\n",
       "      <td>Grand Rapids</td>\n",
       "      <td>MI</td>\n",
       "      <td>Michigan</td>\n",
       "      <td>49503</td>\n",
       "    </tr>\n",
       "    <tr>\n",
       "      <th>39</th>\n",
       "      <td>J1-6366</td>\n",
       "      <td>Bruce</td>\n",
       "      <td>Dog</td>\n",
       "      <td>male</td>\n",
       "      <td>3</td>\n",
       "      <td>8316</td>\n",
       "      <td>Daniel</td>\n",
       "      <td>Fay</td>\n",
       "      <td>894 Twin Oaks Drive</td>\n",
       "      <td>Grand Rapids</td>\n",
       "      <td>MI</td>\n",
       "      <td>Michigan</td>\n",
       "      <td>49503</td>\n",
       "    </tr>\n",
       "    <tr>\n",
       "      <th>56</th>\n",
       "      <td>R7-4835</td>\n",
       "      <td>Cookie</td>\n",
       "      <td>Dog</td>\n",
       "      <td>male</td>\n",
       "      <td>12</td>\n",
       "      <td>5215</td>\n",
       "      <td>Larry</td>\n",
       "      <td>Hunt</td>\n",
       "      <td>3384 West Street</td>\n",
       "      <td>Grand Rapids</td>\n",
       "      <td>MI</td>\n",
       "      <td>Michigan</td>\n",
       "      <td>49503</td>\n",
       "    </tr>\n",
       "    <tr>\n",
       "      <th>65</th>\n",
       "      <td>I6-9459</td>\n",
       "      <td>Biscuit</td>\n",
       "      <td>Dog</td>\n",
       "      <td>female</td>\n",
       "      <td>4</td>\n",
       "      <td>6049</td>\n",
       "      <td>Debbie</td>\n",
       "      <td>Metivier</td>\n",
       "      <td>315 Goff Avenue</td>\n",
       "      <td>Grand Rapids</td>\n",
       "      <td>MI</td>\n",
       "      <td>Michigan</td>\n",
       "      <td>49503</td>\n",
       "    </tr>\n",
       "    <tr>\n",
       "      <th>79</th>\n",
       "      <td>K4-5012</td>\n",
       "      <td>Natacha</td>\n",
       "      <td>Parrot</td>\n",
       "      <td>female</td>\n",
       "      <td>11</td>\n",
       "      <td>2755</td>\n",
       "      <td>Anne</td>\n",
       "      <td>Hudson</td>\n",
       "      <td>4110 Howard Street</td>\n",
       "      <td>Grand Rapids</td>\n",
       "      <td>MI</td>\n",
       "      <td>Michigan</td>\n",
       "      <td>49503</td>\n",
       "    </tr>\n",
       "    <tr>\n",
       "      <th>82</th>\n",
       "      <td>K0-8177</td>\n",
       "      <td>Bruce</td>\n",
       "      <td>Dog</td>\n",
       "      <td>male</td>\n",
       "      <td>12</td>\n",
       "      <td>2809</td>\n",
       "      <td>Bruce</td>\n",
       "      <td>Dunne</td>\n",
       "      <td>4119 Kimberly Way</td>\n",
       "      <td>Grand Rapids</td>\n",
       "      <td>MI</td>\n",
       "      <td>Michigan</td>\n",
       "      <td>49503</td>\n",
       "    </tr>\n",
       "  </tbody>\n",
       "</table>\n",
       "</div>"
      ],
      "text/plain": [
       "      PetID   Name_x    Kind  Gender  Age  OwnerID    Name_y   Surname  \\\n",
       "0   J6-8562   Brandy     Dog    male   11     5168    Robert    Foster   \n",
       "7   X0-8765  Vuitton  Parrot  female   11     7581  Florence     Nolen   \n",
       "10  M8-7852   Cookie     Cat  female    8     7606      Edna    Moreno   \n",
       "16  G4-8096   Danger     Dog    male    9     9037     Roger      Lade   \n",
       "36  L0-6660   Cookie     Dog    male    9     5806     Jerry     Reyna   \n",
       "39  J1-6366    Bruce     Dog    male    3     8316    Daniel       Fay   \n",
       "56  R7-4835   Cookie     Dog    male   12     5215     Larry      Hunt   \n",
       "65  I6-9459  Biscuit     Dog  female    4     6049    Debbie  Metivier   \n",
       "79  K4-5012  Natacha  Parrot  female   11     2755      Anne    Hudson   \n",
       "82  K0-8177    Bruce     Dog    male   12     2809     Bruce     Dunne   \n",
       "\n",
       "          StreetAddress          City State StateFull  ZipCode  \n",
       "0    4680 Rubaiyat Road  Grand Rapids    MI  Michigan    49503  \n",
       "7    3103 Howard Street  Grand Rapids    MI  Michigan    49503  \n",
       "10     2548 Wetzel Lane  Grand Rapids    MI  Michigan    49503  \n",
       "16       1315 Echo Lane  Grand Rapids    MI  Michigan    49503  \n",
       "36   1073 Rubaiyat Road  Grand Rapids    MI  Michigan    49503  \n",
       "39  894 Twin Oaks Drive  Grand Rapids    MI  Michigan    49503  \n",
       "56     3384 West Street  Grand Rapids    MI  Michigan    49503  \n",
       "65      315 Goff Avenue  Grand Rapids    MI  Michigan    49503  \n",
       "79   4110 Howard Street  Grand Rapids    MI  Michigan    49503  \n",
       "82    4119 Kimberly Way  Grand Rapids    MI  Michigan    49503  "
      ]
     },
     "execution_count": 132,
     "metadata": {},
     "output_type": "execute_result"
    }
   ],
   "source": [
    "# Double checking visually because I REALLY hope this opportunity works out\n",
    "# I love Denver and the Broncos organization, we see here, 7/10 pets in Grand Rapids are dogs\n",
    "\n",
    "gr = pet_owners[pet_owners['City'] == 'Grand Rapids']\n",
    "gr"
   ]
  }
 ],
 "metadata": {
  "kernelspec": {
   "display_name": "Python 3 (ipykernel)",
   "language": "python",
   "name": "python3"
  },
  "language_info": {
   "codemirror_mode": {
    "name": "ipython",
    "version": 3
   },
   "file_extension": ".py",
   "mimetype": "text/x-python",
   "name": "python",
   "nbconvert_exporter": "python",
   "pygments_lexer": "ipython3",
   "version": "3.10.6"
  }
 },
 "nbformat": 4,
 "nbformat_minor": 5
}
