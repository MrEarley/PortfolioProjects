{
 "cells": [
  {
   "cell_type": "code",
   "execution_count": 31,
   "id": "c154d5ff",
   "metadata": {},
   "outputs": [],
   "source": [
    "import pandas as pd\n",
    "import seaborn as sns\n",
    "import numpy as np\n",
    "import matplotlib.pyplot as plt"
   ]
  },
  {
   "cell_type": "code",
   "execution_count": 32,
   "id": "922e5c8e",
   "metadata": {},
   "outputs": [],
   "source": [
    "pets = pd.read_csv(\"/Users/williamearley/Broncos/pets.csv\")"
   ]
  },
  {
   "cell_type": "code",
   "execution_count": 33,
   "id": "f181dd6c",
   "metadata": {},
   "outputs": [
    {
     "data": {
      "text/html": [
       "<div>\n",
       "<style scoped>\n",
       "    .dataframe tbody tr th:only-of-type {\n",
       "        vertical-align: middle;\n",
       "    }\n",
       "\n",
       "    .dataframe tbody tr th {\n",
       "        vertical-align: top;\n",
       "    }\n",
       "\n",
       "    .dataframe thead th {\n",
       "        text-align: right;\n",
       "    }\n",
       "</style>\n",
       "<table border=\"1\" class=\"dataframe\">\n",
       "  <thead>\n",
       "    <tr style=\"text-align: right;\">\n",
       "      <th></th>\n",
       "      <th>PetID</th>\n",
       "      <th>Name</th>\n",
       "      <th>Kind</th>\n",
       "      <th>Gender</th>\n",
       "      <th>Age</th>\n",
       "      <th>OwnerID</th>\n",
       "    </tr>\n",
       "  </thead>\n",
       "  <tbody>\n",
       "    <tr>\n",
       "      <th>0</th>\n",
       "      <td>J6-8562</td>\n",
       "      <td>Brandy</td>\n",
       "      <td>Dog</td>\n",
       "      <td>male</td>\n",
       "      <td>11</td>\n",
       "      <td>5168</td>\n",
       "    </tr>\n",
       "    <tr>\n",
       "      <th>1</th>\n",
       "      <td>Q0-2001</td>\n",
       "      <td>Roomba</td>\n",
       "      <td>Cat</td>\n",
       "      <td>male</td>\n",
       "      <td>9</td>\n",
       "      <td>5508</td>\n",
       "    </tr>\n",
       "    <tr>\n",
       "      <th>2</th>\n",
       "      <td>M0-2904</td>\n",
       "      <td>Simba</td>\n",
       "      <td>Cat</td>\n",
       "      <td>male</td>\n",
       "      <td>1</td>\n",
       "      <td>3086</td>\n",
       "    </tr>\n",
       "    <tr>\n",
       "      <th>3</th>\n",
       "      <td>R3-7551</td>\n",
       "      <td>Keller</td>\n",
       "      <td>Parrot</td>\n",
       "      <td>female</td>\n",
       "      <td>2</td>\n",
       "      <td>7908</td>\n",
       "    </tr>\n",
       "    <tr>\n",
       "      <th>4</th>\n",
       "      <td>P2-7342</td>\n",
       "      <td>Cuddles</td>\n",
       "      <td>Dog</td>\n",
       "      <td>male</td>\n",
       "      <td>13</td>\n",
       "      <td>4378</td>\n",
       "    </tr>\n",
       "  </tbody>\n",
       "</table>\n",
       "</div>"
      ],
      "text/plain": [
       "     PetID     Name    Kind  Gender  Age  OwnerID\n",
       "0  J6-8562   Brandy     Dog    male   11     5168\n",
       "1  Q0-2001   Roomba     Cat    male    9     5508\n",
       "2  M0-2904    Simba     Cat    male    1     3086\n",
       "3  R3-7551   Keller  Parrot  female    2     7908\n",
       "4  P2-7342  Cuddles     Dog    male   13     4378"
      ]
     },
     "execution_count": 33,
     "metadata": {},
     "output_type": "execute_result"
    }
   ],
   "source": [
    "pets.head(5)"
   ]
  },
  {
   "cell_type": "code",
   "execution_count": 34,
   "id": "a223c309",
   "metadata": {},
   "outputs": [],
   "source": [
    "owners = pd.read_csv(\"/Users/williamearley/Broncos/owners.csv\")"
   ]
  },
  {
   "cell_type": "code",
   "execution_count": 35,
   "id": "05d092ff",
   "metadata": {},
   "outputs": [
    {
     "data": {
      "text/html": [
       "<div>\n",
       "<style scoped>\n",
       "    .dataframe tbody tr th:only-of-type {\n",
       "        vertical-align: middle;\n",
       "    }\n",
       "\n",
       "    .dataframe tbody tr th {\n",
       "        vertical-align: top;\n",
       "    }\n",
       "\n",
       "    .dataframe thead th {\n",
       "        text-align: right;\n",
       "    }\n",
       "</style>\n",
       "<table border=\"1\" class=\"dataframe\">\n",
       "  <thead>\n",
       "    <tr style=\"text-align: right;\">\n",
       "      <th></th>\n",
       "      <th>OwnerID</th>\n",
       "      <th>Name</th>\n",
       "      <th>Surname</th>\n",
       "      <th>StreetAddress</th>\n",
       "      <th>City</th>\n",
       "      <th>State</th>\n",
       "      <th>StateFull</th>\n",
       "      <th>ZipCode</th>\n",
       "    </tr>\n",
       "  </thead>\n",
       "  <tbody>\n",
       "    <tr>\n",
       "      <th>0</th>\n",
       "      <td>6049</td>\n",
       "      <td>Debbie</td>\n",
       "      <td>Metivier</td>\n",
       "      <td>315 Goff Avenue</td>\n",
       "      <td>Grand Rapids</td>\n",
       "      <td>MI</td>\n",
       "      <td>Michigan</td>\n",
       "      <td>49503</td>\n",
       "    </tr>\n",
       "    <tr>\n",
       "      <th>1</th>\n",
       "      <td>2863</td>\n",
       "      <td>John</td>\n",
       "      <td>Sebastian</td>\n",
       "      <td>3221 Perry Street</td>\n",
       "      <td>Davison</td>\n",
       "      <td>MI</td>\n",
       "      <td>Michigan</td>\n",
       "      <td>48423</td>\n",
       "    </tr>\n",
       "    <tr>\n",
       "      <th>2</th>\n",
       "      <td>3518</td>\n",
       "      <td>Connie</td>\n",
       "      <td>Pauley</td>\n",
       "      <td>1539 Cunningham Court</td>\n",
       "      <td>Bloomfield Township</td>\n",
       "      <td>MI</td>\n",
       "      <td>Michigan</td>\n",
       "      <td>48302</td>\n",
       "    </tr>\n",
       "    <tr>\n",
       "      <th>3</th>\n",
       "      <td>3663</td>\n",
       "      <td>Lena</td>\n",
       "      <td>Haliburton</td>\n",
       "      <td>4217 Twin Oaks Drive</td>\n",
       "      <td>Traverse City</td>\n",
       "      <td>MI</td>\n",
       "      <td>Michigan</td>\n",
       "      <td>49684</td>\n",
       "    </tr>\n",
       "    <tr>\n",
       "      <th>4</th>\n",
       "      <td>1070</td>\n",
       "      <td>Jessica</td>\n",
       "      <td>Velazquez</td>\n",
       "      <td>3861 Woodbridge Lane</td>\n",
       "      <td>Southfield</td>\n",
       "      <td>MI</td>\n",
       "      <td>Michigan</td>\n",
       "      <td>48034</td>\n",
       "    </tr>\n",
       "  </tbody>\n",
       "</table>\n",
       "</div>"
      ],
      "text/plain": [
       "   OwnerID     Name     Surname          StreetAddress                 City  \\\n",
       "0     6049   Debbie    Metivier        315 Goff Avenue         Grand Rapids   \n",
       "1     2863     John   Sebastian      3221 Perry Street              Davison   \n",
       "2     3518   Connie      Pauley  1539 Cunningham Court  Bloomfield Township   \n",
       "3     3663     Lena  Haliburton   4217 Twin Oaks Drive        Traverse City   \n",
       "4     1070  Jessica   Velazquez   3861 Woodbridge Lane           Southfield   \n",
       "\n",
       "  State StateFull  ZipCode  \n",
       "0    MI  Michigan    49503  \n",
       "1    MI  Michigan    48423  \n",
       "2    MI  Michigan    48302  \n",
       "3    MI  Michigan    49684  \n",
       "4    MI  Michigan    48034  "
      ]
     },
     "execution_count": 35,
     "metadata": {},
     "output_type": "execute_result"
    }
   ],
   "source": [
    "owners.head(5)"
   ]
  },
  {
   "cell_type": "code",
   "execution_count": 36,
   "id": "e34982d2",
   "metadata": {},
   "outputs": [
    {
     "data": {
      "text/plain": [
       "<AxesSubplot:xlabel='Age', ylabel='Count'>"
      ]
     },
     "execution_count": 36,
     "metadata": {},
     "output_type": "execute_result"
    },
    {
     "data": {
      "image/png": "[encoded data removed]",
      "text/plain": [
       "<Figure size 432x288 with 1 Axes>"
      ]
     },
     "metadata": {
      "needs_background": "light"
     },
     "output_type": "display_data"
    }
   ],
   "source": [
    "sns.histplot(data=pets, x='Age', bins=10, kde=False)"
   ]
  },
  {
   "cell_type": "code",
   "execution_count": 37,
   "id": "199dea45",
   "metadata": {},
   "outputs": [
    {
     "data": {
      "image/png": "[encoded data removed]",
      "text/plain": [
       "<Figure size 432x288 with 1 Axes>"
      ]
     },
     "metadata": {
      "needs_background": "light"
     },
     "output_type": "display_data"
    }
   ],
   "source": [
    "plt.title(\"Histogram of Ages\")\n",
    "plt.xlabel('Ages of Pets')\n",
    "plt.ylabel(\"Count of Pets\")\n",
    "sns.histplot(data=pets, x='Age', bins=10, kde=False, color='red')\n",
    "plt.show()\n"
   ]
  },
  {
   "cell_type": "code",
   "execution_count": 38,
   "id": "066ff4a5",
   "metadata": {},
   "outputs": [
    {
     "data": {
      "text/plain": [
       "<AxesSubplot:xlabel='Age', ylabel='OwnerID'>"
      ]
     },
     "execution_count": 38,
     "metadata": {},
     "output_type": "execute_result"
    },
    {
     "data": {
      "image/png": "[encoded data removed]",
      "text/plain": [
       "<Figure size 432x288 with 1 Axes>"
      ]
     },
     "metadata": {
      "needs_background": "light"
     },
     "output_type": "display_data"
    }
   ],
   "source": [
    "sns.scatterplot(data=pets, x=\"Age\", y='OwnerID')"
   ]
  },
  {
   "cell_type": "code",
   "execution_count": 39,
   "id": "4e0e3191",
   "metadata": {},
   "outputs": [],
   "source": [
    "pets_owners = pd.merge(pets, owners, on='OwnerID', how=\"outer\")"
   ]
  },
  {
   "cell_type": "code",
   "execution_count": 40,
   "id": "76f018a1",
   "metadata": {},
   "outputs": [
    {
     "data": {
      "text/html": [
       "<div>\n",
       "<style scoped>\n",
       "    .dataframe tbody tr th:only-of-type {\n",
       "        vertical-align: middle;\n",
       "    }\n",
       "\n",
       "    .dataframe tbody tr th {\n",
       "        vertical-align: top;\n",
       "    }\n",
       "\n",
       "    .dataframe thead th {\n",
       "        text-align: right;\n",
       "    }\n",
       "</style>\n",
       "<table border=\"1\" class=\"dataframe\">\n",
       "  <thead>\n",
       "    <tr style=\"text-align: right;\">\n",
       "      <th></th>\n",
       "      <th>PetID</th>\n",
       "      <th>Name_x</th>\n",
       "      <th>Kind</th>\n",
       "      <th>Gender</th>\n",
       "      <th>Age</th>\n",
       "      <th>OwnerID</th>\n",
       "      <th>Name_y</th>\n",
       "      <th>Surname</th>\n",
       "      <th>StreetAddress</th>\n",
       "      <th>City</th>\n",
       "      <th>State</th>\n",
       "      <th>StateFull</th>\n",
       "      <th>ZipCode</th>\n",
       "    </tr>\n",
       "  </thead>\n",
       "  <tbody>\n",
       "    <tr>\n",
       "      <th>0</th>\n",
       "      <td>J6-8562</td>\n",
       "      <td>Brandy</td>\n",
       "      <td>Dog</td>\n",
       "      <td>male</td>\n",
       "      <td>11</td>\n",
       "      <td>5168</td>\n",
       "      <td>Robert</td>\n",
       "      <td>Foster</td>\n",
       "      <td>4680 Rubaiyat Road</td>\n",
       "      <td>Grand Rapids</td>\n",
       "      <td>MI</td>\n",
       "      <td>Michigan</td>\n",
       "      <td>49503</td>\n",
       "    </tr>\n",
       "    <tr>\n",
       "      <th>1</th>\n",
       "      <td>Q0-2001</td>\n",
       "      <td>Roomba</td>\n",
       "      <td>Cat</td>\n",
       "      <td>male</td>\n",
       "      <td>9</td>\n",
       "      <td>5508</td>\n",
       "      <td>Charles</td>\n",
       "      <td>Swarey</td>\n",
       "      <td>2463 Charles Street</td>\n",
       "      <td>Flint</td>\n",
       "      <td>MI</td>\n",
       "      <td>Michigan</td>\n",
       "      <td>48548</td>\n",
       "    </tr>\n",
       "    <tr>\n",
       "      <th>2</th>\n",
       "      <td>F6-5391</td>\n",
       "      <td>Cookie</td>\n",
       "      <td>Cat</td>\n",
       "      <td>female</td>\n",
       "      <td>9</td>\n",
       "      <td>5508</td>\n",
       "      <td>Charles</td>\n",
       "      <td>Swarey</td>\n",
       "      <td>2463 Charles Street</td>\n",
       "      <td>Flint</td>\n",
       "      <td>MI</td>\n",
       "      <td>Michigan</td>\n",
       "      <td>48548</td>\n",
       "    </tr>\n",
       "    <tr>\n",
       "      <th>3</th>\n",
       "      <td>U0-5987</td>\n",
       "      <td>Ebenezer</td>\n",
       "      <td>Cat</td>\n",
       "      <td>male</td>\n",
       "      <td>0</td>\n",
       "      <td>5508</td>\n",
       "      <td>Charles</td>\n",
       "      <td>Swarey</td>\n",
       "      <td>2463 Charles Street</td>\n",
       "      <td>Flint</td>\n",
       "      <td>MI</td>\n",
       "      <td>Michigan</td>\n",
       "      <td>48548</td>\n",
       "    </tr>\n",
       "    <tr>\n",
       "      <th>4</th>\n",
       "      <td>M0-2904</td>\n",
       "      <td>Simba</td>\n",
       "      <td>Cat</td>\n",
       "      <td>male</td>\n",
       "      <td>1</td>\n",
       "      <td>3086</td>\n",
       "      <td>Ed</td>\n",
       "      <td>Enriquez</td>\n",
       "      <td>3413 Reppert Coal Road</td>\n",
       "      <td>Warren</td>\n",
       "      <td>MI</td>\n",
       "      <td>Michigan</td>\n",
       "      <td>48093</td>\n",
       "    </tr>\n",
       "  </tbody>\n",
       "</table>\n",
       "</div>"
      ],
      "text/plain": [
       "     PetID    Name_x Kind  Gender  Age  OwnerID   Name_y   Surname  \\\n",
       "0  J6-8562    Brandy  Dog    male   11     5168   Robert    Foster   \n",
       "1  Q0-2001    Roomba  Cat    male    9     5508  Charles    Swarey   \n",
       "2  F6-5391    Cookie  Cat  female    9     5508  Charles    Swarey   \n",
       "3  U0-5987  Ebenezer  Cat    male    0     5508  Charles    Swarey   \n",
       "4  M0-2904     Simba  Cat    male    1     3086       Ed  Enriquez   \n",
       "\n",
       "            StreetAddress          City State StateFull  ZipCode  \n",
       "0      4680 Rubaiyat Road  Grand Rapids    MI  Michigan    49503  \n",
       "1     2463 Charles Street         Flint    MI  Michigan    48548  \n",
       "2     2463 Charles Street         Flint    MI  Michigan    48548  \n",
       "3     2463 Charles Street         Flint    MI  Michigan    48548  \n",
       "4  3413 Reppert Coal Road        Warren    MI  Michigan    48093  "
      ]
     },
     "execution_count": 40,
     "metadata": {},
     "output_type": "execute_result"
    }
   ],
   "source": [
    "pets_owners.head(5)"
   ]
  },
  {
   "cell_type": "code",
   "execution_count": 41,
   "id": "da341fb8",
   "metadata": {},
   "outputs": [],
   "source": [
    "GR = pets_owners[pets_owners[\"City\"] == \"Grand Rapids\"]"
   ]
  },
  {
   "cell_type": "code",
   "execution_count": 42,
   "id": "9348c8c5",
   "metadata": {},
   "outputs": [],
   "source": [
    "GR = GR.sort_values(by='Kind')"
   ]
  },
  {
   "cell_type": "code",
   "execution_count": 43,
   "id": "40636305",
   "metadata": {},
   "outputs": [
    {
     "data": {
      "text/html": [
       "<div>\n",
       "<style scoped>\n",
       "    .dataframe tbody tr th:only-of-type {\n",
       "        vertical-align: middle;\n",
       "    }\n",
       "\n",
       "    .dataframe tbody tr th {\n",
       "        vertical-align: top;\n",
       "    }\n",
       "\n",
       "    .dataframe thead th {\n",
       "        text-align: right;\n",
       "    }\n",
       "</style>\n",
       "<table border=\"1\" class=\"dataframe\">\n",
       "  <thead>\n",
       "    <tr style=\"text-align: right;\">\n",
       "      <th></th>\n",
       "      <th>PetID</th>\n",
       "      <th>Name_x</th>\n",
       "      <th>Kind</th>\n",
       "      <th>Gender</th>\n",
       "      <th>Age</th>\n",
       "      <th>OwnerID</th>\n",
       "      <th>Name_y</th>\n",
       "      <th>Surname</th>\n",
       "      <th>StreetAddress</th>\n",
       "      <th>City</th>\n",
       "      <th>State</th>\n",
       "      <th>StateFull</th>\n",
       "      <th>ZipCode</th>\n",
       "    </tr>\n",
       "  </thead>\n",
       "  <tbody>\n",
       "    <tr>\n",
       "      <th>10</th>\n",
       "      <td>M8-7852</td>\n",
       "      <td>Cookie</td>\n",
       "      <td>Cat</td>\n",
       "      <td>female</td>\n",
       "      <td>8</td>\n",
       "      <td>7606</td>\n",
       "      <td>Edna</td>\n",
       "      <td>Moreno</td>\n",
       "      <td>2548 Wetzel Lane</td>\n",
       "      <td>Grand Rapids</td>\n",
       "      <td>MI</td>\n",
       "      <td>Michigan</td>\n",
       "      <td>49503</td>\n",
       "    </tr>\n",
       "    <tr>\n",
       "      <th>0</th>\n",
       "      <td>J6-8562</td>\n",
       "      <td>Brandy</td>\n",
       "      <td>Dog</td>\n",
       "      <td>male</td>\n",
       "      <td>11</td>\n",
       "      <td>5168</td>\n",
       "      <td>Robert</td>\n",
       "      <td>Foster</td>\n",
       "      <td>4680 Rubaiyat Road</td>\n",
       "      <td>Grand Rapids</td>\n",
       "      <td>MI</td>\n",
       "      <td>Michigan</td>\n",
       "      <td>49503</td>\n",
       "    </tr>\n",
       "    <tr>\n",
       "      <th>16</th>\n",
       "      <td>G4-8096</td>\n",
       "      <td>Danger</td>\n",
       "      <td>Dog</td>\n",
       "      <td>male</td>\n",
       "      <td>9</td>\n",
       "      <td>9037</td>\n",
       "      <td>Roger</td>\n",
       "      <td>Lade</td>\n",
       "      <td>1315 Echo Lane</td>\n",
       "      <td>Grand Rapids</td>\n",
       "      <td>MI</td>\n",
       "      <td>Michigan</td>\n",
       "      <td>49503</td>\n",
       "    </tr>\n",
       "    <tr>\n",
       "      <th>36</th>\n",
       "      <td>L0-6660</td>\n",
       "      <td>Cookie</td>\n",
       "      <td>Dog</td>\n",
       "      <td>male</td>\n",
       "      <td>9</td>\n",
       "      <td>5806</td>\n",
       "      <td>Jerry</td>\n",
       "      <td>Reyna</td>\n",
       "      <td>1073 Rubaiyat Road</td>\n",
       "      <td>Grand Rapids</td>\n",
       "      <td>MI</td>\n",
       "      <td>Michigan</td>\n",
       "      <td>49503</td>\n",
       "    </tr>\n",
       "    <tr>\n",
       "      <th>39</th>\n",
       "      <td>J1-6366</td>\n",
       "      <td>Bruce</td>\n",
       "      <td>Dog</td>\n",
       "      <td>male</td>\n",
       "      <td>3</td>\n",
       "      <td>8316</td>\n",
       "      <td>Daniel</td>\n",
       "      <td>Fay</td>\n",
       "      <td>894 Twin Oaks Drive</td>\n",
       "      <td>Grand Rapids</td>\n",
       "      <td>MI</td>\n",
       "      <td>Michigan</td>\n",
       "      <td>49503</td>\n",
       "    </tr>\n",
       "    <tr>\n",
       "      <th>56</th>\n",
       "      <td>R7-4835</td>\n",
       "      <td>Cookie</td>\n",
       "      <td>Dog</td>\n",
       "      <td>male</td>\n",
       "      <td>12</td>\n",
       "      <td>5215</td>\n",
       "      <td>Larry</td>\n",
       "      <td>Hunt</td>\n",
       "      <td>3384 West Street</td>\n",
       "      <td>Grand Rapids</td>\n",
       "      <td>MI</td>\n",
       "      <td>Michigan</td>\n",
       "      <td>49503</td>\n",
       "    </tr>\n",
       "    <tr>\n",
       "      <th>65</th>\n",
       "      <td>I6-9459</td>\n",
       "      <td>Biscuit</td>\n",
       "      <td>Dog</td>\n",
       "      <td>female</td>\n",
       "      <td>4</td>\n",
       "      <td>6049</td>\n",
       "      <td>Debbie</td>\n",
       "      <td>Metivier</td>\n",
       "      <td>315 Goff Avenue</td>\n",
       "      <td>Grand Rapids</td>\n",
       "      <td>MI</td>\n",
       "      <td>Michigan</td>\n",
       "      <td>49503</td>\n",
       "    </tr>\n",
       "    <tr>\n",
       "      <th>82</th>\n",
       "      <td>K0-8177</td>\n",
       "      <td>Bruce</td>\n",
       "      <td>Dog</td>\n",
       "      <td>male</td>\n",
       "      <td>12</td>\n",
       "      <td>2809</td>\n",
       "      <td>Bruce</td>\n",
       "      <td>Dunne</td>\n",
       "      <td>4119 Kimberly Way</td>\n",
       "      <td>Grand Rapids</td>\n",
       "      <td>MI</td>\n",
       "      <td>Michigan</td>\n",
       "      <td>49503</td>\n",
       "    </tr>\n",
       "    <tr>\n",
       "      <th>7</th>\n",
       "      <td>X0-8765</td>\n",
       "      <td>Vuitton</td>\n",
       "      <td>Parrot</td>\n",
       "      <td>female</td>\n",
       "      <td>11</td>\n",
       "      <td>7581</td>\n",
       "      <td>Florence</td>\n",
       "      <td>Nolen</td>\n",
       "      <td>3103 Howard Street</td>\n",
       "      <td>Grand Rapids</td>\n",
       "      <td>MI</td>\n",
       "      <td>Michigan</td>\n",
       "      <td>49503</td>\n",
       "    </tr>\n",
       "    <tr>\n",
       "      <th>79</th>\n",
       "      <td>K4-5012</td>\n",
       "      <td>Natacha</td>\n",
       "      <td>Parrot</td>\n",
       "      <td>female</td>\n",
       "      <td>11</td>\n",
       "      <td>2755</td>\n",
       "      <td>Anne</td>\n",
       "      <td>Hudson</td>\n",
       "      <td>4110 Howard Street</td>\n",
       "      <td>Grand Rapids</td>\n",
       "      <td>MI</td>\n",
       "      <td>Michigan</td>\n",
       "      <td>49503</td>\n",
       "    </tr>\n",
       "  </tbody>\n",
       "</table>\n",
       "</div>"
      ],
      "text/plain": [
       "      PetID   Name_x    Kind  Gender  Age  OwnerID    Name_y   Surname  \\\n",
       "10  M8-7852   Cookie     Cat  female    8     7606      Edna    Moreno   \n",
       "0   J6-8562   Brandy     Dog    male   11     5168    Robert    Foster   \n",
       "16  G4-8096   Danger     Dog    male    9     9037     Roger      Lade   \n",
       "36  L0-6660   Cookie     Dog    male    9     5806     Jerry     Reyna   \n",
       "39  J1-6366    Bruce     Dog    male    3     8316    Daniel       Fay   \n",
       "56  R7-4835   Cookie     Dog    male   12     5215     Larry      Hunt   \n",
       "65  I6-9459  Biscuit     Dog  female    4     6049    Debbie  Metivier   \n",
       "82  K0-8177    Bruce     Dog    male   12     2809     Bruce     Dunne   \n",
       "7   X0-8765  Vuitton  Parrot  female   11     7581  Florence     Nolen   \n",
       "79  K4-5012  Natacha  Parrot  female   11     2755      Anne    Hudson   \n",
       "\n",
       "          StreetAddress          City State StateFull  ZipCode  \n",
       "10     2548 Wetzel Lane  Grand Rapids    MI  Michigan    49503  \n",
       "0    4680 Rubaiyat Road  Grand Rapids    MI  Michigan    49503  \n",
       "16       1315 Echo Lane  Grand Rapids    MI  Michigan    49503  \n",
       "36   1073 Rubaiyat Road  Grand Rapids    MI  Michigan    49503  \n",
       "39  894 Twin Oaks Drive  Grand Rapids    MI  Michigan    49503  \n",
       "56     3384 West Street  Grand Rapids    MI  Michigan    49503  \n",
       "65      315 Goff Avenue  Grand Rapids    MI  Michigan    49503  \n",
       "82    4119 Kimberly Way  Grand Rapids    MI  Michigan    49503  \n",
       "7    3103 Howard Street  Grand Rapids    MI  Michigan    49503  \n",
       "79   4110 Howard Street  Grand Rapids    MI  Michigan    49503  "
      ]
     },
     "execution_count": 43,
     "metadata": {},
     "output_type": "execute_result"
    }
   ],
   "source": [
    "GR"
   ]
  },
  {
   "cell_type": "code",
   "execution_count": 44,
   "id": "4d3a0578",
   "metadata": {},
   "outputs": [
    {
     "data": {
      "text/plain": [
       "3"
      ]
     },
     "execution_count": 44,
     "metadata": {},
     "output_type": "execute_result"
    }
   ],
   "source": [
    "len(GR[\"Kind\"].unique())"
   ]
  },
  {
   "cell_type": "code",
   "execution_count": 45,
   "id": "69e19a40",
   "metadata": {},
   "outputs": [
    {
     "data": {
      "text/plain": [
       "City\n",
       "Ann Arbor               2\n",
       "Bloomfield Township     4\n",
       "Bridgman                1\n",
       "Bruce Crossing          1\n",
       "Caro                    1\n",
       "Center Line             1\n",
       "Clam River              2\n",
       "Commerce                1\n",
       "Davison                 1\n",
       "Detroit                 8\n",
       "Dutton                  1\n",
       "East Lansing            2\n",
       "Farmington              1\n",
       "Farmington Hills        1\n",
       "Flint                   4\n",
       "Fremont                 1\n",
       "Fruitport               2\n",
       "Grand Ledge             1\n",
       "Grand Rapids           10\n",
       "Highland Park           1\n",
       "Hudsonville             1\n",
       "Kalamazoo               2\n",
       "Lansing                 6\n",
       "Lincoln Park            1\n",
       "Livonia                 2\n",
       "Marquette               7\n",
       "Michigan Center         1\n",
       "Middleville             1\n",
       "Oshtemo                 1\n",
       "Plymouth                1\n",
       "Pontiac                 3\n",
       "Rochester Hills         1\n",
       "Roseville               1\n",
       "Saginaw                 3\n",
       "Saint Charles           1\n",
       "Southfield             18\n",
       "Traverse City           1\n",
       "Warren                  1\n",
       "Wayne                   1\n",
       "Westland                1\n",
       "dtype: int64"
      ]
     },
     "execution_count": 45,
     "metadata": {},
     "output_type": "execute_result"
    }
   ],
   "source": [
    "pets_owners.groupby(\"City\").size()"
   ]
  },
  {
   "cell_type": "code",
   "execution_count": 46,
   "id": "b54f1b37",
   "metadata": {},
   "outputs": [],
   "source": [
    "# Who spends the most on their pets?"
   ]
  },
  {
   "cell_type": "code",
   "execution_count": 47,
   "id": "7bf69412",
   "metadata": {},
   "outputs": [],
   "source": [
    "procedures = pd.read_csv(\"/Users/williamearley/Broncos/procedures.csv\")"
   ]
  },
  {
   "cell_type": "code",
   "execution_count": 48,
   "id": "e6025db6",
   "metadata": {},
   "outputs": [],
   "source": [
    "procedure_details = pd.read_csv(\"/Users/williamearley/Broncos/procedure_details.csv\")"
   ]
  },
  {
   "cell_type": "code",
   "execution_count": 49,
   "id": "7fb458cd",
   "metadata": {},
   "outputs": [
    {
     "data": {
      "text/html": [
       "<div>\n",
       "<style scoped>\n",
       "    .dataframe tbody tr th:only-of-type {\n",
       "        vertical-align: middle;\n",
       "    }\n",
       "\n",
       "    .dataframe tbody tr th {\n",
       "        vertical-align: top;\n",
       "    }\n",
       "\n",
       "    .dataframe thead th {\n",
       "        text-align: right;\n",
       "    }\n",
       "</style>\n",
       "<table border=\"1\" class=\"dataframe\">\n",
       "  <thead>\n",
       "    <tr style=\"text-align: right;\">\n",
       "      <th></th>\n",
       "      <th>ProcedureType</th>\n",
       "      <th>ProcedureSubCode</th>\n",
       "      <th>Description</th>\n",
       "      <th>Price</th>\n",
       "    </tr>\n",
       "  </thead>\n",
       "  <tbody>\n",
       "    <tr>\n",
       "      <th>0</th>\n",
       "      <td>OFFICE FEES</td>\n",
       "      <td>1</td>\n",
       "      <td>Office Call</td>\n",
       "      <td>32</td>\n",
       "    </tr>\n",
       "    <tr>\n",
       "      <th>1</th>\n",
       "      <td>OFFICE FEES</td>\n",
       "      <td>2</td>\n",
       "      <td>Emergency</td>\n",
       "      <td>100</td>\n",
       "    </tr>\n",
       "  </tbody>\n",
       "</table>\n",
       "</div>"
      ],
      "text/plain": [
       "  ProcedureType  ProcedureSubCode  Description  Price\n",
       "0   OFFICE FEES                 1  Office Call     32\n",
       "1   OFFICE FEES                 2    Emergency    100"
      ]
     },
     "execution_count": 49,
     "metadata": {},
     "output_type": "execute_result"
    }
   ],
   "source": [
    "procedure_details.head(2)"
   ]
  },
  {
   "cell_type": "code",
   "execution_count": 50,
   "id": "bb2797c0",
   "metadata": {},
   "outputs": [
    {
     "data": {
      "text/html": [
       "<div>\n",
       "<style scoped>\n",
       "    .dataframe tbody tr th:only-of-type {\n",
       "        vertical-align: middle;\n",
       "    }\n",
       "\n",
       "    .dataframe tbody tr th {\n",
       "        vertical-align: top;\n",
       "    }\n",
       "\n",
       "    .dataframe thead th {\n",
       "        text-align: right;\n",
       "    }\n",
       "</style>\n",
       "<table border=\"1\" class=\"dataframe\">\n",
       "  <thead>\n",
       "    <tr style=\"text-align: right;\">\n",
       "      <th></th>\n",
       "      <th>PetID</th>\n",
       "      <th>Date</th>\n",
       "      <th>ProcedureType</th>\n",
       "      <th>ProcedureSubCode</th>\n",
       "    </tr>\n",
       "  </thead>\n",
       "  <tbody>\n",
       "    <tr>\n",
       "      <th>0</th>\n",
       "      <td>T0-3277</td>\n",
       "      <td>42391</td>\n",
       "      <td>VACCINATIONS</td>\n",
       "      <td>5</td>\n",
       "    </tr>\n",
       "    <tr>\n",
       "      <th>1</th>\n",
       "      <td>G6-6501</td>\n",
       "      <td>42398</td>\n",
       "      <td>VACCINATIONS</td>\n",
       "      <td>5</td>\n",
       "    </tr>\n",
       "  </tbody>\n",
       "</table>\n",
       "</div>"
      ],
      "text/plain": [
       "     PetID   Date ProcedureType  ProcedureSubCode\n",
       "0  T0-3277  42391  VACCINATIONS                 5\n",
       "1  G6-6501  42398  VACCINATIONS                 5"
      ]
     },
     "execution_count": 50,
     "metadata": {},
     "output_type": "execute_result"
    }
   ],
   "source": [
    "procedures.head(2)"
   ]
  },
  {
   "cell_type": "code",
   "execution_count": 51,
   "id": "e3f2a622",
   "metadata": {},
   "outputs": [
    {
     "data": {
      "text/html": [
       "<div>\n",
       "<style scoped>\n",
       "    .dataframe tbody tr th:only-of-type {\n",
       "        vertical-align: middle;\n",
       "    }\n",
       "\n",
       "    .dataframe tbody tr th {\n",
       "        vertical-align: top;\n",
       "    }\n",
       "\n",
       "    .dataframe thead th {\n",
       "        text-align: right;\n",
       "    }\n",
       "</style>\n",
       "<table border=\"1\" class=\"dataframe\">\n",
       "  <thead>\n",
       "    <tr style=\"text-align: right;\">\n",
       "      <th></th>\n",
       "      <th>PetID</th>\n",
       "      <th>Name_x</th>\n",
       "      <th>Kind</th>\n",
       "      <th>Gender</th>\n",
       "      <th>Age</th>\n",
       "      <th>OwnerID</th>\n",
       "      <th>Name_y</th>\n",
       "      <th>Surname</th>\n",
       "      <th>StreetAddress</th>\n",
       "      <th>City</th>\n",
       "      <th>State</th>\n",
       "      <th>StateFull</th>\n",
       "      <th>ZipCode</th>\n",
       "    </tr>\n",
       "  </thead>\n",
       "  <tbody>\n",
       "    <tr>\n",
       "      <th>0</th>\n",
       "      <td>J6-8562</td>\n",
       "      <td>Brandy</td>\n",
       "      <td>Dog</td>\n",
       "      <td>male</td>\n",
       "      <td>11</td>\n",
       "      <td>5168</td>\n",
       "      <td>Robert</td>\n",
       "      <td>Foster</td>\n",
       "      <td>4680 Rubaiyat Road</td>\n",
       "      <td>Grand Rapids</td>\n",
       "      <td>MI</td>\n",
       "      <td>Michigan</td>\n",
       "      <td>49503</td>\n",
       "    </tr>\n",
       "    <tr>\n",
       "      <th>1</th>\n",
       "      <td>Q0-2001</td>\n",
       "      <td>Roomba</td>\n",
       "      <td>Cat</td>\n",
       "      <td>male</td>\n",
       "      <td>9</td>\n",
       "      <td>5508</td>\n",
       "      <td>Charles</td>\n",
       "      <td>Swarey</td>\n",
       "      <td>2463 Charles Street</td>\n",
       "      <td>Flint</td>\n",
       "      <td>MI</td>\n",
       "      <td>Michigan</td>\n",
       "      <td>48548</td>\n",
       "    </tr>\n",
       "  </tbody>\n",
       "</table>\n",
       "</div>"
      ],
      "text/plain": [
       "     PetID  Name_x Kind Gender  Age  OwnerID   Name_y Surname  \\\n",
       "0  J6-8562  Brandy  Dog   male   11     5168   Robert  Foster   \n",
       "1  Q0-2001  Roomba  Cat   male    9     5508  Charles  Swarey   \n",
       "\n",
       "         StreetAddress          City State StateFull  ZipCode  \n",
       "0   4680 Rubaiyat Road  Grand Rapids    MI  Michigan    49503  \n",
       "1  2463 Charles Street         Flint    MI  Michigan    48548  "
      ]
     },
     "execution_count": 51,
     "metadata": {},
     "output_type": "execute_result"
    }
   ],
   "source": [
    "pets_owners.head(2)"
   ]
  },
  {
   "cell_type": "code",
   "execution_count": 52,
   "id": "d8a41436",
   "metadata": {},
   "outputs": [],
   "source": [
    "merged = pd.merge(pets_owners, procedures, on=\"PetID\", how='left')"
   ]
  },
  {
   "cell_type": "code",
   "execution_count": 53,
   "id": "9d43caf6",
   "metadata": {},
   "outputs": [],
   "source": [
    "merged = pd.merge(merged, procedure_details, on=[\"ProcedureSubCode\", 'ProcedureType'], how='left')"
   ]
  },
  {
   "cell_type": "code",
   "execution_count": 54,
   "id": "edb24ed9",
   "metadata": {},
   "outputs": [
    {
     "data": {
      "text/html": [
       "<div>\n",
       "<style scoped>\n",
       "    .dataframe tbody tr th:only-of-type {\n",
       "        vertical-align: middle;\n",
       "    }\n",
       "\n",
       "    .dataframe tbody tr th {\n",
       "        vertical-align: top;\n",
       "    }\n",
       "\n",
       "    .dataframe thead th {\n",
       "        text-align: right;\n",
       "    }\n",
       "</style>\n",
       "<table border=\"1\" class=\"dataframe\">\n",
       "  <thead>\n",
       "    <tr style=\"text-align: right;\">\n",
       "      <th></th>\n",
       "      <th>PetID</th>\n",
       "      <th>Name_x</th>\n",
       "      <th>Kind</th>\n",
       "      <th>Gender</th>\n",
       "      <th>Age</th>\n",
       "      <th>OwnerID</th>\n",
       "      <th>Name_y</th>\n",
       "      <th>Surname</th>\n",
       "      <th>StreetAddress</th>\n",
       "      <th>City</th>\n",
       "      <th>State</th>\n",
       "      <th>StateFull</th>\n",
       "      <th>ZipCode</th>\n",
       "      <th>Date</th>\n",
       "      <th>ProcedureType</th>\n",
       "      <th>ProcedureSubCode</th>\n",
       "      <th>Description</th>\n",
       "      <th>Price</th>\n",
       "    </tr>\n",
       "  </thead>\n",
       "  <tbody>\n",
       "    <tr>\n",
       "      <th>0</th>\n",
       "      <td>J6-8562</td>\n",
       "      <td>Brandy</td>\n",
       "      <td>Dog</td>\n",
       "      <td>male</td>\n",
       "      <td>11</td>\n",
       "      <td>5168</td>\n",
       "      <td>Robert</td>\n",
       "      <td>Foster</td>\n",
       "      <td>4680 Rubaiyat Road</td>\n",
       "      <td>Grand Rapids</td>\n",
       "      <td>MI</td>\n",
       "      <td>Michigan</td>\n",
       "      <td>49503</td>\n",
       "      <td>42603.0</td>\n",
       "      <td>GENERAL SURGERIES</td>\n",
       "      <td>8.0</td>\n",
       "      <td>Umbilical</td>\n",
       "      <td>175.0</td>\n",
       "    </tr>\n",
       "    <tr>\n",
       "      <th>1</th>\n",
       "      <td>Q0-2001</td>\n",
       "      <td>Roomba</td>\n",
       "      <td>Cat</td>\n",
       "      <td>male</td>\n",
       "      <td>9</td>\n",
       "      <td>5508</td>\n",
       "      <td>Charles</td>\n",
       "      <td>Swarey</td>\n",
       "      <td>2463 Charles Street</td>\n",
       "      <td>Flint</td>\n",
       "      <td>MI</td>\n",
       "      <td>Michigan</td>\n",
       "      <td>48548</td>\n",
       "      <td>NaN</td>\n",
       "      <td>NaN</td>\n",
       "      <td>NaN</td>\n",
       "      <td>NaN</td>\n",
       "      <td>NaN</td>\n",
       "    </tr>\n",
       "  </tbody>\n",
       "</table>\n",
       "</div>"
      ],
      "text/plain": [
       "     PetID  Name_x Kind Gender  Age  OwnerID   Name_y Surname  \\\n",
       "0  J6-8562  Brandy  Dog   male   11     5168   Robert  Foster   \n",
       "1  Q0-2001  Roomba  Cat   male    9     5508  Charles  Swarey   \n",
       "\n",
       "         StreetAddress          City State StateFull  ZipCode     Date  \\\n",
       "0   4680 Rubaiyat Road  Grand Rapids    MI  Michigan    49503  42603.0   \n",
       "1  2463 Charles Street         Flint    MI  Michigan    48548      NaN   \n",
       "\n",
       "       ProcedureType  ProcedureSubCode Description  Price  \n",
       "0  GENERAL SURGERIES               8.0   Umbilical  175.0  \n",
       "1                NaN               NaN         NaN    NaN  "
      ]
     },
     "execution_count": 54,
     "metadata": {},
     "output_type": "execute_result"
    }
   ],
   "source": [
    "merged.head(2)"
   ]
  },
  {
   "cell_type": "code",
   "execution_count": 55,
   "id": "f58b169d",
   "metadata": {},
   "outputs": [],
   "source": [
    "owners_total = merged.groupby([\"OwnerID\", \"Name_y\", \"Surname\"])['Price'].sum().reset_index()"
   ]
  },
  {
   "cell_type": "code",
   "execution_count": 56,
   "id": "dfbb7c53",
   "metadata": {},
   "outputs": [
    {
     "data": {
      "text/html": [
       "<div>\n",
       "<style scoped>\n",
       "    .dataframe tbody tr th:only-of-type {\n",
       "        vertical-align: middle;\n",
       "    }\n",
       "\n",
       "    .dataframe tbody tr th {\n",
       "        vertical-align: top;\n",
       "    }\n",
       "\n",
       "    .dataframe thead th {\n",
       "        text-align: right;\n",
       "    }\n",
       "</style>\n",
       "<table border=\"1\" class=\"dataframe\">\n",
       "  <thead>\n",
       "    <tr style=\"text-align: right;\">\n",
       "      <th></th>\n",
       "      <th>OwnerID</th>\n",
       "      <th>Name_y</th>\n",
       "      <th>Surname</th>\n",
       "      <th>Price</th>\n",
       "    </tr>\n",
       "  </thead>\n",
       "  <tbody>\n",
       "    <tr>\n",
       "      <th>76</th>\n",
       "      <td>8316</td>\n",
       "      <td>Daniel</td>\n",
       "      <td>Fay</td>\n",
       "      <td>450.0</td>\n",
       "    </tr>\n",
       "    <tr>\n",
       "      <th>46</th>\n",
       "      <td>5806</td>\n",
       "      <td>Jerry</td>\n",
       "      <td>Reyna</td>\n",
       "      <td>400.0</td>\n",
       "    </tr>\n",
       "    <tr>\n",
       "      <th>66</th>\n",
       "      <td>7579</td>\n",
       "      <td>Ricardo</td>\n",
       "      <td>Peterson</td>\n",
       "      <td>325.0</td>\n",
       "    </tr>\n",
       "    <tr>\n",
       "      <th>11</th>\n",
       "      <td>1915</td>\n",
       "      <td>Christopher</td>\n",
       "      <td>Bowers</td>\n",
       "      <td>305.0</td>\n",
       "    </tr>\n",
       "    <tr>\n",
       "      <th>67</th>\n",
       "      <td>7581</td>\n",
       "      <td>Florence</td>\n",
       "      <td>Nolen</td>\n",
       "      <td>185.0</td>\n",
       "    </tr>\n",
       "    <tr>\n",
       "      <th>...</th>\n",
       "      <td>...</td>\n",
       "      <td>...</td>\n",
       "      <td>...</td>\n",
       "      <td>...</td>\n",
       "    </tr>\n",
       "    <tr>\n",
       "      <th>53</th>\n",
       "      <td>6406</td>\n",
       "      <td>Catherine</td>\n",
       "      <td>Hundley</td>\n",
       "      <td>0.0</td>\n",
       "    </tr>\n",
       "    <tr>\n",
       "      <th>54</th>\n",
       "      <td>6731</td>\n",
       "      <td>Thomas</td>\n",
       "      <td>Boatwright</td>\n",
       "      <td>0.0</td>\n",
       "    </tr>\n",
       "    <tr>\n",
       "      <th>55</th>\n",
       "      <td>6923</td>\n",
       "      <td>Hassan</td>\n",
       "      <td>Stevens</td>\n",
       "      <td>0.0</td>\n",
       "    </tr>\n",
       "    <tr>\n",
       "      <th>56</th>\n",
       "      <td>7023</td>\n",
       "      <td>Gertrude</td>\n",
       "      <td>Harris</td>\n",
       "      <td>0.0</td>\n",
       "    </tr>\n",
       "    <tr>\n",
       "      <th>44</th>\n",
       "      <td>5737</td>\n",
       "      <td>Alden</td>\n",
       "      <td>McMiller</td>\n",
       "      <td>0.0</td>\n",
       "    </tr>\n",
       "  </tbody>\n",
       "</table>\n",
       "<p>89 rows × 4 columns</p>\n",
       "</div>"
      ],
      "text/plain": [
       "    OwnerID       Name_y     Surname  Price\n",
       "76     8316       Daniel         Fay  450.0\n",
       "46     5806        Jerry       Reyna  400.0\n",
       "66     7579      Ricardo    Peterson  325.0\n",
       "11     1915  Christopher      Bowers  305.0\n",
       "67     7581     Florence       Nolen  185.0\n",
       "..      ...          ...         ...    ...\n",
       "53     6406    Catherine     Hundley    0.0\n",
       "54     6731       Thomas  Boatwright    0.0\n",
       "55     6923       Hassan     Stevens    0.0\n",
       "56     7023     Gertrude      Harris    0.0\n",
       "44     5737        Alden    McMiller    0.0\n",
       "\n",
       "[89 rows x 4 columns]"
      ]
     },
     "execution_count": 56,
     "metadata": {},
     "output_type": "execute_result"
    }
   ],
   "source": [
    "owners_total.sort_values(by=\"Price\", ascending=False)"
   ]
  },
  {
   "cell_type": "code",
   "execution_count": 57,
   "id": "7137baf6",
   "metadata": {},
   "outputs": [
    {
     "data": {
      "text/plain": [
       "12"
      ]
     },
     "execution_count": 57,
     "metadata": {},
     "output_type": "execute_result"
    }
   ],
   "source": [
    "# How many owners spent $20 or more on procedures?\n",
    "\n",
    "(owners_total['Price'] >= 20).sum()"
   ]
  },
  {
   "cell_type": "code",
   "execution_count": 58,
   "id": "a55bf351",
   "metadata": {},
   "outputs": [
    {
     "data": {
      "text/html": [
       "<div>\n",
       "<style scoped>\n",
       "    .dataframe tbody tr th:only-of-type {\n",
       "        vertical-align: middle;\n",
       "    }\n",
       "\n",
       "    .dataframe tbody tr th {\n",
       "        vertical-align: top;\n",
       "    }\n",
       "\n",
       "    .dataframe thead th {\n",
       "        text-align: right;\n",
       "    }\n",
       "</style>\n",
       "<table border=\"1\" class=\"dataframe\">\n",
       "  <thead>\n",
       "    <tr style=\"text-align: right;\">\n",
       "      <th></th>\n",
       "      <th>PetID</th>\n",
       "      <th>Name</th>\n",
       "      <th>Kind</th>\n",
       "      <th>Gender</th>\n",
       "      <th>Age</th>\n",
       "      <th>OwnerID</th>\n",
       "    </tr>\n",
       "  </thead>\n",
       "  <tbody>\n",
       "    <tr>\n",
       "      <th>0</th>\n",
       "      <td>J6-8562</td>\n",
       "      <td>Brandy</td>\n",
       "      <td>Dog</td>\n",
       "      <td>male</td>\n",
       "      <td>11</td>\n",
       "      <td>5168</td>\n",
       "    </tr>\n",
       "    <tr>\n",
       "      <th>1</th>\n",
       "      <td>Q0-2001</td>\n",
       "      <td>Roomba</td>\n",
       "      <td>Cat</td>\n",
       "      <td>male</td>\n",
       "      <td>9</td>\n",
       "      <td>5508</td>\n",
       "    </tr>\n",
       "    <tr>\n",
       "      <th>2</th>\n",
       "      <td>M0-2904</td>\n",
       "      <td>Simba</td>\n",
       "      <td>Cat</td>\n",
       "      <td>male</td>\n",
       "      <td>1</td>\n",
       "      <td>3086</td>\n",
       "    </tr>\n",
       "    <tr>\n",
       "      <th>3</th>\n",
       "      <td>R3-7551</td>\n",
       "      <td>Keller</td>\n",
       "      <td>Parrot</td>\n",
       "      <td>female</td>\n",
       "      <td>2</td>\n",
       "      <td>7908</td>\n",
       "    </tr>\n",
       "  </tbody>\n",
       "</table>\n",
       "</div>"
      ],
      "text/plain": [
       "     PetID    Name    Kind  Gender  Age  OwnerID\n",
       "0  J6-8562  Brandy     Dog    male   11     5168\n",
       "1  Q0-2001  Roomba     Cat    male    9     5508\n",
       "2  M0-2904   Simba     Cat    male    1     3086\n",
       "3  R3-7551  Keller  Parrot  female    2     7908"
      ]
     },
     "execution_count": 58,
     "metadata": {},
     "output_type": "execute_result"
    }
   ],
   "source": [
    "pets.head(4)"
   ]
  },
  {
   "cell_type": "code",
   "execution_count": 59,
   "id": "b8be4352",
   "metadata": {},
   "outputs": [],
   "source": [
    "# How many owners have more than one type of pet?\n",
    "\n",
    "owner_pets = pets.groupby(\"OwnerID\")['Kind'].nunique()"
   ]
  },
  {
   "cell_type": "code",
   "execution_count": 60,
   "id": "481ba118",
   "metadata": {},
   "outputs": [],
   "source": [
    "num = owner_pets[owner_pets >= 2]"
   ]
  },
  {
   "cell_type": "code",
   "execution_count": 61,
   "id": "2b42e4e6",
   "metadata": {},
   "outputs": [
    {
     "data": {
      "text/plain": [
       "OwnerID\n",
       "3089    2\n",
       "6102    2\n",
       "7484    2\n",
       "8133    2\n",
       "Name: Kind, dtype: int64"
      ]
     },
     "execution_count": 61,
     "metadata": {},
     "output_type": "execute_result"
    }
   ],
   "source": [
    "num"
   ]
  },
  {
   "cell_type": "code",
   "execution_count": 62,
   "id": "d6346cd2",
   "metadata": {},
   "outputs": [
    {
     "data": {
      "text/plain": [
       "6.93"
      ]
     },
     "execution_count": 62,
     "metadata": {},
     "output_type": "execute_result"
    }
   ],
   "source": [
    "pets['Age'].mean()"
   ]
  },
  {
   "cell_type": "code",
   "execution_count": 63,
   "id": "dea1e14f",
   "metadata": {},
   "outputs": [],
   "source": [
    "groups = pets.groupby(\"OwnerID\")"
   ]
  },
  {
   "cell_type": "code",
   "execution_count": 64,
   "id": "7136f549",
   "metadata": {},
   "outputs": [
    {
     "data": {
      "text/plain": [
       "OwnerID\n",
       "1070     3.0\n",
       "1132    15.0\n",
       "1202    12.0\n",
       "1306     6.0\n",
       "1312     5.0\n",
       "        ... \n",
       "9604     2.0\n",
       "9614     7.0\n",
       "9828     7.0\n",
       "9850    11.0\n",
       "9900     4.0\n",
       "Name: Age, Length: 89, dtype: float64"
      ]
     },
     "execution_count": 64,
     "metadata": {},
     "output_type": "execute_result"
    }
   ],
   "source": [
    "groups['Age'].mean()"
   ]
  },
  {
   "cell_type": "code",
   "execution_count": 65,
   "id": "b7602f57",
   "metadata": {},
   "outputs": [],
   "source": [
    "# Prep based on Thunder Assignment"
   ]
  },
  {
   "cell_type": "code",
   "execution_count": 66,
   "id": "0da1659b",
   "metadata": {},
   "outputs": [],
   "source": [
    "# Building out a model"
   ]
  },
  {
   "cell_type": "code",
   "execution_count": 67,
   "id": "3a6cc852",
   "metadata": {},
   "outputs": [],
   "source": [
    "from sklearn.model_selection import train_test_split\n",
    "from sklearn.linear_model import LogisticRegression\n",
    "from sklearn.metrics import classification_report"
   ]
  },
  {
   "cell_type": "code",
   "execution_count": 68,
   "id": "7d54a456",
   "metadata": {},
   "outputs": [],
   "source": [
    "awards = pd.read_csv(\"/Users/williamearley/Thunder/awards_data.csv\")\n",
    "player_stats = pd.read_csv(\"/Users/williamearley/Thunder/player_stats.csv\")\n",
    "team_reb = pd.read_csv(\"/Users/williamearley/Thunder/team_rebounding_data_22.csv\")\n",
    "team_stats = pd.read_csv(\"/Users/williamearley/Thunder/team_stats.csv\")"
   ]
  },
  {
   "cell_type": "code",
   "execution_count": 69,
   "id": "a43b7c80",
   "metadata": {},
   "outputs": [],
   "source": [
    "award_stats = pd.merge(awards, player_stats, on='nbapersonid', how='outer')"
   ]
  },
  {
   "cell_type": "code",
   "execution_count": 70,
   "id": "4eb64137",
   "metadata": {},
   "outputs": [],
   "source": [
    "df = award_stats * 1"
   ]
  },
  {
   "cell_type": "code",
   "execution_count": 71,
   "id": "51511e6f",
   "metadata": {},
   "outputs": [
    {
     "data": {
      "text/plain": [
       "array([1, nan, 0], dtype=object)"
      ]
     },
     "execution_count": 71,
     "metadata": {},
     "output_type": "execute_result"
    }
   ],
   "source": [
    "df['all_star_game'].unique()"
   ]
  },
  {
   "cell_type": "code",
   "execution_count": 72,
   "id": "023c7e86",
   "metadata": {},
   "outputs": [],
   "source": [
    "df = df.fillna(0)"
   ]
  },
  {
   "cell_type": "code",
   "execution_count": 73,
   "id": "24e9b805",
   "metadata": {},
   "outputs": [],
   "source": [
    "y = df['all_star_game']"
   ]
  },
  {
   "cell_type": "code",
   "execution_count": 74,
   "id": "84a4858f",
   "metadata": {},
   "outputs": [],
   "source": [
    "drop_col = ['season_x', 'nbapersonid', \"all_star_game\", \"rookie_all_star_game\", \"player\", \"team\"]"
   ]
  },
  {
   "cell_type": "code",
   "execution_count": 75,
   "id": "42aeaa43",
   "metadata": {},
   "outputs": [],
   "source": [
    "X = df.drop(drop_col, axis=1)"
   ]
  },
  {
   "cell_type": "code",
   "execution_count": 76,
   "id": "d970b7a4",
   "metadata": {},
   "outputs": [],
   "source": [
    "from sklearn.model_selection import train_test_split\n",
    "from sklearn.linear_model import LogisticRegression\n",
    "from sklearn.metrics import classification_report"
   ]
  },
  {
   "cell_type": "code",
   "execution_count": 77,
   "id": "9411a128",
   "metadata": {},
   "outputs": [],
   "source": [
    "X_train, X_val, y_train, y_val = train_test_split(X, y, test_size=0.2, random_state = 42)"
   ]
  },
  {
   "cell_type": "code",
   "execution_count": 78,
   "id": "bf2d2f0b",
   "metadata": {},
   "outputs": [],
   "source": [
    "from sklearn.preprocessing import StandardScaler"
   ]
  },
  {
   "cell_type": "code",
   "execution_count": 79,
   "id": "acc0924e",
   "metadata": {},
   "outputs": [],
   "source": [
    "scaler = StandardScaler()\n",
    "\n",
    "X_train_scaled = scaler.fit_transform(X_train)\n",
    "\n",
    "X_val_scaled = scaler.fit_transform(X_val)"
   ]
  },
  {
   "cell_type": "code",
   "execution_count": 80,
   "id": "723ca418",
   "metadata": {},
   "outputs": [
    {
     "name": "stderr",
     "output_type": "stream",
     "text": [
      "/Library/Frameworks/Python.framework/Versions/3.10/lib/python3.10/site-packages/sklearn/linear_model/_logistic.py:458: ConvergenceWarning: lbfgs failed to converge (status=1):\n",
      "STOP: TOTAL NO. of ITERATIONS REACHED LIMIT.\n",
      "\n",
      "Increase the number of iterations (max_iter) or scale the data as shown in:\n",
      "    https://scikit-learn.org/stable/modules/preprocessing.html\n",
      "Please also refer to the documentation for alternative solver options:\n",
      "    https://scikit-learn.org/stable/modules/linear_model.html#logistic-regression\n",
      "  n_iter_i = _check_optimize_result(\n"
     ]
    },
    {
     "data": {
      "text/html": [
       "<style>#sk-container-id-1 {color: black;background-color: white;}#sk-container-id-1 pre{padding: 0;}#sk-container-id-1 div.sk-toggleable {background-color: white;}#sk-container-id-1 label.sk-toggleable__label {cursor: pointer;display: block;width: 100%;margin-bottom: 0;padding: 0.3em;box-sizing: border-box;text-align: center;}#sk-container-id-1 label.sk-toggleable__label-arrow:before {content: \"▸\";float: left;margin-right: 0.25em;color: #696969;}#sk-container-id-1 label.sk-toggleable__label-arrow:hover:before {color: black;}#sk-container-id-1 div.sk-estimator:hover label.sk-toggleable__label-arrow:before {color: black;}#sk-container-id-1 div.sk-toggleable__content {max-height: 0;max-width: 0;overflow: hidden;text-align: left;background-color: #f0f8ff;}#sk-container-id-1 div.sk-toggleable__content pre {margin: 0.2em;color: black;border-radius: 0.25em;background-color: #f0f8ff;}#sk-container-id-1 input.sk-toggleable__control:checked~div.sk-toggleable__content {max-height: 200px;max-width: 100%;overflow: auto;}#sk-container-id-1 input.sk-toggleable__control:checked~label.sk-toggleable__label-arrow:before {content: \"▾\";}#sk-container-id-1 div.sk-estimator input.sk-toggleable__control:checked~label.sk-toggleable__label {background-color: #d4ebff;}#sk-container-id-1 div.sk-label input.sk-toggleable__control:checked~label.sk-toggleable__label {background-color: #d4ebff;}#sk-container-id-1 input.sk-hidden--visually {border: 0;clip: rect(1px 1px 1px 1px);clip: rect(1px, 1px, 1px, 1px);height: 1px;margin: -1px;overflow: hidden;padding: 0;position: absolute;width: 1px;}#sk-container-id-1 div.sk-estimator {font-family: monospace;background-color: #f0f8ff;border: 1px dotted black;border-radius: 0.25em;box-sizing: border-box;margin-bottom: 0.5em;}#sk-container-id-1 div.sk-estimator:hover {background-color: #d4ebff;}#sk-container-id-1 div.sk-parallel-item::after {content: \"\";width: 100%;border-bottom: 1px solid gray;flex-grow: 1;}#sk-container-id-1 div.sk-label:hover label.sk-toggleable__label {background-color: #d4ebff;}#sk-container-id-1 div.sk-serial::before {content: \"\";position: absolute;border-left: 1px solid gray;box-sizing: border-box;top: 0;bottom: 0;left: 50%;z-index: 0;}#sk-container-id-1 div.sk-serial {display: flex;flex-direction: column;align-items: center;background-color: white;padding-right: 0.2em;padding-left: 0.2em;position: relative;}#sk-container-id-1 div.sk-item {position: relative;z-index: 1;}#sk-container-id-1 div.sk-parallel {display: flex;align-items: stretch;justify-content: center;background-color: white;position: relative;}#sk-container-id-1 div.sk-item::before, #sk-container-id-1 div.sk-parallel-item::before {content: \"\";position: absolute;border-left: 1px solid gray;box-sizing: border-box;top: 0;bottom: 0;left: 50%;z-index: -1;}#sk-container-id-1 div.sk-parallel-item {display: flex;flex-direction: column;z-index: 1;position: relative;background-color: white;}#sk-container-id-1 div.sk-parallel-item:first-child::after {align-self: flex-end;width: 50%;}#sk-container-id-1 div.sk-parallel-item:last-child::after {align-self: flex-start;width: 50%;}#sk-container-id-1 div.sk-parallel-item:only-child::after {width: 0;}#sk-container-id-1 div.sk-dashed-wrapped {border: 1px dashed gray;margin: 0 0.4em 0.5em 0.4em;box-sizing: border-box;padding-bottom: 0.4em;background-color: white;}#sk-container-id-1 div.sk-label label {font-family: monospace;font-weight: bold;display: inline-block;line-height: 1.2em;}#sk-container-id-1 div.sk-label-container {text-align: center;}#sk-container-id-1 div.sk-container {/* jupyter's `normalize.less` sets `[hidden] { display: none; }` but bootstrap.min.css set `[hidden] { display: none !important; }` so we also need the `!important` here to be able to override the default hidden behavior on the sphinx rendered scikit-learn.org. See: https://github.com/scikit-learn/scikit-learn/issues/21755 */display: inline-block !important;position: relative;}#sk-container-id-1 div.sk-text-repr-fallback {display: none;}</style><div id=\"sk-container-id-1\" class=\"sk-top-container\"><div class=\"sk-text-repr-fallback\"><pre>LogisticRegression()</pre><b>In a Jupyter environment, please rerun this cell to show the HTML representation or trust the notebook. <br />On GitHub, the HTML representation is unable to render, please try loading this page with nbviewer.org.</b></div><div class=\"sk-container\" hidden><div class=\"sk-item\"><div class=\"sk-estimator sk-toggleable\"><input class=\"sk-toggleable__control sk-hidden--visually\" id=\"sk-estimator-id-1\" type=\"checkbox\" checked><label for=\"sk-estimator-id-1\" class=\"sk-toggleable__label sk-toggleable__label-arrow\">LogisticRegression</label><div class=\"sk-toggleable__content\"><pre>LogisticRegression()</pre></div></div></div></div></div>"
      ],
      "text/plain": [
       "LogisticRegression()"
      ]
     },
     "execution_count": 80,
     "metadata": {},
     "output_type": "execute_result"
    }
   ],
   "source": [
    "model = LogisticRegression(max_iter=100)\n",
    "model.fit(X_train_scaled, y_train)"
   ]
  },
  {
   "cell_type": "code",
   "execution_count": 81,
   "id": "d5a1d232",
   "metadata": {},
   "outputs": [],
   "source": [
    "# Model Evaluation"
   ]
  },
  {
   "cell_type": "code",
   "execution_count": 82,
   "id": "d16d21d9",
   "metadata": {},
   "outputs": [],
   "source": [
    "from sklearn.metrics import accuracy_score, precision_score"
   ]
  },
  {
   "cell_type": "code",
   "execution_count": 83,
   "id": "39818c76",
   "metadata": {},
   "outputs": [],
   "source": [
    "# Use the model to make predictions on the X_val data\n",
    "\n",
    "y_pred = model.predict(X_val_scaled)"
   ]
  },
  {
   "cell_type": "code",
   "execution_count": 84,
   "id": "78a38c52",
   "metadata": {},
   "outputs": [
    {
     "name": "stdout",
     "output_type": "stream",
     "text": [
      "Accuracy:  0.9416949152542373\n",
      "Precision:  0.890431398342731\n"
     ]
    }
   ],
   "source": [
    "accuracy = accuracy_score(y_val, y_pred)\n",
    "precision = precision_score(y_val, y_pred, average='macro')\n",
    "\n",
    "print(\"Accuracy: \", accuracy)\n",
    "print(\"Precision: \", precision)"
   ]
  },
  {
   "cell_type": "code",
   "execution_count": 133,
   "id": "9e5e3beb",
   "metadata": {},
   "outputs": [
    {
     "data": {
      "text/html": [
       "<div>\n",
       "<style scoped>\n",
       "    .dataframe tbody tr th:only-of-type {\n",
       "        vertical-align: middle;\n",
       "    }\n",
       "\n",
       "    .dataframe tbody tr th {\n",
       "        vertical-align: top;\n",
       "    }\n",
       "\n",
       "    .dataframe thead th {\n",
       "        text-align: right;\n",
       "    }\n",
       "</style>\n",
       "<table border=\"1\" class=\"dataframe\">\n",
       "  <thead>\n",
       "    <tr style=\"text-align: right;\">\n",
       "      <th></th>\n",
       "      <th>season_x</th>\n",
       "      <th>nbapersonid</th>\n",
       "      <th>All NBA Defensive First Team</th>\n",
       "      <th>All NBA Defensive Second Team</th>\n",
       "      <th>All NBA First Team</th>\n",
       "      <th>All NBA Second Team</th>\n",
       "      <th>All NBA Third Team</th>\n",
       "      <th>All Rookie First Team</th>\n",
       "      <th>All Rookie Second Team</th>\n",
       "      <th>Bill Russell NBA Finals MVP</th>\n",
       "      <th>...</th>\n",
       "      <th>blk_pct</th>\n",
       "      <th>tov_pct</th>\n",
       "      <th>usg</th>\n",
       "      <th>OWS</th>\n",
       "      <th>DWS</th>\n",
       "      <th>WS</th>\n",
       "      <th>OBPM</th>\n",
       "      <th>DBPM</th>\n",
       "      <th>BPM</th>\n",
       "      <th>VORP</th>\n",
       "    </tr>\n",
       "  </thead>\n",
       "  <tbody>\n",
       "    <tr>\n",
       "      <th>0</th>\n",
       "      <td>2007.0</td>\n",
       "      <td>708.0</td>\n",
       "      <td>1.0</td>\n",
       "      <td>0.0</td>\n",
       "      <td>1.0</td>\n",
       "      <td>0.0</td>\n",
       "      <td>0.0</td>\n",
       "      <td>0.0</td>\n",
       "      <td>0.0</td>\n",
       "      <td>0.0</td>\n",
       "      <td>...</td>\n",
       "      <td>0.031</td>\n",
       "      <td>0.108</td>\n",
       "      <td>0.255</td>\n",
       "      <td>6.6</td>\n",
       "      <td>6.2</td>\n",
       "      <td>12.9</td>\n",
       "      <td>4.7</td>\n",
       "      <td>3.5</td>\n",
       "      <td>8.2</td>\n",
       "      <td>6.0</td>\n",
       "    </tr>\n",
       "    <tr>\n",
       "      <th>1</th>\n",
       "      <td>2007.0</td>\n",
       "      <td>708.0</td>\n",
       "      <td>1.0</td>\n",
       "      <td>0.0</td>\n",
       "      <td>1.0</td>\n",
       "      <td>0.0</td>\n",
       "      <td>0.0</td>\n",
       "      <td>0.0</td>\n",
       "      <td>0.0</td>\n",
       "      <td>0.0</td>\n",
       "      <td>...</td>\n",
       "      <td>0.031</td>\n",
       "      <td>0.101</td>\n",
       "      <td>0.234</td>\n",
       "      <td>3.0</td>\n",
       "      <td>4.1</td>\n",
       "      <td>7.1</td>\n",
       "      <td>2.8</td>\n",
       "      <td>3.0</td>\n",
       "      <td>5.7</td>\n",
       "      <td>3.5</td>\n",
       "    </tr>\n",
       "  </tbody>\n",
       "</table>\n",
       "<p>2 rows × 71 columns</p>\n",
       "</div>"
      ],
      "text/plain": [
       "   season_x  nbapersonid  All NBA Defensive First Team  \\\n",
       "0    2007.0        708.0                           1.0   \n",
       "1    2007.0        708.0                           1.0   \n",
       "\n",
       "   All NBA Defensive Second Team  All NBA First Team  All NBA Second Team  \\\n",
       "0                            0.0                 1.0                  0.0   \n",
       "1                            0.0                 1.0                  0.0   \n",
       "\n",
       "   All NBA Third Team  All Rookie First Team  All Rookie Second Team  \\\n",
       "0                 0.0                    0.0                     0.0   \n",
       "1                 0.0                    0.0                     0.0   \n",
       "\n",
       "   Bill Russell NBA Finals MVP  ...  blk_pct  tov_pct    usg  OWS  DWS    WS  \\\n",
       "0                          0.0  ...    0.031    0.108  0.255  6.6  6.2  12.9   \n",
       "1                          0.0  ...    0.031    0.101  0.234  3.0  4.1   7.1   \n",
       "\n",
       "   OBPM  DBPM  BPM  VORP  \n",
       "0   4.7   3.5  8.2   6.0  \n",
       "1   2.8   3.0  5.7   3.5  \n",
       "\n",
       "[2 rows x 71 columns]"
      ]
     },
     "execution_count": 133,
     "metadata": {},
     "output_type": "execute_result"
    }
   ],
   "source": [
    "award_stats.head(2)"
   ]
  },
  {
   "cell_type": "code",
   "execution_count": 138,
   "id": "b814f578",
   "metadata": {},
   "outputs": [
    {
     "data": {
      "text/plain": [
       "Index(['season_x', 'nbapersonid', 'All NBA Defensive First Team',\n",
       "       'All NBA Defensive Second Team', 'All NBA First Team',\n",
       "       'All NBA Second Team', 'All NBA Third Team', 'All Rookie First Team',\n",
       "       'All Rookie Second Team', 'Bill Russell NBA Finals MVP',\n",
       "       'Player Of The Month', 'Player Of The Week', 'Rookie Of The Month',\n",
       "       'all_star_game', 'rookie_all_star_game', 'allstar_rk',\n",
       "       'Defensive Player Of The Year_rk', 'Most Improved Player_rk',\n",
       "       'Most Valuable Player_rk', 'Rookie Of The Year_rk',\n",
       "       'Sixth Man Of The Year_rk', 'all_nba_points_rk', 'all_rookie_points_rk',\n",
       "       'player', 'draftyear', 'draftpick', 'season_y', 'nbateamid', 'team',\n",
       "       'games', 'games_start', 'mins', 'fgm', 'fga', 'fgp', 'fgm3', 'fga3',\n",
       "       'fgp3', 'fgm2', 'fga2', 'fgp2', 'efg', 'ftm', 'fta', 'ftp', 'off_reb',\n",
       "       'def_reb', 'tot_reb', 'ast', 'steals', 'blocks', 'tov', 'tot_fouls',\n",
       "       'points', 'PER', 'FTr', 'off_reb_pct', 'def_reb_pct', 'tot_reb_pct',\n",
       "       'ast_pct', 'stl_pct', 'blk_pct', 'tov_pct', 'usg', 'OWS', 'DWS', 'WS',\n",
       "       'OBPM', 'DBPM', 'BPM', 'VORP'],\n",
       "      dtype='object')"
      ]
     },
     "execution_count": 138,
     "metadata": {},
     "output_type": "execute_result"
    }
   ],
   "source": [
    "award_stats.columns"
   ]
  },
  {
   "cell_type": "code",
   "execution_count": 139,
   "id": "0db231e0",
   "metadata": {},
   "outputs": [],
   "source": [
    "corr = award_stats.corrwith(award_stats['points'])"
   ]
  },
  {
   "cell_type": "code",
   "execution_count": 141,
   "id": "d4fb817a",
   "metadata": {},
   "outputs": [],
   "source": [
    "corr_df = pd.DataFrame(corr, columns=['Correlation'])"
   ]
  },
  {
   "cell_type": "code",
   "execution_count": 147,
   "id": "9f44744d",
   "metadata": {},
   "outputs": [],
   "source": [
    "corr_df = corr_df.sort_values(by='Correlation', ascending=False)"
   ]
  },
  {
   "cell_type": "code",
   "execution_count": null,
   "id": "742f1e97",
   "metadata": {},
   "outputs": [],
   "source": []
  },
  {
   "cell_type": "code",
   "execution_count": 148,
   "id": "d60086f8",
   "metadata": {},
   "outputs": [
    {
     "data": {
      "text/plain": [
       "<AxesSubplot:>"
      ]
     },
     "execution_count": 148,
     "metadata": {},
     "output_type": "execute_result"
    },
    {
     "data": {
      "image/png": "[encoded data removed]",
      "text/plain": [
       "<Figure size 1152x648 with 2 Axes>"
      ]
     },
     "metadata": {
      "needs_background": "light"
     },
     "output_type": "display_data"
    }
   ],
   "source": [
    "plt.figure(figsize=(16,9))\n",
    "sns.heatmap(corr_df, annot=True)"
   ]
  },
  {
   "cell_type": "code",
   "execution_count": 86,
   "id": "65f99dec",
   "metadata": {},
   "outputs": [],
   "source": [
    "mid = award_stats[(award_stats['season_x'] >= 2010) & (award_stats['season_x'] <= 2015)]"
   ]
  },
  {
   "cell_type": "code",
   "execution_count": 87,
   "id": "2db268bc",
   "metadata": {},
   "outputs": [],
   "source": [
    "years = mid['season_x'].unique()"
   ]
  },
  {
   "cell_type": "code",
   "execution_count": 88,
   "id": "d8fdb192",
   "metadata": {},
   "outputs": [
    {
     "data": {
      "text/plain": [
       "array([2010., 2011., 2012., 2014., 2013., 2015.])"
      ]
     },
     "execution_count": 88,
     "metadata": {},
     "output_type": "execute_result"
    }
   ],
   "source": [
    "years"
   ]
  },
  {
   "cell_type": "code",
   "execution_count": 89,
   "id": "fe636d1b",
   "metadata": {},
   "outputs": [
    {
     "data": {
      "text/html": [
       "<div>\n",
       "<style scoped>\n",
       "    .dataframe tbody tr th:only-of-type {\n",
       "        vertical-align: middle;\n",
       "    }\n",
       "\n",
       "    .dataframe tbody tr th {\n",
       "        vertical-align: top;\n",
       "    }\n",
       "\n",
       "    .dataframe thead th {\n",
       "        text-align: right;\n",
       "    }\n",
       "</style>\n",
       "<table border=\"1\" class=\"dataframe\">\n",
       "  <thead>\n",
       "    <tr style=\"text-align: right;\">\n",
       "      <th></th>\n",
       "      <th>nbapersonid</th>\n",
       "      <th>player</th>\n",
       "      <th>draftyear</th>\n",
       "      <th>draftpick</th>\n",
       "      <th>season</th>\n",
       "      <th>nbateamid</th>\n",
       "      <th>team</th>\n",
       "      <th>games</th>\n",
       "      <th>games_start</th>\n",
       "      <th>mins</th>\n",
       "      <th>...</th>\n",
       "      <th>blk_pct</th>\n",
       "      <th>tov_pct</th>\n",
       "      <th>usg</th>\n",
       "      <th>OWS</th>\n",
       "      <th>DWS</th>\n",
       "      <th>WS</th>\n",
       "      <th>OBPM</th>\n",
       "      <th>DBPM</th>\n",
       "      <th>BPM</th>\n",
       "      <th>VORP</th>\n",
       "    </tr>\n",
       "  </thead>\n",
       "  <tbody>\n",
       "    <tr>\n",
       "      <th>0</th>\n",
       "      <td>2585</td>\n",
       "      <td>Zaza Pachulia</td>\n",
       "      <td>2003</td>\n",
       "      <td>42.0</td>\n",
       "      <td>2007</td>\n",
       "      <td>1610612737</td>\n",
       "      <td>ATL</td>\n",
       "      <td>62</td>\n",
       "      <td>5</td>\n",
       "      <td>944</td>\n",
       "      <td>...</td>\n",
       "      <td>0.010</td>\n",
       "      <td>0.181</td>\n",
       "      <td>0.183</td>\n",
       "      <td>0.2</td>\n",
       "      <td>0.9</td>\n",
       "      <td>1.1</td>\n",
       "      <td>-3.9</td>\n",
       "      <td>-1.3</td>\n",
       "      <td>-5.1</td>\n",
       "      <td>-0.7</td>\n",
       "    </tr>\n",
       "    <tr>\n",
       "      <th>1</th>\n",
       "      <td>200780</td>\n",
       "      <td>Solomon Jones</td>\n",
       "      <td>2006</td>\n",
       "      <td>33.0</td>\n",
       "      <td>2007</td>\n",
       "      <td>1610612737</td>\n",
       "      <td>ATL</td>\n",
       "      <td>35</td>\n",
       "      <td>0</td>\n",
       "      <td>145</td>\n",
       "      <td>...</td>\n",
       "      <td>0.026</td>\n",
       "      <td>0.221</td>\n",
       "      <td>0.156</td>\n",
       "      <td>-0.1</td>\n",
       "      <td>0.1</td>\n",
       "      <td>0.0</td>\n",
       "      <td>-6.7</td>\n",
       "      <td>-2.0</td>\n",
       "      <td>-8.8</td>\n",
       "      <td>-0.2</td>\n",
       "    </tr>\n",
       "  </tbody>\n",
       "</table>\n",
       "<p>2 rows × 49 columns</p>\n",
       "</div>"
      ],
      "text/plain": [
       "   nbapersonid         player  draftyear  draftpick  season   nbateamid team  \\\n",
       "0         2585  Zaza Pachulia       2003       42.0    2007  1610612737  ATL   \n",
       "1       200780  Solomon Jones       2006       33.0    2007  1610612737  ATL   \n",
       "\n",
       "   games  games_start  mins  ...  blk_pct  tov_pct    usg  OWS  DWS   WS  \\\n",
       "0     62            5   944  ...    0.010    0.181  0.183  0.2  0.9  1.1   \n",
       "1     35            0   145  ...    0.026    0.221  0.156 -0.1  0.1  0.0   \n",
       "\n",
       "   OBPM  DBPM  BPM  VORP  \n",
       "0  -3.9  -1.3 -5.1  -0.7  \n",
       "1  -6.7  -2.0 -8.8  -0.2  \n",
       "\n",
       "[2 rows x 49 columns]"
      ]
     },
     "execution_count": 89,
     "metadata": {},
     "output_type": "execute_result"
    }
   ],
   "source": [
    "player_stats.head(2)"
   ]
  },
  {
   "cell_type": "code",
   "execution_count": 91,
   "id": "b2fae4e2",
   "metadata": {},
   "outputs": [
    {
     "ename": "NameError",
     "evalue": "name 'team_red' is not defined",
     "output_type": "error",
     "traceback": [
      "\u001b[0;31m---------------------------------------------------------------------------\u001b[0m",
      "\u001b[0;31mNameError\u001b[0m                                 Traceback (most recent call last)",
      "Input \u001b[0;32mIn [91]\u001b[0m, in \u001b[0;36m<cell line: 1>\u001b[0;34m()\u001b[0m\n\u001b[0;32m----> 1\u001b[0m \u001b[43mteam_red\u001b[49m\u001b[38;5;241m.\u001b[39mhead(\u001b[38;5;241m2\u001b[39m)\n",
      "\u001b[0;31mNameError\u001b[0m: name 'team_red' is not defined"
     ]
    }
   ],
   "source": [
    "team_red.head(2)"
   ]
  },
  {
   "cell_type": "code",
   "execution_count": 92,
   "id": "15d02fde",
   "metadata": {},
   "outputs": [
    {
     "data": {
      "text/html": [
       "<div>\n",
       "<style scoped>\n",
       "    .dataframe tbody tr th:only-of-type {\n",
       "        vertical-align: middle;\n",
       "    }\n",
       "\n",
       "    .dataframe tbody tr th {\n",
       "        vertical-align: top;\n",
       "    }\n",
       "\n",
       "    .dataframe thead th {\n",
       "        text-align: right;\n",
       "    }\n",
       "</style>\n",
       "<table border=\"1\" class=\"dataframe\">\n",
       "  <thead>\n",
       "    <tr style=\"text-align: right;\">\n",
       "      <th></th>\n",
       "      <th>nbateamid</th>\n",
       "      <th>team</th>\n",
       "      <th>season</th>\n",
       "      <th>games</th>\n",
       "      <th>off_rtg</th>\n",
       "      <th>def_rtg</th>\n",
       "      <th>net_rtg</th>\n",
       "      <th>W</th>\n",
       "      <th>L</th>\n",
       "    </tr>\n",
       "  </thead>\n",
       "  <tbody>\n",
       "    <tr>\n",
       "      <th>0</th>\n",
       "      <td>1610612737</td>\n",
       "      <td>ATL</td>\n",
       "      <td>2007</td>\n",
       "      <td>82</td>\n",
       "      <td>106.9</td>\n",
       "      <td>108.9</td>\n",
       "      <td>-2.0</td>\n",
       "      <td>37</td>\n",
       "      <td>45</td>\n",
       "    </tr>\n",
       "    <tr>\n",
       "      <th>1</th>\n",
       "      <td>1610612751</td>\n",
       "      <td>BKN</td>\n",
       "      <td>2007</td>\n",
       "      <td>82</td>\n",
       "      <td>104.0</td>\n",
       "      <td>109.4</td>\n",
       "      <td>-5.4</td>\n",
       "      <td>34</td>\n",
       "      <td>48</td>\n",
       "    </tr>\n",
       "  </tbody>\n",
       "</table>\n",
       "</div>"
      ],
      "text/plain": [
       "    nbateamid team  season  games  off_rtg  def_rtg  net_rtg   W   L\n",
       "0  1610612737  ATL    2007     82    106.9    108.9     -2.0  37  45\n",
       "1  1610612751  BKN    2007     82    104.0    109.4     -5.4  34  48"
      ]
     },
     "execution_count": 92,
     "metadata": {},
     "output_type": "execute_result"
    }
   ],
   "source": [
    "team_stats.head(2)"
   ]
  },
  {
   "cell_type": "code",
   "execution_count": null,
   "id": "cfb886e3",
   "metadata": {},
   "outputs": [],
   "source": [
    "team_stats['total_rating'] = team_stats['off_rtg'] * team_stats['def_rtg']"
   ]
  },
  {
   "cell_type": "code",
   "execution_count": null,
   "id": "6cb59553",
   "metadata": {},
   "outputs": [],
   "source": [
    "# Random Prep"
   ]
  },
  {
   "cell_type": "code",
   "execution_count": 95,
   "id": "dc762d83",
   "metadata": {},
   "outputs": [
    {
     "name": "stdout",
     "output_type": "stream",
     "text": [
      "m\n"
     ]
    }
   ],
   "source": [
    "string = \"What is going on fam?\"\n",
    "print(string[-2])"
   ]
  },
  {
   "cell_type": "code",
   "execution_count": 96,
   "id": "2d3781a1",
   "metadata": {},
   "outputs": [],
   "source": [
    "#Alex the Analyst python"
   ]
  },
  {
   "cell_type": "code",
   "execution_count": 97,
   "id": "b0d2a456",
   "metadata": {},
   "outputs": [],
   "source": [
    "movies = pd.read_csv('/Users/williamearley/Prep/movies_prep.csv')"
   ]
  },
  {
   "cell_type": "code",
   "execution_count": 98,
   "id": "4dff032a",
   "metadata": {},
   "outputs": [
    {
     "data": {
      "text/plain": [
       "0    6.6\n",
       "Name: score, dtype: float64"
      ]
     },
     "execution_count": 98,
     "metadata": {},
     "output_type": "execute_result"
    }
   ],
   "source": [
    "movies['score'].mode()"
   ]
  },
  {
   "cell_type": "code",
   "execution_count": 99,
   "id": "7e8dfa94",
   "metadata": {},
   "outputs": [
    {
     "name": "stdout",
     "output_type": "stream",
     "text": [
      "<class 'pandas.core.frame.DataFrame'>\n",
      "RangeIndex: 7668 entries, 0 to 7667\n",
      "Data columns (total 15 columns):\n",
      " #   Column    Non-Null Count  Dtype  \n",
      "---  ------    --------------  -----  \n",
      " 0   name      7668 non-null   object \n",
      " 1   rating    7591 non-null   object \n",
      " 2   genre     7668 non-null   object \n",
      " 3   year      7668 non-null   int64  \n",
      " 4   released  7666 non-null   object \n",
      " 5   score     7665 non-null   float64\n",
      " 6   votes     7665 non-null   float64\n",
      " 7   director  7668 non-null   object \n",
      " 8   writer    7665 non-null   object \n",
      " 9   star      7667 non-null   object \n",
      " 10  country   7665 non-null   object \n",
      " 11  budget    5497 non-null   float64\n",
      " 12  gross     7479 non-null   float64\n",
      " 13  company   7651 non-null   object \n",
      " 14  runtime   7664 non-null   float64\n",
      "dtypes: float64(5), int64(1), object(9)\n",
      "memory usage: 898.7+ KB\n"
     ]
    }
   ],
   "source": [
    "movies.info()"
   ]
  },
  {
   "cell_type": "code",
   "execution_count": 100,
   "id": "50b2126a",
   "metadata": {},
   "outputs": [
    {
     "data": {
      "text/html": [
       "<div>\n",
       "<style scoped>\n",
       "    .dataframe tbody tr th:only-of-type {\n",
       "        vertical-align: middle;\n",
       "    }\n",
       "\n",
       "    .dataframe tbody tr th {\n",
       "        vertical-align: top;\n",
       "    }\n",
       "\n",
       "    .dataframe thead th {\n",
       "        text-align: right;\n",
       "    }\n",
       "</style>\n",
       "<table border=\"1\" class=\"dataframe\">\n",
       "  <thead>\n",
       "    <tr style=\"text-align: right;\">\n",
       "      <th></th>\n",
       "      <th>year</th>\n",
       "      <th>score</th>\n",
       "      <th>votes</th>\n",
       "      <th>budget</th>\n",
       "      <th>gross</th>\n",
       "      <th>runtime</th>\n",
       "    </tr>\n",
       "  </thead>\n",
       "  <tbody>\n",
       "    <tr>\n",
       "      <th>count</th>\n",
       "      <td>7668.000000</td>\n",
       "      <td>7665.000000</td>\n",
       "      <td>7.665000e+03</td>\n",
       "      <td>5.497000e+03</td>\n",
       "      <td>7.479000e+03</td>\n",
       "      <td>7664.000000</td>\n",
       "    </tr>\n",
       "    <tr>\n",
       "      <th>mean</th>\n",
       "      <td>2000.405451</td>\n",
       "      <td>6.390411</td>\n",
       "      <td>8.810850e+04</td>\n",
       "      <td>3.558988e+07</td>\n",
       "      <td>7.850054e+07</td>\n",
       "      <td>107.261613</td>\n",
       "    </tr>\n",
       "    <tr>\n",
       "      <th>std</th>\n",
       "      <td>11.153508</td>\n",
       "      <td>0.968842</td>\n",
       "      <td>1.633238e+05</td>\n",
       "      <td>4.145730e+07</td>\n",
       "      <td>1.657251e+08</td>\n",
       "      <td>18.581247</td>\n",
       "    </tr>\n",
       "    <tr>\n",
       "      <th>min</th>\n",
       "      <td>1980.000000</td>\n",
       "      <td>1.900000</td>\n",
       "      <td>7.000000e+00</td>\n",
       "      <td>3.000000e+03</td>\n",
       "      <td>3.090000e+02</td>\n",
       "      <td>55.000000</td>\n",
       "    </tr>\n",
       "    <tr>\n",
       "      <th>25%</th>\n",
       "      <td>1991.000000</td>\n",
       "      <td>5.800000</td>\n",
       "      <td>9.100000e+03</td>\n",
       "      <td>1.000000e+07</td>\n",
       "      <td>4.532056e+06</td>\n",
       "      <td>95.000000</td>\n",
       "    </tr>\n",
       "    <tr>\n",
       "      <th>50%</th>\n",
       "      <td>2000.000000</td>\n",
       "      <td>6.500000</td>\n",
       "      <td>3.300000e+04</td>\n",
       "      <td>2.050000e+07</td>\n",
       "      <td>2.020576e+07</td>\n",
       "      <td>104.000000</td>\n",
       "    </tr>\n",
       "    <tr>\n",
       "      <th>75%</th>\n",
       "      <td>2010.000000</td>\n",
       "      <td>7.100000</td>\n",
       "      <td>9.300000e+04</td>\n",
       "      <td>4.500000e+07</td>\n",
       "      <td>7.601669e+07</td>\n",
       "      <td>116.000000</td>\n",
       "    </tr>\n",
       "    <tr>\n",
       "      <th>max</th>\n",
       "      <td>2020.000000</td>\n",
       "      <td>9.300000</td>\n",
       "      <td>2.400000e+06</td>\n",
       "      <td>3.560000e+08</td>\n",
       "      <td>2.847246e+09</td>\n",
       "      <td>366.000000</td>\n",
       "    </tr>\n",
       "  </tbody>\n",
       "</table>\n",
       "</div>"
      ],
      "text/plain": [
       "              year        score         votes        budget         gross  \\\n",
       "count  7668.000000  7665.000000  7.665000e+03  5.497000e+03  7.479000e+03   \n",
       "mean   2000.405451     6.390411  8.810850e+04  3.558988e+07  7.850054e+07   \n",
       "std      11.153508     0.968842  1.633238e+05  4.145730e+07  1.657251e+08   \n",
       "min    1980.000000     1.900000  7.000000e+00  3.000000e+03  3.090000e+02   \n",
       "25%    1991.000000     5.800000  9.100000e+03  1.000000e+07  4.532056e+06   \n",
       "50%    2000.000000     6.500000  3.300000e+04  2.050000e+07  2.020576e+07   \n",
       "75%    2010.000000     7.100000  9.300000e+04  4.500000e+07  7.601669e+07   \n",
       "max    2020.000000     9.300000  2.400000e+06  3.560000e+08  2.847246e+09   \n",
       "\n",
       "           runtime  \n",
       "count  7664.000000  \n",
       "mean    107.261613  \n",
       "std      18.581247  \n",
       "min      55.000000  \n",
       "25%      95.000000  \n",
       "50%     104.000000  \n",
       "75%     116.000000  \n",
       "max     366.000000  "
      ]
     },
     "execution_count": 100,
     "metadata": {},
     "output_type": "execute_result"
    }
   ],
   "source": [
    "movies.describe()"
   ]
  },
  {
   "cell_type": "code",
   "execution_count": 101,
   "id": "d908278f",
   "metadata": {},
   "outputs": [],
   "source": [
    "from matplotlib.pyplot import figure\n",
    "\n",
    "%matplotlib inline"
   ]
  },
  {
   "cell_type": "code",
   "execution_count": 102,
   "id": "476ee96c",
   "metadata": {},
   "outputs": [
    {
     "data": {
      "text/plain": [
       "name           0\n",
       "rating        77\n",
       "genre          0\n",
       "year           0\n",
       "released       2\n",
       "score          3\n",
       "votes          3\n",
       "director       0\n",
       "writer         3\n",
       "star           1\n",
       "country        3\n",
       "budget      2171\n",
       "gross        189\n",
       "company       17\n",
       "runtime        4\n",
       "dtype: int64"
      ]
     },
     "execution_count": 102,
     "metadata": {},
     "output_type": "execute_result"
    }
   ],
   "source": [
    "missing = movies.isna()\n",
    "missing.sum()"
   ]
  },
  {
   "cell_type": "code",
   "execution_count": 103,
   "id": "47cdf460",
   "metadata": {},
   "outputs": [
    {
     "data": {
      "text/html": [
       "<div>\n",
       "<style scoped>\n",
       "    .dataframe tbody tr th:only-of-type {\n",
       "        vertical-align: middle;\n",
       "    }\n",
       "\n",
       "    .dataframe tbody tr th {\n",
       "        vertical-align: top;\n",
       "    }\n",
       "\n",
       "    .dataframe thead th {\n",
       "        text-align: right;\n",
       "    }\n",
       "</style>\n",
       "<table border=\"1\" class=\"dataframe\">\n",
       "  <thead>\n",
       "    <tr style=\"text-align: right;\">\n",
       "      <th></th>\n",
       "      <th>name</th>\n",
       "      <th>rating</th>\n",
       "      <th>genre</th>\n",
       "      <th>year</th>\n",
       "      <th>released</th>\n",
       "      <th>score</th>\n",
       "      <th>votes</th>\n",
       "      <th>director</th>\n",
       "      <th>writer</th>\n",
       "      <th>star</th>\n",
       "      <th>country</th>\n",
       "      <th>budget</th>\n",
       "      <th>gross</th>\n",
       "      <th>company</th>\n",
       "      <th>runtime</th>\n",
       "    </tr>\n",
       "  </thead>\n",
       "  <tbody>\n",
       "    <tr>\n",
       "      <th>0</th>\n",
       "      <td>NaN</td>\n",
       "      <td>NaN</td>\n",
       "      <td>NaN</td>\n",
       "      <td>NaN</td>\n",
       "      <td>NaN</td>\n",
       "      <td>NaN</td>\n",
       "      <td>NaN</td>\n",
       "      <td>NaN</td>\n",
       "      <td>NaN</td>\n",
       "      <td>NaN</td>\n",
       "      <td>NaN</td>\n",
       "      <td>NaN</td>\n",
       "      <td>NaN</td>\n",
       "      <td>NaN</td>\n",
       "      <td>NaN</td>\n",
       "    </tr>\n",
       "    <tr>\n",
       "      <th>1</th>\n",
       "      <td>NaN</td>\n",
       "      <td>NaN</td>\n",
       "      <td>NaN</td>\n",
       "      <td>NaN</td>\n",
       "      <td>NaN</td>\n",
       "      <td>NaN</td>\n",
       "      <td>NaN</td>\n",
       "      <td>NaN</td>\n",
       "      <td>NaN</td>\n",
       "      <td>NaN</td>\n",
       "      <td>NaN</td>\n",
       "      <td>NaN</td>\n",
       "      <td>NaN</td>\n",
       "      <td>NaN</td>\n",
       "      <td>NaN</td>\n",
       "    </tr>\n",
       "    <tr>\n",
       "      <th>2</th>\n",
       "      <td>NaN</td>\n",
       "      <td>NaN</td>\n",
       "      <td>NaN</td>\n",
       "      <td>NaN</td>\n",
       "      <td>NaN</td>\n",
       "      <td>NaN</td>\n",
       "      <td>NaN</td>\n",
       "      <td>NaN</td>\n",
       "      <td>NaN</td>\n",
       "      <td>NaN</td>\n",
       "      <td>NaN</td>\n",
       "      <td>NaN</td>\n",
       "      <td>NaN</td>\n",
       "      <td>NaN</td>\n",
       "      <td>NaN</td>\n",
       "    </tr>\n",
       "    <tr>\n",
       "      <th>3</th>\n",
       "      <td>NaN</td>\n",
       "      <td>NaN</td>\n",
       "      <td>NaN</td>\n",
       "      <td>NaN</td>\n",
       "      <td>NaN</td>\n",
       "      <td>NaN</td>\n",
       "      <td>NaN</td>\n",
       "      <td>NaN</td>\n",
       "      <td>NaN</td>\n",
       "      <td>NaN</td>\n",
       "      <td>NaN</td>\n",
       "      <td>NaN</td>\n",
       "      <td>NaN</td>\n",
       "      <td>NaN</td>\n",
       "      <td>NaN</td>\n",
       "    </tr>\n",
       "    <tr>\n",
       "      <th>4</th>\n",
       "      <td>NaN</td>\n",
       "      <td>NaN</td>\n",
       "      <td>NaN</td>\n",
       "      <td>NaN</td>\n",
       "      <td>NaN</td>\n",
       "      <td>NaN</td>\n",
       "      <td>NaN</td>\n",
       "      <td>NaN</td>\n",
       "      <td>NaN</td>\n",
       "      <td>NaN</td>\n",
       "      <td>NaN</td>\n",
       "      <td>NaN</td>\n",
       "      <td>NaN</td>\n",
       "      <td>NaN</td>\n",
       "      <td>NaN</td>\n",
       "    </tr>\n",
       "    <tr>\n",
       "      <th>...</th>\n",
       "      <td>...</td>\n",
       "      <td>...</td>\n",
       "      <td>...</td>\n",
       "      <td>...</td>\n",
       "      <td>...</td>\n",
       "      <td>...</td>\n",
       "      <td>...</td>\n",
       "      <td>...</td>\n",
       "      <td>...</td>\n",
       "      <td>...</td>\n",
       "      <td>...</td>\n",
       "      <td>...</td>\n",
       "      <td>...</td>\n",
       "      <td>...</td>\n",
       "      <td>...</td>\n",
       "    </tr>\n",
       "    <tr>\n",
       "      <th>7663</th>\n",
       "      <td>NaN</td>\n",
       "      <td>NaN</td>\n",
       "      <td>NaN</td>\n",
       "      <td>NaN</td>\n",
       "      <td>NaN</td>\n",
       "      <td>NaN</td>\n",
       "      <td>NaN</td>\n",
       "      <td>NaN</td>\n",
       "      <td>NaN</td>\n",
       "      <td>NaN</td>\n",
       "      <td>NaN</td>\n",
       "      <td>NaN</td>\n",
       "      <td>NaN</td>\n",
       "      <td>NaN</td>\n",
       "      <td>NaN</td>\n",
       "    </tr>\n",
       "    <tr>\n",
       "      <th>7664</th>\n",
       "      <td>NaN</td>\n",
       "      <td>NaN</td>\n",
       "      <td>NaN</td>\n",
       "      <td>NaN</td>\n",
       "      <td>NaN</td>\n",
       "      <td>NaN</td>\n",
       "      <td>NaN</td>\n",
       "      <td>NaN</td>\n",
       "      <td>NaN</td>\n",
       "      <td>NaN</td>\n",
       "      <td>NaN</td>\n",
       "      <td>NaN</td>\n",
       "      <td>NaN</td>\n",
       "      <td>NaN</td>\n",
       "      <td>NaN</td>\n",
       "    </tr>\n",
       "    <tr>\n",
       "      <th>7665</th>\n",
       "      <td>NaN</td>\n",
       "      <td>NaN</td>\n",
       "      <td>NaN</td>\n",
       "      <td>NaN</td>\n",
       "      <td>NaN</td>\n",
       "      <td>NaN</td>\n",
       "      <td>NaN</td>\n",
       "      <td>NaN</td>\n",
       "      <td>NaN</td>\n",
       "      <td>NaN</td>\n",
       "      <td>NaN</td>\n",
       "      <td>NaN</td>\n",
       "      <td>NaN</td>\n",
       "      <td>NaN</td>\n",
       "      <td>NaN</td>\n",
       "    </tr>\n",
       "    <tr>\n",
       "      <th>7666</th>\n",
       "      <td>NaN</td>\n",
       "      <td>NaN</td>\n",
       "      <td>NaN</td>\n",
       "      <td>NaN</td>\n",
       "      <td>NaN</td>\n",
       "      <td>NaN</td>\n",
       "      <td>NaN</td>\n",
       "      <td>NaN</td>\n",
       "      <td>NaN</td>\n",
       "      <td>NaN</td>\n",
       "      <td>NaN</td>\n",
       "      <td>NaN</td>\n",
       "      <td>NaN</td>\n",
       "      <td>NaN</td>\n",
       "      <td>NaN</td>\n",
       "    </tr>\n",
       "    <tr>\n",
       "      <th>7667</th>\n",
       "      <td>NaN</td>\n",
       "      <td>NaN</td>\n",
       "      <td>NaN</td>\n",
       "      <td>NaN</td>\n",
       "      <td>NaN</td>\n",
       "      <td>NaN</td>\n",
       "      <td>NaN</td>\n",
       "      <td>NaN</td>\n",
       "      <td>NaN</td>\n",
       "      <td>NaN</td>\n",
       "      <td>NaN</td>\n",
       "      <td>NaN</td>\n",
       "      <td>NaN</td>\n",
       "      <td>NaN</td>\n",
       "      <td>NaN</td>\n",
       "    </tr>\n",
       "  </tbody>\n",
       "</table>\n",
       "<p>7668 rows × 15 columns</p>\n",
       "</div>"
      ],
      "text/plain": [
       "     name rating genre  year released  score  votes director writer star  \\\n",
       "0     NaN    NaN   NaN   NaN      NaN    NaN    NaN      NaN    NaN  NaN   \n",
       "1     NaN    NaN   NaN   NaN      NaN    NaN    NaN      NaN    NaN  NaN   \n",
       "2     NaN    NaN   NaN   NaN      NaN    NaN    NaN      NaN    NaN  NaN   \n",
       "3     NaN    NaN   NaN   NaN      NaN    NaN    NaN      NaN    NaN  NaN   \n",
       "4     NaN    NaN   NaN   NaN      NaN    NaN    NaN      NaN    NaN  NaN   \n",
       "...   ...    ...   ...   ...      ...    ...    ...      ...    ...  ...   \n",
       "7663  NaN    NaN   NaN   NaN      NaN    NaN    NaN      NaN    NaN  NaN   \n",
       "7664  NaN    NaN   NaN   NaN      NaN    NaN    NaN      NaN    NaN  NaN   \n",
       "7665  NaN    NaN   NaN   NaN      NaN    NaN    NaN      NaN    NaN  NaN   \n",
       "7666  NaN    NaN   NaN   NaN      NaN    NaN    NaN      NaN    NaN  NaN   \n",
       "7667  NaN    NaN   NaN   NaN      NaN    NaN    NaN      NaN    NaN  NaN   \n",
       "\n",
       "     country  budget  gross company  runtime  \n",
       "0        NaN     NaN    NaN     NaN      NaN  \n",
       "1        NaN     NaN    NaN     NaN      NaN  \n",
       "2        NaN     NaN    NaN     NaN      NaN  \n",
       "3        NaN     NaN    NaN     NaN      NaN  \n",
       "4        NaN     NaN    NaN     NaN      NaN  \n",
       "...      ...     ...    ...     ...      ...  \n",
       "7663     NaN     NaN    NaN     NaN      NaN  \n",
       "7664     NaN     NaN    NaN     NaN      NaN  \n",
       "7665     NaN     NaN    NaN     NaN      NaN  \n",
       "7666     NaN     NaN    NaN     NaN      NaN  \n",
       "7667     NaN     NaN    NaN     NaN      NaN  \n",
       "\n",
       "[7668 rows x 15 columns]"
      ]
     },
     "execution_count": 103,
     "metadata": {},
     "output_type": "execute_result"
    }
   ],
   "source": [
    "missing_rows = movies[missing]\n",
    "missing_rows"
   ]
  },
  {
   "cell_type": "code",
   "execution_count": 104,
   "id": "76a7d6d8",
   "metadata": {},
   "outputs": [],
   "source": [
    "movies = movies.fillna(0)"
   ]
  },
  {
   "cell_type": "code",
   "execution_count": 105,
   "id": "87f9a94c",
   "metadata": {},
   "outputs": [],
   "source": [
    "movies['budget'] = movies['budget'].astype('int64')"
   ]
  },
  {
   "cell_type": "code",
   "execution_count": 106,
   "id": "645d8f66",
   "metadata": {},
   "outputs": [],
   "source": [
    "movies['gross'] = movies['gross'].astype('int64')"
   ]
  },
  {
   "cell_type": "code",
   "execution_count": 107,
   "id": "ea1869c7",
   "metadata": {},
   "outputs": [],
   "source": [
    "movies['released'] = movies['gross'].astype(str).str[:4]"
   ]
  },
  {
   "cell_type": "code",
   "execution_count": 108,
   "id": "416c9e0b",
   "metadata": {},
   "outputs": [
    {
     "data": {
      "text/html": [
       "<div>\n",
       "<style scoped>\n",
       "    .dataframe tbody tr th:only-of-type {\n",
       "        vertical-align: middle;\n",
       "    }\n",
       "\n",
       "    .dataframe tbody tr th {\n",
       "        vertical-align: top;\n",
       "    }\n",
       "\n",
       "    .dataframe thead th {\n",
       "        text-align: right;\n",
       "    }\n",
       "</style>\n",
       "<table border=\"1\" class=\"dataframe\">\n",
       "  <thead>\n",
       "    <tr style=\"text-align: right;\">\n",
       "      <th></th>\n",
       "      <th>name</th>\n",
       "      <th>rating</th>\n",
       "      <th>genre</th>\n",
       "      <th>year</th>\n",
       "      <th>released</th>\n",
       "      <th>score</th>\n",
       "      <th>votes</th>\n",
       "      <th>director</th>\n",
       "      <th>writer</th>\n",
       "      <th>star</th>\n",
       "      <th>country</th>\n",
       "      <th>budget</th>\n",
       "      <th>gross</th>\n",
       "      <th>company</th>\n",
       "      <th>runtime</th>\n",
       "    </tr>\n",
       "  </thead>\n",
       "  <tbody>\n",
       "    <tr>\n",
       "      <th>5445</th>\n",
       "      <td>Avatar</td>\n",
       "      <td>PG-13</td>\n",
       "      <td>Action</td>\n",
       "      <td>2009</td>\n",
       "      <td>2847</td>\n",
       "      <td>7.8</td>\n",
       "      <td>1100000.0</td>\n",
       "      <td>James Cameron</td>\n",
       "      <td>James Cameron</td>\n",
       "      <td>Sam Worthington</td>\n",
       "      <td>United States</td>\n",
       "      <td>237000000</td>\n",
       "      <td>2847246203</td>\n",
       "      <td>Twentieth Century Fox</td>\n",
       "      <td>162.0</td>\n",
       "    </tr>\n",
       "    <tr>\n",
       "      <th>7445</th>\n",
       "      <td>Avengers: Endgame</td>\n",
       "      <td>PG-13</td>\n",
       "      <td>Action</td>\n",
       "      <td>2019</td>\n",
       "      <td>2797</td>\n",
       "      <td>8.4</td>\n",
       "      <td>903000.0</td>\n",
       "      <td>Anthony Russo</td>\n",
       "      <td>Christopher Markus</td>\n",
       "      <td>Robert Downey Jr.</td>\n",
       "      <td>United States</td>\n",
       "      <td>356000000</td>\n",
       "      <td>2797501328</td>\n",
       "      <td>Marvel Studios</td>\n",
       "      <td>181.0</td>\n",
       "    </tr>\n",
       "    <tr>\n",
       "      <th>3045</th>\n",
       "      <td>Titanic</td>\n",
       "      <td>PG-13</td>\n",
       "      <td>Drama</td>\n",
       "      <td>1997</td>\n",
       "      <td>2201</td>\n",
       "      <td>7.8</td>\n",
       "      <td>1100000.0</td>\n",
       "      <td>James Cameron</td>\n",
       "      <td>James Cameron</td>\n",
       "      <td>Leonardo DiCaprio</td>\n",
       "      <td>United States</td>\n",
       "      <td>200000000</td>\n",
       "      <td>2201647264</td>\n",
       "      <td>Twentieth Century Fox</td>\n",
       "      <td>194.0</td>\n",
       "    </tr>\n",
       "    <tr>\n",
       "      <th>6663</th>\n",
       "      <td>Star Wars: Episode VII - The Force Awakens</td>\n",
       "      <td>PG-13</td>\n",
       "      <td>Action</td>\n",
       "      <td>2015</td>\n",
       "      <td>2069</td>\n",
       "      <td>7.8</td>\n",
       "      <td>876000.0</td>\n",
       "      <td>J.J. Abrams</td>\n",
       "      <td>Lawrence Kasdan</td>\n",
       "      <td>Daisy Ridley</td>\n",
       "      <td>United States</td>\n",
       "      <td>245000000</td>\n",
       "      <td>2069521700</td>\n",
       "      <td>Lucasfilm</td>\n",
       "      <td>138.0</td>\n",
       "    </tr>\n",
       "    <tr>\n",
       "      <th>7244</th>\n",
       "      <td>Avengers: Infinity War</td>\n",
       "      <td>PG-13</td>\n",
       "      <td>Action</td>\n",
       "      <td>2018</td>\n",
       "      <td>2048</td>\n",
       "      <td>8.4</td>\n",
       "      <td>897000.0</td>\n",
       "      <td>Anthony Russo</td>\n",
       "      <td>Christopher Markus</td>\n",
       "      <td>Robert Downey Jr.</td>\n",
       "      <td>United States</td>\n",
       "      <td>321000000</td>\n",
       "      <td>2048359754</td>\n",
       "      <td>Marvel Studios</td>\n",
       "      <td>149.0</td>\n",
       "    </tr>\n",
       "    <tr>\n",
       "      <th>...</th>\n",
       "      <td>...</td>\n",
       "      <td>...</td>\n",
       "      <td>...</td>\n",
       "      <td>...</td>\n",
       "      <td>...</td>\n",
       "      <td>...</td>\n",
       "      <td>...</td>\n",
       "      <td>...</td>\n",
       "      <td>...</td>\n",
       "      <td>...</td>\n",
       "      <td>...</td>\n",
       "      <td>...</td>\n",
       "      <td>...</td>\n",
       "      <td>...</td>\n",
       "      <td>...</td>\n",
       "    </tr>\n",
       "    <tr>\n",
       "      <th>1617</th>\n",
       "      <td>Mortal Passions</td>\n",
       "      <td>R</td>\n",
       "      <td>Crime</td>\n",
       "      <td>1989</td>\n",
       "      <td>0</td>\n",
       "      <td>4.5</td>\n",
       "      <td>274.0</td>\n",
       "      <td>Andrew Lane</td>\n",
       "      <td>Alan Moskowitz</td>\n",
       "      <td>Zach Galligan</td>\n",
       "      <td>United States</td>\n",
       "      <td>0</td>\n",
       "      <td>0</td>\n",
       "      <td>Gibraltar Entertainment</td>\n",
       "      <td>92.0</td>\n",
       "    </tr>\n",
       "    <tr>\n",
       "      <th>1614</th>\n",
       "      <td>Edge of Sanity</td>\n",
       "      <td>R</td>\n",
       "      <td>Horror</td>\n",
       "      <td>1989</td>\n",
       "      <td>0</td>\n",
       "      <td>5.2</td>\n",
       "      <td>1300.0</td>\n",
       "      <td>Gérard Kikoïne</td>\n",
       "      <td>J.P. Félix</td>\n",
       "      <td>Anthony Perkins</td>\n",
       "      <td>United Kingdom</td>\n",
       "      <td>0</td>\n",
       "      <td>0</td>\n",
       "      <td>Allied Vision</td>\n",
       "      <td>85.0</td>\n",
       "    </tr>\n",
       "    <tr>\n",
       "      <th>1606</th>\n",
       "      <td>I, Madman</td>\n",
       "      <td>R</td>\n",
       "      <td>Fantasy</td>\n",
       "      <td>1989</td>\n",
       "      <td>0</td>\n",
       "      <td>6.0</td>\n",
       "      <td>2900.0</td>\n",
       "      <td>Tibor Takács</td>\n",
       "      <td>David Chaskin</td>\n",
       "      <td>Jenny Wright</td>\n",
       "      <td>Canada</td>\n",
       "      <td>0</td>\n",
       "      <td>0</td>\n",
       "      <td>Trans World Entertainment (TWE)</td>\n",
       "      <td>89.0</td>\n",
       "    </tr>\n",
       "    <tr>\n",
       "      <th>1601</th>\n",
       "      <td>My Twentieth Century</td>\n",
       "      <td>0</td>\n",
       "      <td>Comedy</td>\n",
       "      <td>1989</td>\n",
       "      <td>0</td>\n",
       "      <td>7.1</td>\n",
       "      <td>1500.0</td>\n",
       "      <td>Ildikó Enyedi</td>\n",
       "      <td>Ildikó Enyedi</td>\n",
       "      <td>Dorota Segda</td>\n",
       "      <td>Hungary</td>\n",
       "      <td>0</td>\n",
       "      <td>0</td>\n",
       "      <td>Budapest Stúdió Vállalat</td>\n",
       "      <td>104.0</td>\n",
       "    </tr>\n",
       "    <tr>\n",
       "      <th>7667</th>\n",
       "      <td>Tee em el</td>\n",
       "      <td>0</td>\n",
       "      <td>Horror</td>\n",
       "      <td>2020</td>\n",
       "      <td>0</td>\n",
       "      <td>5.7</td>\n",
       "      <td>7.0</td>\n",
       "      <td>Pereko Mosia</td>\n",
       "      <td>Pereko Mosia</td>\n",
       "      <td>Siyabonga Mabaso</td>\n",
       "      <td>South Africa</td>\n",
       "      <td>0</td>\n",
       "      <td>0</td>\n",
       "      <td>PK 65 Films</td>\n",
       "      <td>102.0</td>\n",
       "    </tr>\n",
       "  </tbody>\n",
       "</table>\n",
       "<p>7668 rows × 15 columns</p>\n",
       "</div>"
      ],
      "text/plain": [
       "                                            name rating    genre  year  \\\n",
       "5445                                      Avatar  PG-13   Action  2009   \n",
       "7445                           Avengers: Endgame  PG-13   Action  2019   \n",
       "3045                                     Titanic  PG-13    Drama  1997   \n",
       "6663  Star Wars: Episode VII - The Force Awakens  PG-13   Action  2015   \n",
       "7244                      Avengers: Infinity War  PG-13   Action  2018   \n",
       "...                                          ...    ...      ...   ...   \n",
       "1617                             Mortal Passions      R    Crime  1989   \n",
       "1614                              Edge of Sanity      R   Horror  1989   \n",
       "1606                                   I, Madman      R  Fantasy  1989   \n",
       "1601                        My Twentieth Century      0   Comedy  1989   \n",
       "7667                                   Tee em el      0   Horror  2020   \n",
       "\n",
       "     released  score      votes        director              writer  \\\n",
       "5445     2847    7.8  1100000.0   James Cameron       James Cameron   \n",
       "7445     2797    8.4   903000.0   Anthony Russo  Christopher Markus   \n",
       "3045     2201    7.8  1100000.0   James Cameron       James Cameron   \n",
       "6663     2069    7.8   876000.0     J.J. Abrams     Lawrence Kasdan   \n",
       "7244     2048    8.4   897000.0   Anthony Russo  Christopher Markus   \n",
       "...       ...    ...        ...             ...                 ...   \n",
       "1617        0    4.5      274.0     Andrew Lane      Alan Moskowitz   \n",
       "1614        0    5.2     1300.0  Gérard Kikoïne          J.P. Félix   \n",
       "1606        0    6.0     2900.0    Tibor Takács       David Chaskin   \n",
       "1601        0    7.1     1500.0   Ildikó Enyedi       Ildikó Enyedi   \n",
       "7667        0    5.7        7.0    Pereko Mosia        Pereko Mosia   \n",
       "\n",
       "                   star         country     budget       gross  \\\n",
       "5445    Sam Worthington   United States  237000000  2847246203   \n",
       "7445  Robert Downey Jr.   United States  356000000  2797501328   \n",
       "3045  Leonardo DiCaprio   United States  200000000  2201647264   \n",
       "6663       Daisy Ridley   United States  245000000  2069521700   \n",
       "7244  Robert Downey Jr.   United States  321000000  2048359754   \n",
       "...                 ...             ...        ...         ...   \n",
       "1617      Zach Galligan   United States          0           0   \n",
       "1614    Anthony Perkins  United Kingdom          0           0   \n",
       "1606       Jenny Wright          Canada          0           0   \n",
       "1601       Dorota Segda         Hungary          0           0   \n",
       "7667   Siyabonga Mabaso    South Africa          0           0   \n",
       "\n",
       "                              company  runtime  \n",
       "5445            Twentieth Century Fox    162.0  \n",
       "7445                   Marvel Studios    181.0  \n",
       "3045            Twentieth Century Fox    194.0  \n",
       "6663                        Lucasfilm    138.0  \n",
       "7244                   Marvel Studios    149.0  \n",
       "...                               ...      ...  \n",
       "1617          Gibraltar Entertainment     92.0  \n",
       "1614                    Allied Vision     85.0  \n",
       "1606  Trans World Entertainment (TWE)     89.0  \n",
       "1601         Budapest Stúdió Vállalat    104.0  \n",
       "7667                      PK 65 Films    102.0  \n",
       "\n",
       "[7668 rows x 15 columns]"
      ]
     },
     "execution_count": 108,
     "metadata": {},
     "output_type": "execute_result"
    }
   ],
   "source": [
    "movies.sort_values(by='gross', inplace=False, ascending=False)"
   ]
  },
  {
   "cell_type": "code",
   "execution_count": 109,
   "id": "ae17e259",
   "metadata": {},
   "outputs": [],
   "source": [
    "no_dup = movies.drop_duplicates()"
   ]
  },
  {
   "cell_type": "code",
   "execution_count": 110,
   "id": "e0561694",
   "metadata": {},
   "outputs": [
    {
     "data": {
      "text/html": [
       "<div>\n",
       "<style scoped>\n",
       "    .dataframe tbody tr th:only-of-type {\n",
       "        vertical-align: middle;\n",
       "    }\n",
       "\n",
       "    .dataframe tbody tr th {\n",
       "        vertical-align: top;\n",
       "    }\n",
       "\n",
       "    .dataframe thead th {\n",
       "        text-align: right;\n",
       "    }\n",
       "</style>\n",
       "<table border=\"1\" class=\"dataframe\">\n",
       "  <thead>\n",
       "    <tr style=\"text-align: right;\">\n",
       "      <th></th>\n",
       "      <th>name</th>\n",
       "      <th>rating</th>\n",
       "      <th>genre</th>\n",
       "      <th>year</th>\n",
       "      <th>released</th>\n",
       "      <th>score</th>\n",
       "      <th>votes</th>\n",
       "      <th>director</th>\n",
       "      <th>writer</th>\n",
       "      <th>star</th>\n",
       "      <th>country</th>\n",
       "      <th>budget</th>\n",
       "      <th>gross</th>\n",
       "      <th>company</th>\n",
       "      <th>runtime</th>\n",
       "    </tr>\n",
       "  </thead>\n",
       "  <tbody>\n",
       "    <tr>\n",
       "      <th>2443</th>\n",
       "      <td>The Shawshank Redemption</td>\n",
       "      <td>R</td>\n",
       "      <td>Drama</td>\n",
       "      <td>1994</td>\n",
       "      <td>2881</td>\n",
       "      <td>9.3</td>\n",
       "      <td>2400000.0</td>\n",
       "      <td>Frank Darabont</td>\n",
       "      <td>Stephen King</td>\n",
       "      <td>Tim Robbins</td>\n",
       "      <td>United States</td>\n",
       "      <td>25000000</td>\n",
       "      <td>28817291</td>\n",
       "      <td>Castle Rock Entertainment</td>\n",
       "      <td>142.0</td>\n",
       "    </tr>\n",
       "    <tr>\n",
       "      <th>5243</th>\n",
       "      <td>The Dark Knight</td>\n",
       "      <td>PG-13</td>\n",
       "      <td>Action</td>\n",
       "      <td>2008</td>\n",
       "      <td>1005</td>\n",
       "      <td>9.0</td>\n",
       "      <td>2400000.0</td>\n",
       "      <td>Christopher Nolan</td>\n",
       "      <td>Jonathan Nolan</td>\n",
       "      <td>Christian Bale</td>\n",
       "      <td>United States</td>\n",
       "      <td>185000000</td>\n",
       "      <td>1005973645</td>\n",
       "      <td>Warner Bros.</td>\n",
       "      <td>152.0</td>\n",
       "    </tr>\n",
       "    <tr>\n",
       "      <th>4245</th>\n",
       "      <td>The Lord of the Rings: The Return of the King</td>\n",
       "      <td>PG-13</td>\n",
       "      <td>Action</td>\n",
       "      <td>2003</td>\n",
       "      <td>1146</td>\n",
       "      <td>8.9</td>\n",
       "      <td>1700000.0</td>\n",
       "      <td>Peter Jackson</td>\n",
       "      <td>J.R.R. Tolkien</td>\n",
       "      <td>Elijah Wood</td>\n",
       "      <td>New Zealand</td>\n",
       "      <td>94000000</td>\n",
       "      <td>1146030912</td>\n",
       "      <td>New Line Cinema</td>\n",
       "      <td>201.0</td>\n",
       "    </tr>\n",
       "    <tr>\n",
       "      <th>2247</th>\n",
       "      <td>Schindler's List</td>\n",
       "      <td>R</td>\n",
       "      <td>Biography</td>\n",
       "      <td>1993</td>\n",
       "      <td>3221</td>\n",
       "      <td>8.9</td>\n",
       "      <td>1200000.0</td>\n",
       "      <td>Steven Spielberg</td>\n",
       "      <td>Thomas Keneally</td>\n",
       "      <td>Liam Neeson</td>\n",
       "      <td>United States</td>\n",
       "      <td>22000000</td>\n",
       "      <td>322161245</td>\n",
       "      <td>Universal Pictures</td>\n",
       "      <td>195.0</td>\n",
       "    </tr>\n",
       "    <tr>\n",
       "      <th>2444</th>\n",
       "      <td>Pulp Fiction</td>\n",
       "      <td>R</td>\n",
       "      <td>Crime</td>\n",
       "      <td>1994</td>\n",
       "      <td>2139</td>\n",
       "      <td>8.9</td>\n",
       "      <td>1900000.0</td>\n",
       "      <td>Quentin Tarantino</td>\n",
       "      <td>Quentin Tarantino</td>\n",
       "      <td>John Travolta</td>\n",
       "      <td>United States</td>\n",
       "      <td>8000000</td>\n",
       "      <td>213928762</td>\n",
       "      <td>Miramax</td>\n",
       "      <td>154.0</td>\n",
       "    </tr>\n",
       "    <tr>\n",
       "      <th>...</th>\n",
       "      <td>...</td>\n",
       "      <td>...</td>\n",
       "      <td>...</td>\n",
       "      <td>...</td>\n",
       "      <td>...</td>\n",
       "      <td>...</td>\n",
       "      <td>...</td>\n",
       "      <td>...</td>\n",
       "      <td>...</td>\n",
       "      <td>...</td>\n",
       "      <td>...</td>\n",
       "      <td>...</td>\n",
       "      <td>...</td>\n",
       "      <td>...</td>\n",
       "      <td>...</td>\n",
       "    </tr>\n",
       "    <tr>\n",
       "      <th>5354</th>\n",
       "      <td>The Hottie &amp; the Nottie</td>\n",
       "      <td>PG-13</td>\n",
       "      <td>Comedy</td>\n",
       "      <td>2008</td>\n",
       "      <td>1596</td>\n",
       "      <td>1.9</td>\n",
       "      <td>36000.0</td>\n",
       "      <td>Tom Putnam</td>\n",
       "      <td>Heidi Ferrer</td>\n",
       "      <td>Paris Hilton</td>\n",
       "      <td>United States</td>\n",
       "      <td>0</td>\n",
       "      <td>1596232</td>\n",
       "      <td>Purple Pictures</td>\n",
       "      <td>91.0</td>\n",
       "    </tr>\n",
       "    <tr>\n",
       "      <th>5306</th>\n",
       "      <td>Disaster Movie</td>\n",
       "      <td>PG-13</td>\n",
       "      <td>Comedy</td>\n",
       "      <td>2008</td>\n",
       "      <td>3481</td>\n",
       "      <td>1.9</td>\n",
       "      <td>88000.0</td>\n",
       "      <td>Jason Friedberg</td>\n",
       "      <td>Jason Friedberg</td>\n",
       "      <td>Carmen Electra</td>\n",
       "      <td>United States</td>\n",
       "      <td>20000000</td>\n",
       "      <td>34816824</td>\n",
       "      <td>Lionsgate</td>\n",
       "      <td>87.0</td>\n",
       "    </tr>\n",
       "    <tr>\n",
       "      <th>7661</th>\n",
       "      <td>Love by Drowning</td>\n",
       "      <td>R</td>\n",
       "      <td>Drama</td>\n",
       "      <td>2020</td>\n",
       "      <td>0</td>\n",
       "      <td>0.0</td>\n",
       "      <td>0.0</td>\n",
       "      <td>Justin Kreinbrink</td>\n",
       "      <td>C.E. Poverman</td>\n",
       "      <td>Nicky Whelan</td>\n",
       "      <td>United States</td>\n",
       "      <td>1000000</td>\n",
       "      <td>0</td>\n",
       "      <td>Dow Jazz Films</td>\n",
       "      <td>121.0</td>\n",
       "    </tr>\n",
       "    <tr>\n",
       "      <th>7662</th>\n",
       "      <td>The Robinsons</td>\n",
       "      <td>0</td>\n",
       "      <td>Action</td>\n",
       "      <td>2020</td>\n",
       "      <td>0</td>\n",
       "      <td>0.0</td>\n",
       "      <td>0.0</td>\n",
       "      <td>Directors</td>\n",
       "      <td>Aleks Alifirenko Jr.</td>\n",
       "      <td>Billy Hartmann</td>\n",
       "      <td>United States</td>\n",
       "      <td>10000</td>\n",
       "      <td>0</td>\n",
       "      <td>0</td>\n",
       "      <td>90.0</td>\n",
       "    </tr>\n",
       "    <tr>\n",
       "      <th>7666</th>\n",
       "      <td>It's Just Us</td>\n",
       "      <td>0</td>\n",
       "      <td>Drama</td>\n",
       "      <td>2020</td>\n",
       "      <td>0</td>\n",
       "      <td>0.0</td>\n",
       "      <td>0.0</td>\n",
       "      <td>James Randall</td>\n",
       "      <td>James Randall</td>\n",
       "      <td>Christina Roz</td>\n",
       "      <td>United States</td>\n",
       "      <td>15000</td>\n",
       "      <td>0</td>\n",
       "      <td>0</td>\n",
       "      <td>120.0</td>\n",
       "    </tr>\n",
       "  </tbody>\n",
       "</table>\n",
       "<p>7668 rows × 15 columns</p>\n",
       "</div>"
      ],
      "text/plain": [
       "                                               name rating      genre  year  \\\n",
       "2443                       The Shawshank Redemption      R      Drama  1994   \n",
       "5243                                The Dark Knight  PG-13     Action  2008   \n",
       "4245  The Lord of the Rings: The Return of the King  PG-13     Action  2003   \n",
       "2247                               Schindler's List      R  Biography  1993   \n",
       "2444                                   Pulp Fiction      R      Crime  1994   \n",
       "...                                             ...    ...        ...   ...   \n",
       "5354                        The Hottie & the Nottie  PG-13     Comedy  2008   \n",
       "5306                                 Disaster Movie  PG-13     Comedy  2008   \n",
       "7661                               Love by Drowning      R      Drama  2020   \n",
       "7662                                  The Robinsons      0     Action  2020   \n",
       "7666                                   It's Just Us      0      Drama  2020   \n",
       "\n",
       "     released  score      votes           director                writer  \\\n",
       "2443     2881    9.3  2400000.0     Frank Darabont          Stephen King   \n",
       "5243     1005    9.0  2400000.0  Christopher Nolan        Jonathan Nolan   \n",
       "4245     1146    8.9  1700000.0      Peter Jackson        J.R.R. Tolkien   \n",
       "2247     3221    8.9  1200000.0   Steven Spielberg       Thomas Keneally   \n",
       "2444     2139    8.9  1900000.0  Quentin Tarantino     Quentin Tarantino   \n",
       "...       ...    ...        ...                ...                   ...   \n",
       "5354     1596    1.9    36000.0         Tom Putnam          Heidi Ferrer   \n",
       "5306     3481    1.9    88000.0    Jason Friedberg       Jason Friedberg   \n",
       "7661        0    0.0        0.0  Justin Kreinbrink         C.E. Poverman   \n",
       "7662        0    0.0        0.0          Directors  Aleks Alifirenko Jr.   \n",
       "7666        0    0.0        0.0      James Randall         James Randall   \n",
       "\n",
       "                star        country     budget       gross  \\\n",
       "2443     Tim Robbins  United States   25000000    28817291   \n",
       "5243  Christian Bale  United States  185000000  1005973645   \n",
       "4245     Elijah Wood    New Zealand   94000000  1146030912   \n",
       "2247     Liam Neeson  United States   22000000   322161245   \n",
       "2444   John Travolta  United States    8000000   213928762   \n",
       "...              ...            ...        ...         ...   \n",
       "5354    Paris Hilton  United States          0     1596232   \n",
       "5306  Carmen Electra  United States   20000000    34816824   \n",
       "7661    Nicky Whelan  United States    1000000           0   \n",
       "7662  Billy Hartmann  United States      10000           0   \n",
       "7666   Christina Roz  United States      15000           0   \n",
       "\n",
       "                        company  runtime  \n",
       "2443  Castle Rock Entertainment    142.0  \n",
       "5243               Warner Bros.    152.0  \n",
       "4245            New Line Cinema    201.0  \n",
       "2247         Universal Pictures    195.0  \n",
       "2444                    Miramax    154.0  \n",
       "...                         ...      ...  \n",
       "5354            Purple Pictures     91.0  \n",
       "5306                  Lionsgate     87.0  \n",
       "7661             Dow Jazz Films    121.0  \n",
       "7662                          0     90.0  \n",
       "7666                          0    120.0  \n",
       "\n",
       "[7668 rows x 15 columns]"
      ]
     },
     "execution_count": 110,
     "metadata": {},
     "output_type": "execute_result"
    }
   ],
   "source": [
    "no_dup.sort_values(by=\"score\", ascending=False)"
   ]
  },
  {
   "cell_type": "code",
   "execution_count": 111,
   "id": "614d7e6c",
   "metadata": {},
   "outputs": [
    {
     "data": {
      "text/plain": [
       "Text(0.5, 1.0, 'Budget vs. Gross Revenue')"
      ]
     },
     "execution_count": 111,
     "metadata": {},
     "output_type": "execute_result"
    },
    {
     "data": {
      "image/png": "[encoded data removed]",
      "text/plain": [
       "<Figure size 1152x648 with 1 Axes>"
      ]
     },
     "metadata": {
      "needs_background": "light"
     },
     "output_type": "display_data"
    }
   ],
   "source": [
    "plt.figure(figsize=(16,9))\n",
    "sns.regplot(data=movies, x='budget', y='gross', scatter_kws={\"color\": \"red\"}, line_kws={'color':'blue'})\n",
    "plt.tight_layout()\n",
    "plt.title('Budget vs. Gross Revenue')"
   ]
  },
  {
   "cell_type": "code",
   "execution_count": 112,
   "id": "ec8d47c6",
   "metadata": {},
   "outputs": [
    {
     "data": {
      "text/html": [
       "<div>\n",
       "<style scoped>\n",
       "    .dataframe tbody tr th:only-of-type {\n",
       "        vertical-align: middle;\n",
       "    }\n",
       "\n",
       "    .dataframe tbody tr th {\n",
       "        vertical-align: top;\n",
       "    }\n",
       "\n",
       "    .dataframe thead th {\n",
       "        text-align: right;\n",
       "    }\n",
       "</style>\n",
       "<table border=\"1\" class=\"dataframe\">\n",
       "  <thead>\n",
       "    <tr style=\"text-align: right;\">\n",
       "      <th></th>\n",
       "      <th>year</th>\n",
       "      <th>score</th>\n",
       "      <th>votes</th>\n",
       "      <th>budget</th>\n",
       "      <th>gross</th>\n",
       "      <th>runtime</th>\n",
       "    </tr>\n",
       "  </thead>\n",
       "  <tbody>\n",
       "    <tr>\n",
       "      <th>year</th>\n",
       "      <td>1.000000</td>\n",
       "      <td>0.092616</td>\n",
       "      <td>0.222427</td>\n",
       "      <td>0.309212</td>\n",
       "      <td>0.261900</td>\n",
       "      <td>0.116358</td>\n",
       "    </tr>\n",
       "    <tr>\n",
       "      <th>score</th>\n",
       "      <td>0.092616</td>\n",
       "      <td>1.000000</td>\n",
       "      <td>0.407101</td>\n",
       "      <td>0.056863</td>\n",
       "      <td>0.186012</td>\n",
       "      <td>0.394564</td>\n",
       "    </tr>\n",
       "    <tr>\n",
       "      <th>votes</th>\n",
       "      <td>0.222427</td>\n",
       "      <td>0.407101</td>\n",
       "      <td>1.000000</td>\n",
       "      <td>0.486931</td>\n",
       "      <td>0.632870</td>\n",
       "      <td>0.306984</td>\n",
       "    </tr>\n",
       "    <tr>\n",
       "      <th>budget</th>\n",
       "      <td>0.309212</td>\n",
       "      <td>0.056863</td>\n",
       "      <td>0.486931</td>\n",
       "      <td>1.000000</td>\n",
       "      <td>0.750157</td>\n",
       "      <td>0.268372</td>\n",
       "    </tr>\n",
       "    <tr>\n",
       "      <th>gross</th>\n",
       "      <td>0.261900</td>\n",
       "      <td>0.186012</td>\n",
       "      <td>0.632870</td>\n",
       "      <td>0.750157</td>\n",
       "      <td>1.000000</td>\n",
       "      <td>0.244339</td>\n",
       "    </tr>\n",
       "    <tr>\n",
       "      <th>runtime</th>\n",
       "      <td>0.116358</td>\n",
       "      <td>0.394564</td>\n",
       "      <td>0.306984</td>\n",
       "      <td>0.268372</td>\n",
       "      <td>0.244339</td>\n",
       "      <td>1.000000</td>\n",
       "    </tr>\n",
       "  </tbody>\n",
       "</table>\n",
       "</div>"
      ],
      "text/plain": [
       "             year     score     votes    budget     gross   runtime\n",
       "year     1.000000  0.092616  0.222427  0.309212  0.261900  0.116358\n",
       "score    0.092616  1.000000  0.407101  0.056863  0.186012  0.394564\n",
       "votes    0.222427  0.407101  1.000000  0.486931  0.632870  0.306984\n",
       "budget   0.309212  0.056863  0.486931  1.000000  0.750157  0.268372\n",
       "gross    0.261900  0.186012  0.632870  0.750157  1.000000  0.244339\n",
       "runtime  0.116358  0.394564  0.306984  0.268372  0.244339  1.000000"
      ]
     },
     "execution_count": 112,
     "metadata": {},
     "output_type": "execute_result"
    }
   ],
   "source": [
    "movies.corr()"
   ]
  },
  {
   "cell_type": "code",
   "execution_count": 113,
   "id": "0e84ea22",
   "metadata": {},
   "outputs": [
    {
     "data": {
      "text/plain": [
       "<AxesSubplot:>"
      ]
     },
     "execution_count": 113,
     "metadata": {},
     "output_type": "execute_result"
    },
    {
     "data": {
      "image/png": "[encoded data removed]",
      "text/plain": [
       "<Figure size 1152x648 with 2 Axes>"
      ]
     },
     "metadata": {
      "needs_background": "light"
     },
     "output_type": "display_data"
    }
   ],
   "source": [
    "corr = movies.corr()\n",
    "plt.figure(figsize=(16,9))\n",
    "sns.heatmap(corr, annot=True)"
   ]
  },
  {
   "cell_type": "code",
   "execution_count": 114,
   "id": "ee27a5f8",
   "metadata": {},
   "outputs": [
    {
     "data": {
      "text/html": [
       "<div>\n",
       "<style scoped>\n",
       "    .dataframe tbody tr th:only-of-type {\n",
       "        vertical-align: middle;\n",
       "    }\n",
       "\n",
       "    .dataframe tbody tr th {\n",
       "        vertical-align: top;\n",
       "    }\n",
       "\n",
       "    .dataframe thead th {\n",
       "        text-align: right;\n",
       "    }\n",
       "</style>\n",
       "<table border=\"1\" class=\"dataframe\">\n",
       "  <thead>\n",
       "    <tr style=\"text-align: right;\">\n",
       "      <th></th>\n",
       "      <th>name</th>\n",
       "      <th>rating</th>\n",
       "      <th>genre</th>\n",
       "      <th>year</th>\n",
       "      <th>released</th>\n",
       "      <th>score</th>\n",
       "      <th>votes</th>\n",
       "      <th>director</th>\n",
       "      <th>writer</th>\n",
       "      <th>star</th>\n",
       "      <th>country</th>\n",
       "      <th>budget</th>\n",
       "      <th>gross</th>\n",
       "      <th>company</th>\n",
       "      <th>runtime</th>\n",
       "    </tr>\n",
       "  </thead>\n",
       "  <tbody>\n",
       "    <tr>\n",
       "      <th>0</th>\n",
       "      <td>6587</td>\n",
       "      <td>7</td>\n",
       "      <td>6</td>\n",
       "      <td>1980</td>\n",
       "      <td>2619</td>\n",
       "      <td>8.4</td>\n",
       "      <td>927000.0</td>\n",
       "      <td>2589</td>\n",
       "      <td>4015</td>\n",
       "      <td>1048</td>\n",
       "      <td>55</td>\n",
       "      <td>19000000</td>\n",
       "      <td>46998772</td>\n",
       "      <td>2320</td>\n",
       "      <td>146.0</td>\n",
       "    </tr>\n",
       "    <tr>\n",
       "      <th>1</th>\n",
       "      <td>5573</td>\n",
       "      <td>7</td>\n",
       "      <td>1</td>\n",
       "      <td>1980</td>\n",
       "      <td>3134</td>\n",
       "      <td>5.8</td>\n",
       "      <td>65000.0</td>\n",
       "      <td>2269</td>\n",
       "      <td>1633</td>\n",
       "      <td>328</td>\n",
       "      <td>56</td>\n",
       "      <td>4500000</td>\n",
       "      <td>58853106</td>\n",
       "      <td>732</td>\n",
       "      <td>104.0</td>\n",
       "    </tr>\n",
       "    <tr>\n",
       "      <th>2</th>\n",
       "      <td>5142</td>\n",
       "      <td>5</td>\n",
       "      <td>0</td>\n",
       "      <td>1980</td>\n",
       "      <td>2908</td>\n",
       "      <td>8.7</td>\n",
       "      <td>1200000.0</td>\n",
       "      <td>1111</td>\n",
       "      <td>2568</td>\n",
       "      <td>1746</td>\n",
       "      <td>56</td>\n",
       "      <td>18000000</td>\n",
       "      <td>538375067</td>\n",
       "      <td>1541</td>\n",
       "      <td>124.0</td>\n",
       "    </tr>\n",
       "  </tbody>\n",
       "</table>\n",
       "</div>"
      ],
      "text/plain": [
       "   name  rating  genre  year  released  score      votes  director  writer  \\\n",
       "0  6587       7      6  1980      2619    8.4   927000.0      2589    4015   \n",
       "1  5573       7      1  1980      3134    5.8    65000.0      2269    1633   \n",
       "2  5142       5      0  1980      2908    8.7  1200000.0      1111    2568   \n",
       "\n",
       "   star  country    budget      gross  company  runtime  \n",
       "0  1048       55  19000000   46998772     2320    146.0  \n",
       "1   328       56   4500000   58853106      732    104.0  \n",
       "2  1746       56  18000000  538375067     1541    124.0  "
      ]
     },
     "execution_count": 114,
     "metadata": {},
     "output_type": "execute_result"
    }
   ],
   "source": [
    "# Assigning a number to the object columns\n",
    "\n",
    "df_num = movies\n",
    "\n",
    "for col_name in df_num:\n",
    "    if (df_num[col_name].dtype == 'object'):\n",
    "        df_num[col_name] = df_num[col_name].astype('category')\n",
    "        df_num[col_name] = df_num[col_name].cat.codes\n",
    "        \n",
    "df_num.head(3)"
   ]
  },
  {
   "cell_type": "code",
   "execution_count": 115,
   "id": "e7ba621e",
   "metadata": {},
   "outputs": [
    {
     "name": "stdout",
     "output_type": "stream",
     "text": [
      "Sorry\n",
      "Sorry\n",
      "Sorry\n",
      "o\n",
      "Sorry\n",
      "Sorry\n",
      "Sorry\n",
      "Sorry\n",
      "Sorry\n",
      "Sorry\n",
      "Sorry\n"
     ]
    }
   ],
   "source": [
    "string = \"I love AOPS\"\n",
    "\n",
    "for i in string:\n",
    "    if i=='o':\n",
    "        print(i)\n",
    "    else:\n",
    "        print(\"Sorry\")"
   ]
  },
  {
   "cell_type": "code",
   "execution_count": 116,
   "id": "ba68e654",
   "metadata": {},
   "outputs": [
    {
     "data": {
      "text/plain": [
       "<bound method DataFrame.corr of       name  rating  genre  year  released  score      votes  director  writer  \\\n",
       "0     6587       7      6  1980      2619    8.4   927000.0      2589    4015   \n",
       "1     5573       7      1  1980      3134    5.8    65000.0      2269    1633   \n",
       "2     5142       5      0  1980      2908    8.7  1200000.0      1111    2568   \n",
       "3      286       5      4  1980      3990    7.7   221000.0      1301    2001   \n",
       "4     1027       7      4  1980      2233    7.3   108000.0      1054     522   \n",
       "...    ...     ...    ...   ...       ...    ...        ...       ...     ...   \n",
       "7663  3705       0      6  2020         0    3.1       18.0      1500    2290   \n",
       "7664  1678       0      4  2020         0    4.7       36.0       774    2615   \n",
       "7665  4717       0      6  2020         0    5.7       29.0      2061    2684   \n",
       "7666  2843       0      6  2020         0    0.0        0.0      1184    1825   \n",
       "7667  5394       0     10  2020         0    5.7        7.0      2165    3345   \n",
       "\n",
       "      star  country    budget      gross  company  runtime  \n",
       "0     1048       55  19000000   46998772     2320    146.0  \n",
       "1      328       56   4500000   58853106      732    104.0  \n",
       "2     1746       56  18000000  538375067     1541    124.0  \n",
       "3     2247       56   3500000   83453539     1813     88.0  \n",
       "4      411       56   6000000   39846344     1778     98.0  \n",
       "...    ...      ...       ...        ...      ...      ...  \n",
       "7663  2422       56      7000          0        0     90.0  \n",
       "7664  1887       56         0          0      540     90.0  \n",
       "7665  2041       56     58750          0      942      0.0  \n",
       "7666   451       56     15000          0        0    120.0  \n",
       "7667  2464       45         0          0     1788    102.0  \n",
       "\n",
       "[7668 rows x 15 columns]>"
      ]
     },
     "execution_count": 116,
     "metadata": {},
     "output_type": "execute_result"
    }
   ],
   "source": [
    "df_num.corr"
   ]
  },
  {
   "cell_type": "code",
   "execution_count": 117,
   "id": "f9d3b9c4",
   "metadata": {},
   "outputs": [
    {
     "data": {
      "text/plain": [
       "<AxesSubplot:>"
      ]
     },
     "execution_count": 117,
     "metadata": {},
     "output_type": "execute_result"
    },
    {
     "data": {
      "image/png": "[encoded data removed]",
      "text/plain": [
       "<Figure size 1152x648 with 2 Axes>"
      ]
     },
     "metadata": {
      "needs_background": "light"
     },
     "output_type": "display_data"
    }
   ],
   "source": [
    "corr_num = df_num.corr()\n",
    "plt.figure(figsize=(16,9))\n",
    "sns.heatmap(corr_num, annot=True)"
   ]
  },
  {
   "cell_type": "code",
   "execution_count": 118,
   "id": "ce1846f1",
   "metadata": {},
   "outputs": [],
   "source": [
    "# Attempting to use SQLite in python"
   ]
  },
  {
   "cell_type": "code",
   "execution_count": 119,
   "id": "6b098155",
   "metadata": {},
   "outputs": [],
   "source": [
    "import sqlite3"
   ]
  },
  {
   "cell_type": "code",
   "execution_count": 120,
   "id": "5676865f",
   "metadata": {},
   "outputs": [],
   "source": [
    "conn = sqlite3.connect('/Users/williamearley/prep/chinook.db')"
   ]
  },
  {
   "cell_type": "code",
   "execution_count": 121,
   "id": "a0b2fec9",
   "metadata": {},
   "outputs": [],
   "source": [
    "cursor = conn.cursor()"
   ]
  },
  {
   "cell_type": "code",
   "execution_count": 122,
   "id": "90fb4957",
   "metadata": {},
   "outputs": [
    {
     "data": {
      "text/plain": [
       "7668"
      ]
     },
     "execution_count": 122,
     "metadata": {},
     "output_type": "execute_result"
    }
   ],
   "source": [
    "movies.to_sql('movies', conn, if_exists='replace', index=False)"
   ]
  },
  {
   "cell_type": "code",
   "execution_count": 123,
   "id": "d94eb3c2",
   "metadata": {},
   "outputs": [],
   "source": [
    "conn.commit()"
   ]
  },
  {
   "cell_type": "code",
   "execution_count": 124,
   "id": "de2c2555",
   "metadata": {},
   "outputs": [],
   "source": [
    "conn.close()"
   ]
  },
  {
   "cell_type": "code",
   "execution_count": 125,
   "id": "ac184cc6",
   "metadata": {},
   "outputs": [
    {
     "ename": "ProgrammingError",
     "evalue": "Cannot operate on a closed database.",
     "output_type": "error",
     "traceback": [
      "\u001b[0;31m---------------------------------------------------------------------------\u001b[0m",
      "\u001b[0;31mProgrammingError\u001b[0m                          Traceback (most recent call last)",
      "Input \u001b[0;32mIn [125]\u001b[0m, in \u001b[0;36m<cell line: 1>\u001b[0;34m()\u001b[0m\n\u001b[0;32m----> 1\u001b[0m \u001b[43mcursor\u001b[49m\u001b[38;5;241;43m.\u001b[39;49m\u001b[43mexecute\u001b[49m\u001b[43m(\u001b[49m\u001b[38;5;124;43m'\u001b[39;49m\u001b[38;5;124;43mSELECT * FROM movies\u001b[39;49m\u001b[38;5;124;43m'\u001b[39;49m\u001b[43m)\u001b[49m\n\u001b[1;32m      2\u001b[0m data\u001b[38;5;241m=\u001b[39mcursor\u001b[38;5;241m.\u001b[39mfetchall()\n",
      "\u001b[0;31mProgrammingError\u001b[0m: Cannot operate on a closed database."
     ]
    }
   ],
   "source": [
    "cursor.execute('SELECT * FROM movies')\n",
    "data=cursor.fetchall()"
   ]
  },
  {
   "cell_type": "code",
   "execution_count": null,
   "id": "1fd73de2",
   "metadata": {},
   "outputs": [],
   "source": [
    "conn.commit()"
   ]
  },
  {
   "cell_type": "code",
   "execution_count": null,
   "id": "04e75630",
   "metadata": {},
   "outputs": [],
   "source": [
    "conn.close()"
   ]
  },
  {
   "cell_type": "code",
   "execution_count": null,
   "id": "4c737d25",
   "metadata": {},
   "outputs": [],
   "source": [
    "cursor"
   ]
  },
  {
   "cell_type": "code",
   "execution_count": null,
   "id": "156c23e2",
   "metadata": {},
   "outputs": [],
   "source": [
    "for row in data:\n",
    "    print(row)"
   ]
  },
  {
   "cell_type": "code",
   "execution_count": null,
   "id": "12b37a98",
   "metadata": {},
   "outputs": [],
   "source": [
    "# Working with an Education Data set\n",
    "\n",
    "country = pd.read_csv('/Users/williamearley/Prep/EdStatsCountry.csv')\n",
    "data = pd.read_csv('/Users/williamearley/Prep/EdStatsData.csv')"
   ]
  },
  {
   "cell_type": "code",
   "execution_count": null,
   "id": "944a2506",
   "metadata": {},
   "outputs": [],
   "source": [
    "country.head(5)"
   ]
  },
  {
   "cell_type": "code",
   "execution_count": null,
   "id": "c3418ddb",
   "metadata": {},
   "outputs": [],
   "source": [
    "country.shape"
   ]
  },
  {
   "cell_type": "code",
   "execution_count": null,
   "id": "21f73aaf",
   "metadata": {},
   "outputs": [],
   "source": [
    "data.shape"
   ]
  },
  {
   "cell_type": "code",
   "execution_count": null,
   "id": "777f93f8",
   "metadata": {},
   "outputs": [],
   "source": [
    "data.head()"
   ]
  },
  {
   "cell_type": "code",
   "execution_count": null,
   "id": "d529fe72",
   "metadata": {},
   "outputs": [],
   "source": [
    "country.info()"
   ]
  },
  {
   "cell_type": "code",
   "execution_count": null,
   "id": "aa903bda",
   "metadata": {},
   "outputs": [],
   "source": [
    "country['System of trade']"
   ]
  },
  {
   "cell_type": "code",
   "execution_count": null,
   "id": "5abf25af",
   "metadata": {},
   "outputs": [],
   "source": [
    "data.info()"
   ]
  },
  {
   "cell_type": "code",
   "execution_count": null,
   "id": "7b52856b",
   "metadata": {},
   "outputs": [],
   "source": [
    "data.fillna(0)"
   ]
  },
  {
   "cell_type": "code",
   "execution_count": null,
   "id": "eda28eb3",
   "metadata": {},
   "outputs": [],
   "source": [
    "data[data['Country Code'] == 'ZWE']"
   ]
  },
  {
   "cell_type": "code",
   "execution_count": null,
   "id": "4fdbd63a",
   "metadata": {},
   "outputs": [],
   "source": [
    "recent = data[['Country Name', '2010', '2011', '2012', '2013', '2014', '2015', '2016', '2017', '2020']]"
   ]
  },
  {
   "cell_type": "code",
   "execution_count": null,
   "id": "f1c01d8a",
   "metadata": {},
   "outputs": [],
   "source": [
    "recent.head()"
   ]
  },
  {
   "cell_type": "code",
   "execution_count": null,
   "id": "ee935f5c",
   "metadata": {},
   "outputs": [],
   "source": [
    "comp = recent.groupby(\"Country Name\").sum()"
   ]
  },
  {
   "cell_type": "markdown",
   "id": "b8f1bf80",
   "metadata": {},
   "source": []
  },
  {
   "cell_type": "code",
   "execution_count": null,
   "id": "6c134419",
   "metadata": {},
   "outputs": [],
   "source": [
    "comp.head()"
   ]
  },
  {
   "cell_type": "code",
   "execution_count": null,
   "id": "11aba52b",
   "metadata": {},
   "outputs": [],
   "source": [
    "comp['Average'] = comp.mean(axis=1)"
   ]
  },
  {
   "cell_type": "code",
   "execution_count": null,
   "id": "f168b7e9",
   "metadata": {},
   "outputs": [],
   "source": [
    "comp = comp.sort_values(by='Average', ascending=False)\n",
    "comp.head(15)"
   ]
  },
  {
   "cell_type": "code",
   "execution_count": null,
   "id": "528fb638",
   "metadata": {},
   "outputs": [],
   "source": [
    "comp['Average'] = comp['Average'].round(2)"
   ]
  },
  {
   "cell_type": "code",
   "execution_count": null,
   "id": "36c56a94",
   "metadata": {},
   "outputs": [],
   "source": [
    "comp['2020'] = comp['2020'].round(2)"
   ]
  },
  {
   "cell_type": "code",
   "execution_count": null,
   "id": "38a839f2",
   "metadata": {},
   "outputs": [],
   "source": [
    "comp.head()"
   ]
  },
  {
   "cell_type": "code",
   "execution_count": null,
   "id": "886d2c92",
   "metadata": {},
   "outputs": [],
   "source": [
    "from requests import Request, Session\n",
    "from requests.exceptions import ConnectionError, Timeout, TooManyRedirects\n",
    "import json\n",
    "\n",
    "url = 'https://pro-api.coinmarketcap.com/v1/cryptocurrency/listings/latest'\n",
    "parameters = {\n",
    "  'start':'1',\n",
    "  'limit':'15',\n",
    "  'convert':'USD'\n",
    "}\n",
    "headers = {\n",
    "  'Accepts': 'application/json',\n",
    "  'X-CMC_PRO_API_KEY': '4c443d78-edc7-43c4-94dd-bcb0d6d9b19a',\n",
    "}\n",
    "\n",
    "session = Session()\n",
    "session.headers.update(headers)\n",
    "\n",
    "try:\n",
    "  response = session.get(url, params=parameters)\n",
    "  data = json.loads(response.text)\n",
    "  print(data)\n",
    "except (ConnectionError, Timeout, TooManyRedirects) as e:\n",
    "  print(e)"
   ]
  },
  {
   "cell_type": "code",
   "execution_count": null,
   "id": "c5cf20e4",
   "metadata": {},
   "outputs": [],
   "source": [
    "type(data)"
   ]
  },
  {
   "cell_type": "code",
   "execution_count": null,
   "id": "bc786b36",
   "metadata": {},
   "outputs": [],
   "source": [
    "pd.set_option('display.max_columns', None)"
   ]
  },
  {
   "cell_type": "code",
   "execution_count": null,
   "id": "73a8633f",
   "metadata": {},
   "outputs": [],
   "source": [
    "df = pd.json_normalize(data['data'])\n",
    "df['timestamp'] = pd.to_datetime('now')"
   ]
  },
  {
   "cell_type": "code",
   "execution_count": null,
   "id": "09b46132",
   "metadata": {},
   "outputs": [],
   "source": [
    "sorted1 = data.sort_values(by='quote.USD.price',ascending=False)"
   ]
  },
  {
   "cell_type": "code",
   "execution_count": null,
   "id": "ec04a966",
   "metadata": {},
   "outputs": [],
   "source": [
    "df.shape"
   ]
  },
  {
   "cell_type": "code",
   "execution_count": null,
   "id": "8dcd28fe",
   "metadata": {},
   "outputs": [],
   "source": [
    "def api_runner():\n",
    "    global df\n",
    "    url = 'https://pro-api.coinmarketcap.com/v1/cryptocurrency/listings/latest'\n",
    "    parameters = {\n",
    "      'start':'1',\n",
    "      'limit':'15',\n",
    "      'convert':'USD'\n",
    "    }\n",
    "    headers = {\n",
    "      'Accepts': 'application/json',\n",
    "      'X-CMC_PRO_API_KEY': '4c443d78-edc7-43c4-94dd-bcb0d6d9b19a',\n",
    "    }\n",
    "    \n",
    "    session = Session()\n",
    "    session.headers.update(headers)\n",
    "\n",
    "    try:\n",
    "      response = session.get(url, params=parameters)\n",
    "      data = json.loads(response.text)\n",
    "      #print(data)\n",
    "    except (ConnectionError, Timeout, TooManyRedirects) as e:\n",
    "      print(e)\n",
    "    \n",
    "    df = pd.json_normalize(data['data'])\n",
    "    df['timestamp'] = pd.to_datetime('now')\n",
    "    df\n",
    "    \n",
    "    if not os.path.isfile(r'/Users/williamearley/Documents/Professional/Practice/Portfolio Project/API/API1.csv'):\n",
    "        df.to_csv(r'/Users/williamearley/Documents/Professional/Practice/Portfolio Project/API/API1.csv', header='column_names')\n",
    "        \n",
    "    else:\n",
    "        df.to_csv(r'/Users/williamearley/Documents/Professional/Practice/Portfolio Project/API/API1.csv', mode='a', header=False)"
   ]
  },
  {
   "cell_type": "code",
   "execution_count": null,
   "id": "d9594181",
   "metadata": {},
   "outputs": [],
   "source": [
    "import os\n",
    "from time import time\n",
    "from time import sleep\n",
    "\n",
    "for i in range(333):\n",
    "    api_runner()\n",
    "    print(\"It ran!! Let's gooo\")\n",
    "    sleep(60) # sleep for 1 min\n",
    "exit()"
   ]
  },
  {
   "cell_type": "code",
   "execution_count": null,
   "id": "633b6bec",
   "metadata": {},
   "outputs": [],
   "source": [
    "pd.set_option('display.float_format', lambda x: '%.5f' % x)"
   ]
  },
  {
   "cell_type": "code",
   "execution_count": null,
   "id": "36cb6899",
   "metadata": {},
   "outputs": [],
   "source": [
    "df.head(3)"
   ]
  },
  {
   "cell_type": "code",
   "execution_count": null,
   "id": "f640a4ed",
   "metadata": {},
   "outputs": [],
   "source": [
    "def func(x):\n",
    "    return x+12"
   ]
  },
  {
   "cell_type": "code",
   "execution_count": null,
   "id": "8f835643",
   "metadata": {},
   "outputs": [],
   "source": [
    "func(9)"
   ]
  },
  {
   "cell_type": "code",
   "execution_count": null,
   "id": "54068c99",
   "metadata": {},
   "outputs": [],
   "source": [
    "func2 = lambda x,y: x*y"
   ]
  },
  {
   "cell_type": "code",
   "execution_count": null,
   "id": "abdb4c3a",
   "metadata": {},
   "outputs": [],
   "source": [
    "func2(9,11)"
   ]
  },
  {
   "cell_type": "code",
   "execution_count": null,
   "id": "416b7e32",
   "metadata": {},
   "outputs": [],
   "source": [
    "a = [1,2,3,4,5,6,7,8,9]"
   ]
  },
  {
   "cell_type": "code",
   "execution_count": null,
   "id": "0af5e196",
   "metadata": {},
   "outputs": [],
   "source": [
    "a = [range(9)]"
   ]
  },
  {
   "cell_type": "code",
   "execution_count": null,
   "id": "e69ca336",
   "metadata": {},
   "outputs": [],
   "source": [
    "newList = list(map(lambda x: x+5, a))"
   ]
  },
  {
   "cell_type": "code",
   "execution_count": null,
   "id": "8a384020",
   "metadata": {},
   "outputs": [],
   "source": [
    "newList"
   ]
  },
  {
   "cell_type": "code",
   "execution_count": null,
   "id": "59edb3cb",
   "metadata": {},
   "outputs": [],
   "source": [
    "a"
   ]
  },
  {
   "cell_type": "code",
   "execution_count": null,
   "id": "b18eb170",
   "metadata": {},
   "outputs": [],
   "source": [
    "for i in a:\n",
    "    print(i)"
   ]
  },
  {
   "cell_type": "code",
   "execution_count": null,
   "id": "9dbdeae3",
   "metadata": {},
   "outputs": [],
   "source": [
    "for i in a:\n",
    "    p"
   ]
  },
  {
   "cell_type": "code",
   "execution_count": null,
   "id": "e8d733f8",
   "metadata": {},
   "outputs": [],
   "source": [
    "# Working on different statistical calculations"
   ]
  },
  {
   "cell_type": "code",
   "execution_count": null,
   "id": "111b43d0",
   "metadata": {},
   "outputs": [],
   "source": [
    "from scipy import stats"
   ]
  },
  {
   "cell_type": "code",
   "execution_count": null,
   "id": "bfe1843f",
   "metadata": {},
   "outputs": [],
   "source": [
    "g1 = np.array([34,56,43,54,45,34,54,26,54,66])\n",
    "g2 = np.array([154,144,524,234,265,276,255,245,234,254])"
   ]
  },
  {
   "cell_type": "code",
   "execution_count": null,
   "id": "f3858a6b",
   "metadata": {},
   "outputs": [],
   "source": [
    "g1"
   ]
  },
  {
   "cell_type": "code",
   "execution_count": null,
   "id": "4e357f24",
   "metadata": {},
   "outputs": [],
   "source": [
    "t_statistic, p_value = stats.ttest_ind(g1,g2)"
   ]
  },
  {
   "cell_type": "code",
   "execution_count": null,
   "id": "935f2cc8",
   "metadata": {},
   "outputs": [],
   "source": [
    "print(\"T-statistic:\", t_statistic)\n",
    "print(\"p-value\", p_value)"
   ]
  },
  {
   "cell_type": "code",
   "execution_count": null,
   "id": "24e48dfc",
   "metadata": {},
   "outputs": [],
   "source": [
    "alpha = 0.05\n",
    "if p_value < alpha:\n",
    "    print(\"Reject the null hypothesis\")\n",
    "else:\n",
    "    print(\"Fail to reject the null hypothesis\")"
   ]
  },
  {
   "cell_type": "code",
   "execution_count": 126,
   "id": "9995d808",
   "metadata": {},
   "outputs": [],
   "source": [
    "data = {\n",
    "    'Category': ['A', 'B', 'A', 'B', 'A', 'B'],\n",
    "    'Value': [10, 20, 15, 25, 12, 18]\n",
    "}\n",
    "df = pd.DataFrame(data)"
   ]
  },
  {
   "cell_type": "code",
   "execution_count": 127,
   "id": "a1b97d03",
   "metadata": {},
   "outputs": [
    {
     "data": {
      "text/html": [
       "<div>\n",
       "<style scoped>\n",
       "    .dataframe tbody tr th:only-of-type {\n",
       "        vertical-align: middle;\n",
       "    }\n",
       "\n",
       "    .dataframe tbody tr th {\n",
       "        vertical-align: top;\n",
       "    }\n",
       "\n",
       "    .dataframe thead th {\n",
       "        text-align: right;\n",
       "    }\n",
       "</style>\n",
       "<table border=\"1\" class=\"dataframe\">\n",
       "  <thead>\n",
       "    <tr style=\"text-align: right;\">\n",
       "      <th></th>\n",
       "      <th>Category</th>\n",
       "      <th>Value</th>\n",
       "    </tr>\n",
       "  </thead>\n",
       "  <tbody>\n",
       "    <tr>\n",
       "      <th>0</th>\n",
       "      <td>A</td>\n",
       "      <td>10</td>\n",
       "    </tr>\n",
       "    <tr>\n",
       "      <th>1</th>\n",
       "      <td>B</td>\n",
       "      <td>20</td>\n",
       "    </tr>\n",
       "    <tr>\n",
       "      <th>2</th>\n",
       "      <td>A</td>\n",
       "      <td>15</td>\n",
       "    </tr>\n",
       "    <tr>\n",
       "      <th>3</th>\n",
       "      <td>B</td>\n",
       "      <td>25</td>\n",
       "    </tr>\n",
       "    <tr>\n",
       "      <th>4</th>\n",
       "      <td>A</td>\n",
       "      <td>12</td>\n",
       "    </tr>\n",
       "  </tbody>\n",
       "</table>\n",
       "</div>"
      ],
      "text/plain": [
       "  Category  Value\n",
       "0        A     10\n",
       "1        B     20\n",
       "2        A     15\n",
       "3        B     25\n",
       "4        A     12"
      ]
     },
     "execution_count": 127,
     "metadata": {},
     "output_type": "execute_result"
    }
   ],
   "source": [
    "df.head()"
   ]
  },
  {
   "cell_type": "code",
   "execution_count": 131,
   "id": "8338c196",
   "metadata": {},
   "outputs": [],
   "source": [
    "order = df.sort_values(by='Category')"
   ]
  },
  {
   "cell_type": "code",
   "execution_count": 132,
   "id": "733fcf35",
   "metadata": {},
   "outputs": [
    {
     "data": {
      "text/html": [
       "<div>\n",
       "<style scoped>\n",
       "    .dataframe tbody tr th:only-of-type {\n",
       "        vertical-align: middle;\n",
       "    }\n",
       "\n",
       "    .dataframe tbody tr th {\n",
       "        vertical-align: top;\n",
       "    }\n",
       "\n",
       "    .dataframe thead th {\n",
       "        text-align: right;\n",
       "    }\n",
       "</style>\n",
       "<table border=\"1\" class=\"dataframe\">\n",
       "  <thead>\n",
       "    <tr style=\"text-align: right;\">\n",
       "      <th></th>\n",
       "      <th>Category</th>\n",
       "      <th>Value</th>\n",
       "    </tr>\n",
       "  </thead>\n",
       "  <tbody>\n",
       "    <tr>\n",
       "      <th>0</th>\n",
       "      <td>A</td>\n",
       "      <td>10</td>\n",
       "    </tr>\n",
       "    <tr>\n",
       "      <th>2</th>\n",
       "      <td>A</td>\n",
       "      <td>15</td>\n",
       "    </tr>\n",
       "    <tr>\n",
       "      <th>4</th>\n",
       "      <td>A</td>\n",
       "      <td>12</td>\n",
       "    </tr>\n",
       "    <tr>\n",
       "      <th>1</th>\n",
       "      <td>B</td>\n",
       "      <td>20</td>\n",
       "    </tr>\n",
       "    <tr>\n",
       "      <th>3</th>\n",
       "      <td>B</td>\n",
       "      <td>25</td>\n",
       "    </tr>\n",
       "    <tr>\n",
       "      <th>5</th>\n",
       "      <td>B</td>\n",
       "      <td>18</td>\n",
       "    </tr>\n",
       "  </tbody>\n",
       "</table>\n",
       "</div>"
      ],
      "text/plain": [
       "  Category  Value\n",
       "0        A     10\n",
       "2        A     15\n",
       "4        A     12\n",
       "1        B     20\n",
       "3        B     25\n",
       "5        B     18"
      ]
     },
     "execution_count": 132,
     "metadata": {},
     "output_type": "execute_result"
    }
   ],
   "source": [
    "order"
   ]
  },
  {
   "cell_type": "code",
   "execution_count": 128,
   "id": "7db0e031",
   "metadata": {},
   "outputs": [
    {
     "data": {
      "text/html": [
       "<div>\n",
       "<style scoped>\n",
       "    .dataframe tbody tr th:only-of-type {\n",
       "        vertical-align: middle;\n",
       "    }\n",
       "\n",
       "    .dataframe tbody tr th {\n",
       "        vertical-align: top;\n",
       "    }\n",
       "\n",
       "    .dataframe thead th {\n",
       "        text-align: right;\n",
       "    }\n",
       "</style>\n",
       "<table border=\"1\" class=\"dataframe\">\n",
       "  <thead>\n",
       "    <tr style=\"text-align: right;\">\n",
       "      <th></th>\n",
       "      <th>Category</th>\n",
       "      <th>Value</th>\n",
       "    </tr>\n",
       "  </thead>\n",
       "  <tbody>\n",
       "    <tr>\n",
       "      <th>0</th>\n",
       "      <td>A</td>\n",
       "      <td>10</td>\n",
       "    </tr>\n",
       "    <tr>\n",
       "      <th>1</th>\n",
       "      <td>B</td>\n",
       "      <td>20</td>\n",
       "    </tr>\n",
       "    <tr>\n",
       "      <th>2</th>\n",
       "      <td>A</td>\n",
       "      <td>15</td>\n",
       "    </tr>\n",
       "    <tr>\n",
       "      <th>3</th>\n",
       "      <td>B</td>\n",
       "      <td>25</td>\n",
       "    </tr>\n",
       "    <tr>\n",
       "      <th>4</th>\n",
       "      <td>A</td>\n",
       "      <td>12</td>\n",
       "    </tr>\n",
       "    <tr>\n",
       "      <th>5</th>\n",
       "      <td>B</td>\n",
       "      <td>18</td>\n",
       "    </tr>\n",
       "  </tbody>\n",
       "</table>\n",
       "</div>"
      ],
      "text/plain": [
       "  Category  Value\n",
       "0        A     10\n",
       "1        B     20\n",
       "2        A     15\n",
       "3        B     25\n",
       "4        A     12\n",
       "5        B     18"
      ]
     },
     "execution_count": 128,
     "metadata": {},
     "output_type": "execute_result"
    }
   ],
   "source": [
    "grouped = df.groupby('Category')\n",
    "grouped.head()"
   ]
  },
  {
   "cell_type": "code",
   "execution_count": 129,
   "id": "30bcaa33",
   "metadata": {},
   "outputs": [
    {
     "name": "stdout",
     "output_type": "stream",
     "text": [
      "Category\n",
      "A    12.333333\n",
      "B    21.000000\n",
      "Name: Value, dtype: float64\n"
     ]
    }
   ],
   "source": [
    "# Group by 'Category' and calculate the mean of 'Value' in each group\n",
    "\n",
    "result = grouped['Value'].mean()\n",
    "\n",
    "print(result)"
   ]
  },
  {
   "cell_type": "code",
   "execution_count": null,
   "id": "9c9d7c5a",
   "metadata": {},
   "outputs": [],
   "source": []
  }
 ],
 "metadata": {
  "kernelspec": {
   "display_name": "Python 3 (ipykernel)",
   "language": "python",
   "name": "python3"
  },
  "language_info": {
   "codemirror_mode": {
    "name": "ipython",
    "version": 3
   },
   "file_extension": ".py",
   "mimetype": "text/x-python",
   "name": "python",
   "nbconvert_exporter": "python",
   "pygments_lexer": "ipython3",
   "version": "3.10.6"
  }
 },
 "nbformat": 4,
 "nbformat_minor": 5
}
