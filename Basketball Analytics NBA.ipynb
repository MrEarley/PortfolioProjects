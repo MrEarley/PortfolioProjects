{
 "cells": [
  {
   "cell_type": "markdown",
   "metadata": {
    "tags": []
   },
   "source": [
    "# Name: Will Earley\n",
    "### Date: August 18, 2023"
   ]
  },
  {
   "cell_type": "markdown",
   "metadata": {},
   "source": [
    "<style>\n",
    ".jp-Notebook {\n",
    "    padding: var(--jp-notebook-padding);\n",
    "    margin-left: 160px;\n",
    "    outline: none;\n",
    "    overflow: auto;\n",
    "    background: var(--jp-layout-color0);\n",
    "}\n",
    "</style>"
   ]
  },
  {
   "cell_type": "markdown",
   "metadata": {},
   "source": [
    "<img src=\"https://cdn.nba.com/logos/nba/1610612760/primary/L/logo.svg\" alt=\"logo\" style=\"position: fixed; top: -40px; left: 5px; height: 250px;\">"
   ]
  },
  {
   "cell_type": "markdown",
   "metadata": {
    "jp-MarkdownHeadingCollapsed": true,
    "tags": []
   },
 
  {
   "cell_type": "markdown",
   "metadata": {},
   "source": [
    "# Answers  \n",
    "\n",
    "## Part 1      \n",
    "\n",
    "**Question 1:**   \n",
    "\n",
    "- 1st Team: 25.9 points per game  \n",
    "- 2nd Team: 23.1 points per game  \n",
    "- 3rd Team: 20.5 points per game  \n",
    "- All-Star: 21.6 points per game   \n",
    "\n",
    "**Question 2:** 3.7 Years  \n",
    "\n",
    "**Question 3:** \n",
    "\n",
    "- Elite: 3 players.  \n",
    "- All-Star: 1 players.  \n",
    "- Starter: 15 players.  \n",
    "- Rotation: 8 players.  \n",
    "- Roster: 30 players.  \n",
    "- Out of League: 16 players.  \n",
    "\n",
    "**Open Ended Modeling Question:** Please show your work and leave all responses below in the document.\n",
    "\n",
    "\n",
    "## Part 2  \n",
    "\n",
    "**Question 1:** 28.9%   \n",
    "**Question 2:** Written question, put answer below in the document.    \n",
    "**Question 3:** Written question, put answer below in the document.    \n",
    "  \n"
   ]
  },
  {
   "cell_type": "markdown",
   "metadata": {},
   "source": [
    "# Setup and Data    "
   ]
  },
  {
   "cell_type": "code",
   "execution_count": 2,
   "metadata": {},
   "outputs": [],
   "source": [
    "import pandas as pd\n",
    "awards = pd.read_csv(\"/Users/williamearley/Thunder/awards_data.csv\")\n",
    "player_data = pd.read_csv(\"/Users/williamearley/Thunder/player_stats.csv\")\n",
    "team_data = pd.read_csv(\"/Users/williamearley/Thunder/team_stats.csv\")\n",
    "rebounding_data = pd.read_csv(\"/Users/williamearley/Thunder/team_rebounding_data_22.csv\")"
   ]
  },
  {
   "cell_type": "markdown",
   "metadata": {},
   "source": [
    "## Part 1 -- Awards  \n",
    "\n",
    "In this section, you're going to work with data relating to player awards and statistics. You'll start with some data manipulation questions and work towards building a model to predict broad levels of career success.  \n"
   ]
  },
  {
   "cell_type": "markdown",
   "metadata": {},
   "source": [
    "### Question 1  \n",
    "\n",
    "**QUESTION:** What is the average number of points per game for players in the 2007-2021 seasons who won All NBA First, Second, and Third teams (**not** the All Defensive Teams), as well as for players who were in the All-Star Game (**not** the rookie all-star game)?\n",
    "\n",
    "\n",
    " "
   ]
  },
  {
   "cell_type": "code",
   "execution_count": 13,
   "metadata": {},
   "outputs": [],
   "source": [
    "# The first thing I'm going to do here is merge the awards and player data dataframes. \n",
    "\n",
    "merged = player_data.merge(awards, on=['season', 'nbapersonid'], how='left')"
   ]
  },
  {
   "cell_type": "code",
   "execution_count": 16,
   "metadata": {},
   "outputs": [],
   "source": [
    "# Next I want to only keep players who were on the All NBA teams or were all stars.\n",
    "\n",
    "elite_players = merged[(merged[\"All NBA First Team\"] == 1) |\n",
    "                      (merged[\"All NBA Second Team\"] == 1) |\n",
    "                      (merged[\"All NBA Third Team\"] == 1) |\n",
    "                      (merged[\"all_star_game\"] == 1)]"
   ]
  },
  {
   "cell_type": "code",
   "execution_count": 29,
   "metadata": {},
   "outputs": [
    {
     "name": "stderr",
     "output_type": "stream",
     "text": [
      "/var/folders/25/ys3kvvh94qz9hdnmxh9q884h0000gn/T/ipykernel_56763/3566255285.py:4: SettingWithCopyWarning: \n",
      "A value is trying to be set on a copy of a slice from a DataFrame.\n",
      "Try using .loc[row_indexer,col_indexer] = value instead\n",
      "\n",
      "See the caveats in the documentation: https://pandas.pydata.org/pandas-docs/stable/user_guide/indexing.html#returning-a-view-versus-a-copy\n",
      "  elite_players[\"PPG\"] = elite_players['points'] / elite_players['games']\n"
     ]
    }
   ],
   "source": [
    "# We know how many total points the players scored that season and how many games they played, but we need to add a\n",
    "# column that represents how many points they scored per game. (could have also done this using iloc)\n",
    "\n",
    "elite_players[\"PPG\"] = elite_players['points'] / elite_players['games']"
   ]
  },
  {
   "cell_type": "code",
   "execution_count": 31,
   "metadata": {},
   "outputs": [],
   "source": [
    "# Finally, we just find the mean of each team as well as the all stars. \n",
    "\n",
    "first_team_points = elite_players[elite_players[\"All NBA First Team\"] == 1]['PPG'].mean()\n",
    "second_team_points = elite_players[elite_players[\"All NBA Second Team\"] == 1]['PPG'].mean()\n",
    "third_team_points = elite_players[elite_players[\"All NBA Third Team\"] == 1]['PPG'].mean()\n",
    "all_star_points = elite_players[elite_players[\"all_star_game\"] == 1]['PPG'].mean()"
   ]
  },
  {
   "cell_type": "code",
   "execution_count": 36,
   "metadata": {},
   "outputs": [
    {
     "name": "stdout",
     "output_type": "stream",
     "text": [
      "1st Team: 25.9 points per game\n",
      "2nd Team: 23.1 points per game\n",
      "3rd Team: 20.5 points per game\n",
      "All-Star: 21.6 points per game\n"
     ]
    }
   ],
   "source": [
    "print(f'1st Team: {first_team_points:.1f} points per game')\n",
    "print(f'2nd Team: {second_team_points:.1f} points per game')\n",
    "print(f'3rd Team: {third_team_points:.1f} points per game')\n",
    "print(f'All-Star: {all_star_points:.1f} points per game')"
   ]
  },
  {
   "cell_type": "markdown",
   "metadata": {},
   "source": [
    "<strong><span style=\"color:red\">ANSWER 1:</span></strong>   \n",
    "\n",
    "1st Team: 25.9 points per game  \n",
    "2nd Team: 23.1 points per game  \n",
    "3rd Team: 20.5 points per game  \n",
    "All-Star: 21.6 points per game  "
   ]
  },
  {
   "cell_type": "markdown",
   "metadata": {},
   "source": [
    "### Question 2  \n",
    "\n",
    "**QUESTION:** What was the average number of years of experience in the league it takes for players to make their first All NBA Selection (1st, 2nd, or 3rd team)? Please limit your sample to players drafted in 2007 or later who did eventually go on to win at least one All NBA selection. For example:\n",
    "\n",
    "- Luka Doncic is in the dataset as 2 years. He was drafted in 2018 and won his first All NBA award in 2019 (which was his second season).  \n",
    "- LeBron James is not in this dataset, as he was drafted prior to 2007.  \n",
    "- Lu Dort is not in this dataset, as he has not received any All NBA honors.  \n",
    "\n"
   ]
  },
  {
   "cell_type": "code",
   "execution_count": 40,
   "metadata": {},
   "outputs": [],
   "source": [
    "# The first thing we want to do is use the merged dataframe we already have to pull out only the players drafted after\n",
    "# 2007 who eventually went on to at least one All NBA selection.\n",
    "\n",
    "draft_team = merged[(merged['draftyear'] >= 2007) &\n",
    "                   ((merged[\"All NBA First Team\"] == 1) |\n",
    "                    (merged[\"All NBA Second Team\"] == 1) |\n",
    "                    (merged[\"All NBA Third Team\"] == 1))]"
   ]
  },
  {
   "cell_type": "code",
   "execution_count": 44,
   "metadata": {
    "jupyter": {
     "outputs_hidden": true
    }
   },
   "outputs": [],
   "source": [
    "# We need to only count the first time the player made all NBA so we only keep that season\n",
    "\n",
    "first_time = draft_team.groupby('nbapersonid')['season'].min()"
   ]
  },
  {
   "cell_type": "code",
   "execution_count": 52,
   "metadata": {},
   "outputs": [],
   "source": [
    "# We only want those first selections in our dataframe so we only keep those ones.\n",
    "\n",
    "first_time_selections = draft_team[draft_team['season'] == first_time[draft_team['nbapersonid']].values]"
   ]
  },
  {
   "cell_type": "code",
   "execution_count": 54,
   "metadata": {},
   "outputs": [
    {
     "name": "stderr",
     "output_type": "stream",
     "text": [
      "/var/folders/25/ys3kvvh94qz9hdnmxh9q884h0000gn/T/ipykernel_56763/3679220641.py:1: SettingWithCopyWarning: \n",
      "A value is trying to be set on a copy of a slice from a DataFrame.\n",
      "Try using .loc[row_indexer,col_indexer] = value instead\n",
      "\n",
      "See the caveats in the documentation: https://pandas.pydata.org/pandas-docs/stable/user_guide/indexing.html#returning-a-view-versus-a-copy\n",
      "  first_time_selections['Years to First All NBA Team'] = first_time_selections['season'] - first_time_selections['draftyear']\n"
     ]
    }
   ],
   "source": [
    "# Subtract the season each player was selected to All NBA for the first time in by the season the player was drafted.\n",
    "\n",
    "first_time_selections['Years to First All NBA Team'] = first_time_selections['season'] - first_time_selections['draftyear']"
   ]
  },
  {
   "cell_type": "code",
   "execution_count": 56,
   "metadata": {},
   "outputs": [],
   "source": [
    "# Find the average of the years it took each player to be selected for the first time. \n",
    "\n",
    "avg_to_all_nba = first_time_selections['Years to First All NBA Team'].mean()"
   ]
  },
  {
   "cell_type": "code",
   "execution_count": 57,
   "metadata": {},
   "outputs": [
    {
     "data": {
      "text/plain": [
       "3.682926829268293"
      ]
     },
     "execution_count": 57,
     "metadata": {},
     "output_type": "execute_result"
    }
   ],
   "source": [
    "avg_to_all_nba"
   ]
  },
  {
   "cell_type": "markdown",
   "metadata": {},
   "source": [
    "<strong><span style=\"color:red\">ANSWER 2:</span></strong>  \n",
    "\n",
    "3.7 Years  "
   ]
  },
  {
   "cell_type": "markdown",
   "metadata": {},
   "source": [
    "## Data Cleaning Interlude  \n",
    "\n",
    "You're going to work to create a dataset with a \"career outcome\" for each player, representing the highest level of success that the player achieved for **at least two** seasons *after his first four seasons in the league* (examples to follow below!). To do this, you'll start with single season level outcomes. On a single season level, the outcomes are:  \n",
    "\n",
    "- Elite: A player is \"Elite\" in a season if he won any All NBA award (1st, 2nd, or 3rd team), MVP, or DPOY in that season.    \n",
    "- All-Star: A player is \"All-Star\" in a season if he was selected to be an All-Star that season.   \n",
    "- Starter:  A player is a \"Starter\" in a season if he started in at least 41 games in the season OR if he played at least 2000 minutes in the season.    \n",
    "- Rotation:  A player is a \"Rotation\" player in a season if he played at least 1000 minutes in the season.   \n",
    "- Roster:  A player is a \"Roster\" player in a season if he played at least 1 minute for an NBA team but did not meet any of the above criteria.     \n",
    "- Out of the League: A player is \"Out of the League\" if he is not in the NBA in that season.   \n",
    "\n",
    "We need to make an adjustment for determining Starter/Rotation qualifications for a few seasons that didn't have 82 games per team. Assume that there were 66 possible games in the 2011 lockout season and 72 possible games in each of the 2019 and 2020 seasons that were shortened due to covid. Specifically, if a player played 900 minutes in 2011, he **would** meet the rotation criteria because his final minutes would be considered to be 900 * (82/66) = 1118. Please use this math for both minutes and games started, so a player who started 38 games in 2019 or 2020 would be considered to have started 38 * (82/72) = 43 games, and thus would qualify for starting 41. Any answers should be calculated assuming you round the multiplied values to the nearest whole number.\n",
    "\n",
    "Note that on a season level, a player's outcome is the highest level of success he qualifies for in that season. Thus, since Shai Gilgeous-Alexander was both All-NBA 1st team and an All-Star last year, he would be considered to be \"Elite\" for the 2022 season, but would still qualify for a career outcome of All-Star if in the rest of his career he made one more All-Star game but no more All-NBA teams. Note this is a hypothetical, and Shai has not yet played enough to have a career outcome.    \n",
    "\n",
    "Examples:  \n",
    "\n",
    "- A player who enters the league as a rookie and has season outcomes of Roster (1), Rotation (2), Rotation (3), Roster (4), Roster (5), Out of the League (6+) would be considered \"Out of the League,\" because after his first four seasons, he only has a single Roster year, which does not qualify him for any success outcome.  \n",
    "- A player who enters the league as a rookie and has season outcomes of Roster (1), Rotation (2), Starter (3), Starter (4), Starter (5), Starter (6), All-Star (7), Elite (8), Starter (9) would be considered \"All-Star,\" because he had at least two seasons after his first four at all-star level of production or higher.  \n",
    "- A player who enters the league as a rookie and has season outcomes of Roster (1), Rotation (2), Starter (3), Starter (4), Starter (5), Starter (6), Rotation (7), Rotation (8), Roster (9) would be considered a \"Starter\" because he has two seasons after his first four at a starter level of production. \n"
   ]
  },
  {
   "cell_type": "markdown",
   "metadata": {},
   "source": [
    "### Question 3  \n",
    "\n",
    "**QUESTION:** There are 73 players in the `player_data` dataset who have 2010 listed as their draft year. How many of those players have a **career** outcome in each of the 6 buckets?  "
   ]
  },
  {
   "cell_type": "code",
   "execution_count": 80,
   "metadata": {},
   "outputs": [],
   "source": [
    "# Here we define a function to sort players into career outcomes based on our parameters\n",
    "\n",
    "def calculate_single_season_outcome(row):\n",
    "    if row['All NBA First Team'] == 1 or row['All NBA Second Team'] == 1 or row['All NBA Third Team'] == 1 or row['Most Valuable Player_rk'] == 1 or row['Defensive Player Of The Year_rk'] == 1:\n",
    "        return 'Elite'\n",
    "    elif row['all_star_game'] == 1:\n",
    "        return 'All-Star'\n",
    "    elif row['games_start'] >= 41 or (row['mins'] >= 2000 and row['season'] not in [2011, 2019, 2020]):\n",
    "        return 'Starter'\n",
    "    elif row['mins'] >= 1000:\n",
    "        return 'Rotation'\n",
    "    elif row['mins'] >= 1:\n",
    "        return 'Roster'\n",
    "    else:\n",
    "        return 'Out of the League'"
   ]
  },
  {
   "cell_type": "code",
   "execution_count": 81,
   "metadata": {},
   "outputs": [],
   "source": [
    "# Apply the function to calculate single-season outcomes\n",
    "merged['career_outcome'] = merged.apply(calculate_single_season_outcome, axis=1)"
   ]
  },
  {
   "cell_type": "code",
   "execution_count": 135,
   "metadata": {},
   "outputs": [],
   "source": [
    "# Calculate final career outcomes\n",
    "def calculate_final_career_outcome(player_group):\n",
    "    outcomes = player_group['career_outcome'].values\n",
    "    if 'Elite' in outcomes:\n",
    "        return 'Elite'\n",
    "    elif 'All-Star' in outcomes:\n",
    "        return 'All-Star'\n",
    "    elif (outcomes == 'Starter').sum() >= 2:\n",
    "        return 'Starter'\n",
    "    elif (outcomes == 'Rotation').sum() >= 2:\n",
    "        return 'Rotation'\n",
    "    elif (outcomes == 'Roster').sum() >= 2:\n",
    "        return 'Roster'\n",
    "    else:\n",
    "        return 'Out of the League'"
   ]
  },
  {
   "cell_type": "code",
   "execution_count": 84,
   "metadata": {},
   "outputs": [],
   "source": [
    "# Calculate final career outcomes for players\n",
    "final_career_outcomes = merged.groupby('nbapersonid').apply(calculate_final_career_outcome)"
   ]
  },
  {
   "cell_type": "code",
   "execution_count": 87,
   "metadata": {},
   "outputs": [],
   "source": [
    "# Create the data frame with proper column title\n",
    "final_career_outcomes_df = final_career_outcomes.reset_index(name='final_career_outcome')"
   ]
  },
  {
   "cell_type": "code",
   "execution_count": 99,
   "metadata": {},
   "outputs": [],
   "source": [
    "# Merge new dataframe with career outcomes with the dataframe containing player info\n",
    "merged_data = merged.merge(final_career_outcomes_df, on='nbapersonid', how='left')"
   ]
  },
  {
   "cell_type": "code",
   "execution_count": 100,
   "metadata": {},
   "outputs": [],
   "source": [
    "# Sort data to only keep the latest season\n",
    "sorted_data = merged_data.sort_values(by=['nbapersonid', 'season'], ascending=[True,False])"
   ]
  },
  {
   "cell_type": "code",
   "execution_count": 101,
   "metadata": {},
   "outputs": [],
   "source": [
    "# Deduplicate to only take peak of career\n",
    "deduplicated = sorted_data.drop_duplicates(subset='nbapersonid', keep='first')"
   ]
  },
  {
   "cell_type": "code",
   "execution_count": 107,
   "metadata": {},
   "outputs": [
    {
     "name": "stdout",
     "output_type": "stream",
     "text": [
      "Roster               30\n",
      "Out of the League    16\n",
      "Starter              15\n",
      "Rotation              8\n",
      "Elite                 3\n",
      "All-Star              1\n",
      "Name: final_career_outcome, dtype: int64\n"
     ]
    }
   ],
   "source": [
    "# Filter players from the year 2010 draft\n",
    "year_2010_players = deduplicated[deduplicated['draftyear'] == 2010]\n",
    "\n",
    "# Count the occurrences of each career outcome category\n",
    "career_outcome_counts = year_2010_players['final_career_outcome'].value_counts()\n",
    "\n",
    "# Display the counts\n",
    "print(career_outcome_counts)"
   ]
  },
  {
   "cell_type": "markdown",
   "metadata": {},
   "source": [
    "<strong><span style=\"color:red\">ANSWER 3:</span></strong>  \n",
    "\n",
    "Elite: 3 players.  \n",
    "All-Star: 1 players.  \n",
    "Starter: 15 players.  \n",
    "Rotation: 8 players.  \n",
    "Roster: 30 players.  \n",
    "Out of League: 16 players.  "
   ]
  },
  {
   "cell_type": "markdown",
   "metadata": {},
   "source": [
    "### Open Ended Modeling Question   \n",
    "\n",
    "In this question, you will work to build a model to predict a player's career outcome based on information up through the first four years of his career. \n",
    "\n",
    "This question is intentionally left fairly open ended, but here are some notes and specifications.  \n",
    "\n",
    "1. We know modeling questions can take a long time, and that qualified candidates will have different levels of experience with \"formal\" modeling. Don't be discouraged. It's not our intention to make you spend excessive time here. If you get your model to a good spot but think you could do better by spending a lot more time, you can just write a bit about your ideas for future improvement and leave it there. Further, we're more interested in your thought process and critical thinking than we are in specific modeling techniques. Using smart features is more important than using fancy mathematical machinery, and a successful candidate could use a simple regression approach. \n",
    "\n",
    "2. You may use any data provided in this project, but please do not bring in any external sources of data. Note that while most of the data provided goes back to 2007, All NBA and All Rookie team voting is only included back to 2011.  \n",
    "\n",
    "3. A player needs to complete three additional seasons after their first four to be considered as having a distinct career outcome for our dataset. Because the dataset in this project ends in 2021, this means that a player would need to have had the chance to play in the '21, '20, and '19 seasons after his first four years, and thus his first four years would have been '18, '17, '16, and '15. **For this reason, limit your training data to players who were drafted in or before the 2015 season.** Karl-Anthony Towns was the #1 pick in that season.  \n",
    "\n",
    "4. Once you build your model, predict on all players who were drafted in 2018-2021 (They have between 1 and 4 seasons of data available and have not yet started accumulating seasons that inform their career outcome).  \n",
    "\n",
    "5. You can predict a single career outcome for each player, but it's better if you can predict the probability that each player falls into each outcome bucket.    \n",
    "\n",
    "6. Include, as part of your answer:  \n",
    "  - A brief written overview of how your model works, targeted towards a decision maker in the front office without a strong statistical background. \n",
    "  - What you view as the strengths and weaknesses of your model.  \n",
    "  - How you'd address the weaknesses if you had more time and or more data.  \n",
    "  - A matplotlib or plotly visualization highlighting some part of your modeling process, the model itself, or your results.  \n",
    "  - Your predictions for Shai Gilgeous-Alexander, Zion Williamson, James Wiseman, and Josh Giddey.  \n",
    "  - (Bonus!) An html table (for example, see the package `reactable`) containing all predictions for the players drafted in 2019-2021.  \n",
    "\n"
   ]
  },
  {
   "cell_type": "markdown",
   "metadata": {},
   "source": [
    "## Step One: First let's do some preprocessing"
   ]
  },
  {
   "cell_type": "code",
   "execution_count": 122,
   "metadata": {
    "jupyter": {
     "outputs_hidden": true
    }
   },
   "outputs": [],
   "source": [
    "# Let's start by filtering out players who were drafted after 2015\n",
    "\n",
    "filtered_players = merged[merged['draftyear'] <= 2015]"
   ]
  },
  {
   "cell_type": "code",
   "execution_count": 130,
   "metadata": {},
   "outputs": [],
   "source": [
    "# Apply the function to calculate single-season outcomes\n",
    "merged['career_outcome'] = merged.apply(calculate_single_season_outcome, axis=1)"
   ]
  },
  {
   "cell_type": "code",
   "execution_count": 136,
   "metadata": {},
   "outputs": [],
   "source": [
    "# Group by 'nbapersonid' and apply the function to calculate final career outcomes\n",
    "career_outcomes = merged.groupby('nbapersonid').apply(calculate_final_career_outcome)"
   ]
  },
  {
   "cell_type": "code",
   "execution_count": 137,
   "metadata": {},
   "outputs": [],
   "source": [
    "# Reset the index of the career_outcomes DataFrame\n",
    "career_outcomes = career_outcomes.reset_index()"
   ]
  },
  {
   "cell_type": "code",
   "execution_count": 138,
   "metadata": {},
   "outputs": [],
   "source": [
    "# Merge the career outcomes back to the filtered_players dataframe\n",
    "filtered_players = filtered_players.merge(career_outcomes, on='nbapersonid')"
   ]
  },
  {
   "cell_type": "code",
   "execution_count": 140,
   "metadata": {},
   "outputs": [],
   "source": [
    "# Adding in a few additional features that might help later one\n",
    "\n",
    "# Calculate averages over the first four seasons\n",
    "filtered_players['avg_points'] = filtered_players['points'] / filtered_players['games']\n",
    "filtered_players['avg_rebounds'] = (filtered_players['off_reb'] + filtered_players['def_reb']) / filtered_players['games']"
   ]
  },
  {
   "cell_type": "markdown",
   "metadata": {},
   "source": [
    "## Step Two: Feature Engineering\n",
    "Under different circumstances I would spend a lot more time here. I likely would do extensive exploratory data analysis, employ some feature importance techniques, explore derived features, normalize/scale features, etc. Due to time contraints I will keep this step somewhat simple."
   ]
  },
  {
   "cell_type": "code",
   "execution_count": 144,
   "metadata": {},
   "outputs": [],
   "source": [
    "# Select relevant features (by no means exhaustive)\n",
    "selected_features = ['points', 'tot_reb', 'ast', 'fgp', 'efg', 'PER', 'usg', 'OBPM', 'DBPM', 'BPM', 'fgm', 'WS', 'VORP']\n",
    "\n",
    "# Create a new DataFrame with selected features\n",
    "selected_data = filtered_players[selected_features + ['career_outcome', 'avg_points', 'avg_rebounds']]\n"
   ]
  },
  {
   "cell_type": "markdown",
   "metadata": {},
   "source": [
    "## Step Three: Model Selection and Training\n",
    "Again, to showcase my skills and experience in an efficient manner, I am going to employ a simple logistic regression model here. Given more time I would likely explore the effectiveness of decision trees, random forests, boosting, and neural networks to find the best model. "
   ]
  },
  {
   "cell_type": "code",
   "execution_count": 146,
   "metadata": {},
   "outputs": [],
   "source": [
    "from sklearn.model_selection import train_test_split\n",
    "from sklearn.linear_model import LogisticRegression\n",
    "from sklearn.metrics import classification_report"
   ]
  },
  {
   "cell_type": "code",
   "execution_count": 166,
   "metadata": {},
   "outputs": [],
   "source": [
    "# Here we separate our features and our target variable\n",
    "X_withna = selected_data[selected_features + ['avg_points', 'avg_rebounds']]\n",
    "y = selected_data['career_outcome']"
   ]
  },
  {
   "cell_type": "code",
   "execution_count": 167,
   "metadata": {},
   "outputs": [],
   "source": [
    "X = X_withna.fillna(0)"
   ]
  },
  {
   "cell_type": "code",
   "execution_count": 168,
   "metadata": {},
   "outputs": [],
   "source": [
    "# Split data into train and validation sets \n",
    "X_train, X_val, y_train, y_val = train_test_split(X, y, test_size=0.2, random_state=42)"
   ]
  },
  {
   "cell_type": "code",
   "execution_count": 173,
   "metadata": {},
   "outputs": [],
   "source": [
    "# Scaling the data\n",
    "from sklearn.preprocessing import StandardScaler\n",
    "\n",
    "# Create a StandardScaler instance\n",
    "scaler = StandardScaler()\n",
    "\n",
    "# Fit the scaler on my training data and transform the data\n",
    "X_train_scaled = scaler.fit_transform(X_train)\n",
    "\n",
    "# Transform the validation data using the same scaler\n",
    "X_valid_scaled = scaler.transform(X_val)"
   ]
  },
  {
   "cell_type": "code",
   "execution_count": 176,
   "metadata": {},
   "outputs": [
    {
     "data": {
      "text/html": [
       "<style>#sk-container-id-7 {color: black;background-color: white;}#sk-container-id-7 pre{padding: 0;}#sk-container-id-7 div.sk-toggleable {background-color: white;}#sk-container-id-7 label.sk-toggleable__label {cursor: pointer;display: block;width: 100%;margin-bottom: 0;padding: 0.3em;box-sizing: border-box;text-align: center;}#sk-container-id-7 label.sk-toggleable__label-arrow:before {content: \"▸\";float: left;margin-right: 0.25em;color: #696969;}#sk-container-id-7 label.sk-toggleable__label-arrow:hover:before {color: black;}#sk-container-id-7 div.sk-estimator:hover label.sk-toggleable__label-arrow:before {color: black;}#sk-container-id-7 div.sk-toggleable__content {max-height: 0;max-width: 0;overflow: hidden;text-align: left;background-color: #f0f8ff;}#sk-container-id-7 div.sk-toggleable__content pre {margin: 0.2em;color: black;border-radius: 0.25em;background-color: #f0f8ff;}#sk-container-id-7 input.sk-toggleable__control:checked~div.sk-toggleable__content {max-height: 200px;max-width: 100%;overflow: auto;}#sk-container-id-7 input.sk-toggleable__control:checked~label.sk-toggleable__label-arrow:before {content: \"▾\";}#sk-container-id-7 div.sk-estimator input.sk-toggleable__control:checked~label.sk-toggleable__label {background-color: #d4ebff;}#sk-container-id-7 div.sk-label input.sk-toggleable__control:checked~label.sk-toggleable__label {background-color: #d4ebff;}#sk-container-id-7 input.sk-hidden--visually {border: 0;clip: rect(1px 1px 1px 1px);clip: rect(1px, 1px, 1px, 1px);height: 1px;margin: -1px;overflow: hidden;padding: 0;position: absolute;width: 1px;}#sk-container-id-7 div.sk-estimator {font-family: monospace;background-color: #f0f8ff;border: 1px dotted black;border-radius: 0.25em;box-sizing: border-box;margin-bottom: 0.5em;}#sk-container-id-7 div.sk-estimator:hover {background-color: #d4ebff;}#sk-container-id-7 div.sk-parallel-item::after {content: \"\";width: 100%;border-bottom: 1px solid gray;flex-grow: 1;}#sk-container-id-7 div.sk-label:hover label.sk-toggleable__label {background-color: #d4ebff;}#sk-container-id-7 div.sk-serial::before {content: \"\";position: absolute;border-left: 1px solid gray;box-sizing: border-box;top: 0;bottom: 0;left: 50%;z-index: 0;}#sk-container-id-7 div.sk-serial {display: flex;flex-direction: column;align-items: center;background-color: white;padding-right: 0.2em;padding-left: 0.2em;position: relative;}#sk-container-id-7 div.sk-item {position: relative;z-index: 1;}#sk-container-id-7 div.sk-parallel {display: flex;align-items: stretch;justify-content: center;background-color: white;position: relative;}#sk-container-id-7 div.sk-item::before, #sk-container-id-7 div.sk-parallel-item::before {content: \"\";position: absolute;border-left: 1px solid gray;box-sizing: border-box;top: 0;bottom: 0;left: 50%;z-index: -1;}#sk-container-id-7 div.sk-parallel-item {display: flex;flex-direction: column;z-index: 1;position: relative;background-color: white;}#sk-container-id-7 div.sk-parallel-item:first-child::after {align-self: flex-end;width: 50%;}#sk-container-id-7 div.sk-parallel-item:last-child::after {align-self: flex-start;width: 50%;}#sk-container-id-7 div.sk-parallel-item:only-child::after {width: 0;}#sk-container-id-7 div.sk-dashed-wrapped {border: 1px dashed gray;margin: 0 0.4em 0.5em 0.4em;box-sizing: border-box;padding-bottom: 0.4em;background-color: white;}#sk-container-id-7 div.sk-label label {font-family: monospace;font-weight: bold;display: inline-block;line-height: 1.2em;}#sk-container-id-7 div.sk-label-container {text-align: center;}#sk-container-id-7 div.sk-container {/* jupyter's `normalize.less` sets `[hidden] { display: none; }` but bootstrap.min.css set `[hidden] { display: none !important; }` so we also need the `!important` here to be able to override the default hidden behavior on the sphinx rendered scikit-learn.org. See: https://github.com/scikit-learn/scikit-learn/issues/21755 */display: inline-block !important;position: relative;}#sk-container-id-7 div.sk-text-repr-fallback {display: none;}</style><div id=\"sk-container-id-7\" class=\"sk-top-container\"><div class=\"sk-text-repr-fallback\"><pre>LogisticRegression(max_iter=1000)</pre><b>In a Jupyter environment, please rerun this cell to show the HTML representation or trust the notebook. <br />On GitHub, the HTML representation is unable to render, please try loading this page with nbviewer.org.</b></div><div class=\"sk-container\" hidden><div class=\"sk-item\"><div class=\"sk-estimator sk-toggleable\"><input class=\"sk-toggleable__control sk-hidden--visually\" id=\"sk-estimator-id-7\" type=\"checkbox\" checked><label for=\"sk-estimator-id-7\" class=\"sk-toggleable__label sk-toggleable__label-arrow\">LogisticRegression</label><div class=\"sk-toggleable__content\"><pre>LogisticRegression(max_iter=1000)</pre></div></div></div></div></div>"
      ],
      "text/plain": [
       "LogisticRegression(max_iter=1000)"
      ]
     },
     "execution_count": 176,
     "metadata": {},
     "output_type": "execute_result"
    }
   ],
   "source": [
    "# Train the model with the scaled data\n",
    "model = LogisticRegression(max_iter=1000)\n",
    "model.fit(X_train_scaled, y_train)"
   ]
  },
  {
   "cell_type": "markdown",
   "metadata": {},
   "source": [
    "## Step Four: Model Evaluation"
   ]
  },
  {
   "cell_type": "code",
   "execution_count": 177,
   "metadata": {},
   "outputs": [],
   "source": [
    "from sklearn.metrics import accuracy_score, precision_score, recall_score, f1_score, roc_auc_score\n",
    "from sklearn.model_selection import GridSearchCV"
   ]
  },
  {
   "cell_type": "code",
   "execution_count": 178,
   "metadata": {},
   "outputs": [],
   "source": [
    "# Let's make some predictions on the validation set\n",
    "y_pred = model.predict(X_valid_scaled)"
   ]
  },
  {
   "cell_type": "code",
   "execution_count": 185,
   "metadata": {},
   "outputs": [
    {
     "name": "stdout",
     "output_type": "stream",
     "text": [
      "Accuracy: 0.8871201157742402\n",
      "Precision: 0.7808454720255218\n"
     ]
    }
   ],
   "source": [
    "# Calculate evaluation metrics\n",
    "accuracy = accuracy_score(y_val, y_pred)\n",
    "precision = precision_score(y_val, y_pred, average='macro')\n",
    "\n",
    "print(\"Accuracy:\", accuracy)\n",
    "print(\"Precision:\", precision)"
   ]
  },
  {
   "cell_type": "code",
   "execution_count": 187,
   "metadata": {},
   "outputs": [
    {
     "name": "stdout",
     "output_type": "stream",
     "text": [
      "Confusion Matrix:\n",
      "[[  5  10   4   2  17]\n",
      " [  2  35   0   0   7]\n",
      " [  0   0 697   8   1]\n",
      " [  0   0  19 217  43]\n",
      " [  2   1   4  36 272]]\n"
     ]
    }
   ],
   "source": [
    "from sklearn.metrics import confusion_matrix\n",
    "\n",
    "# Calculate the confusion matrix\n",
    "conf_matrix = confusion_matrix(y_val, y_pred)\n",
    "\n",
    "print(\"Confusion Matrix:\")\n",
    "print(conf_matrix)"
   ]
  },
  {
   "cell_type": "code",
   "execution_count": 188,
   "metadata": {},
   "outputs": [
    {
     "data": {
      "image/png": "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\n",
      "text/plain": [
       "<Figure size 576x432 with 2 Axes>"
      ]
     },
     "metadata": {
      "needs_background": "light"
     },
     "output_type": "display_data"
    }
   ],
   "source": [
    "# Creating a confusion matrix for evaluation\n",
    "\n",
    "import seaborn as sns\n",
    "import matplotlib.pyplot as plt\n",
    "\n",
    "# Plot the confusion matrix heatmap\n",
    "plt.figure(figsize=(8, 6))\n",
    "sns.heatmap(conf_matrix, annot=True, cmap=\"Blues\", fmt=\"d\")\n",
    "plt.xlabel(\"Predicted\")\n",
    "plt.ylabel(\"Actual\")\n",
    "plt.title(\"Confusion Matrix\")\n",
    "plt.show()"
   ]
  },
  {
   "cell_type": "markdown",
   "metadata": {},
   "source": [
    "## Predicting on Newer Players"
   ]
  },
  {
   "cell_type": "code",
   "execution_count": 189,
   "metadata": {},
   "outputs": [],
   "source": [
    "# First we need to do some preprocessing to get the same features for the newer players we had for our model.\n",
    "\n",
    "new_players = merged[merged['draftyear'].between(2018,2021)]"
   ]
  },
  {
   "cell_type": "code",
   "execution_count": 191,
   "metadata": {},
   "outputs": [
    {
     "name": "stderr",
     "output_type": "stream",
     "text": [
      "/var/folders/25/ys3kvvh94qz9hdnmxh9q884h0000gn/T/ipykernel_56763/3476384422.py:1: SettingWithCopyWarning: \n",
      "A value is trying to be set on a copy of a slice from a DataFrame.\n",
      "Try using .loc[row_indexer,col_indexer] = value instead\n",
      "\n",
      "See the caveats in the documentation: https://pandas.pydata.org/pandas-docs/stable/user_guide/indexing.html#returning-a-view-versus-a-copy\n",
      "  new_players['avg_points'] = new_players['points'] / new_players['games']\n",
      "/var/folders/25/ys3kvvh94qz9hdnmxh9q884h0000gn/T/ipykernel_56763/3476384422.py:2: SettingWithCopyWarning: \n",
      "A value is trying to be set on a copy of a slice from a DataFrame.\n",
      "Try using .loc[row_indexer,col_indexer] = value instead\n",
      "\n",
      "See the caveats in the documentation: https://pandas.pydata.org/pandas-docs/stable/user_guide/indexing.html#returning-a-view-versus-a-copy\n",
      "  new_players['avg_rebounds'] = (new_players['off_reb'] + new_players['def_reb']) / new_players['games']\n"
     ]
    }
   ],
   "source": [
    "new_players['avg_points'] = new_players['points'] / new_players['games']\n",
    "new_players['avg_rebounds'] = (new_players['off_reb'] + new_players['def_reb']) / new_players['games']"
   ]
  },
  {
   "cell_type": "code",
   "execution_count": 193,
   "metadata": {},
   "outputs": [],
   "source": [
    "selected_features_new = ['points', 'tot_reb', 'ast', 'fgp', 'efg', 'PER', 'usg', 'OBPM', 'DBPM', 'BPM', 'fgm', 'WS', 'VORP', 'avg_points', 'avg_rebounds']"
   ]
  },
  {
   "cell_type": "code",
   "execution_count": 201,
   "metadata": {},
   "outputs": [],
   "source": [
    "# Create a df with the new player's features\n",
    "\n",
    "new_players_features_withna = new_players[selected_features_new]"
   ]
  },
  {
   "cell_type": "code",
   "execution_count": 202,
   "metadata": {},
   "outputs": [],
   "source": [
    "# Replacing NaN with 0\n",
    "\n",
    "new_players_features = new_players_features_withna.fillna(0)"
   ]
  },
  {
   "cell_type": "code",
   "execution_count": 203,
   "metadata": {},
   "outputs": [],
   "source": [
    "# scaling new player features\n",
    "\n",
    "new_players_features_scaled = scaler.transform(new_players_features)"
   ]
  },
  {
   "cell_type": "code",
   "execution_count": 204,
   "metadata": {},
   "outputs": [],
   "source": [
    "# Using the model to predict probabilities\n",
    "\n",
    "outcome_probabilities = model.predict_proba(new_players_features_scaled)"
   ]
  },
  {
   "cell_type": "code",
   "execution_count": 205,
   "metadata": {},
   "outputs": [],
   "source": [
    "# Put results in a dataframe\n",
    "\n",
    "results = pd.DataFrame(outcome_probabilities, columns=model.classes_)\n",
    "results.insert(0, 'nbapersonid', new_players['nbapersonid'].values)"
   ]
  },
  {
   "cell_type": "code",
   "execution_count": 209,
   "metadata": {},
   "outputs": [],
   "source": [
    "# Adding in player names in addition to id\n",
    "\n",
    "results = results.merge(new_players[['nbapersonid', 'player']], on='nbapersonid', how='left')"
   ]
  },
  {
   "cell_type": "code",
   "execution_count": 211,
   "metadata": {},
   "outputs": [],
   "source": [
    "# Deduplicating results\n",
    "\n",
    "dedup = results.drop_duplicates(subset='nbapersonid')"
   ]
  },
  {
   "cell_type": "code",
   "execution_count": 213,
   "metadata": {},
   "outputs": [],
   "source": [
    "# Making the results more readable\n",
    "pd.options.display.float_format = '{:.2%}'.format"
   ]
  },
  {
   "cell_type": "markdown",
   "metadata": {},
   "source": [
    "## A brief written overview of how your model works, targeted towards a decision maker in the front office without a strong statistical background.\n",
    "\n",
    "This model is a simple one for predicting future player performance. What it does is take into account some simple stats, like points per game, rebounds per game, and how a player does on offense and defense, and draws some relationships between those stats and players in the past who have found success in our league. From there, we use those same relationships to decide where players that are newer to the league are likely to top out at the peak of their career. This will help us make informed decisions about player development and their future role within the team."
   ]
  },
  {
   "cell_type": "markdown",
   "metadata": {},
   "source": [
    "## Strengths and weaknesses of model\n",
    "\n",
    "My model has a variety of strengths and weaknesses. The first strength is its predictive power. I have leveraged historical data to predict future player success which is pretty cool. My model is also customizable, I can easily change the input features or the outcome buckets depending on the needs of our team. Finally, my model provides an objective data driven insight to player potential, so we can rely less on subjective evaluations.\n",
    "\n",
    "In terms of weaknesses, the first is limited data. In order to create a more accurate model, we would want more data both for training and for testing. In addition, we have the assumption of similarity here. The NBA game changes often and what is important might change as well. Early career performance isn't always indicative of future outcomes. "
   ]
  },
  {
   "cell_type": "markdown",
   "metadata": {},
   "source": [
    "## Addressing weaknesses given more time.\n",
    "\n",
    "More time and data always help us get to more accurate results. Given more time I would explore and assess different models to find the very best one. I would also include historical and longitudinal data as well as explore how external factors like injuries and coaching affect a player. Finally, I would implement regular model updates. "
   ]
  },
  {
   "cell_type": "markdown",
   "metadata": {},
   "source": [
    "## Visualization\n",
    "\n",
    "Here we have a bar chart representing the possible career outcomes for different players. With more time I could make this interactive, but for now you can change the player just by changing the associated nbapersonid. "
   ]
  },
  {
   "cell_type": "code",
   "execution_count": 224,
   "metadata": {},
   "outputs": [
    {
     "data": {
      "image/png": "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\n",
      "text/plain": [
       "<Figure size 576x360 with 1 Axes>"
      ]
     },
     "metadata": {
      "needs_background": "light"
     },
     "output_type": "display_data"
    }
   ],
   "source": [
    "import matplotlib.pyplot as plt\n",
    "\n",
    "# Choose a player (replace 'selected_player' with the actual player's name)\n",
    "selected_player = 'Anthony Edwards'\n",
    "selected_player = dedup[dedup['player'] == selected_player]\n",
    "\n",
    "# Extract career outcome buckets and predicted probabilities\n",
    "outcomes = ['All-Star', 'Elite', 'Roster', 'Rotation', 'Starter']\n",
    "probabilities = selected_player[outcomes].values.tolist()[0]\n",
    "\n",
    "# Create a bar chart\n",
    "plt.figure(figsize=(8, 5))\n",
    "plt.bar(outcomes, probabilities, color=['blue', 'green', 'orange', 'purple', 'red'])\n",
    "plt.xlabel('Career Outcome Buckets')\n",
    "plt.ylabel('Predicted Probability')\n",
    "plt.title('Predicted Career Outcome for Selected Player')\n",
    "plt.ylim(0, 1)  # Set y-axis limit to ensure proper visualization\n",
    "plt.legend(['All-Star', 'Elite', 'Roster', 'Rotation', 'Starter'])\n",
    "plt.tight_layout()\n",
    "\n",
    "\n",
    "plt.show()\n"
   ]
  },
  {
   "cell_type": "markdown",
   "metadata": {},
   "source": [
    "## Results for Shai Gilgeous-Alexander, Zion Williamson, James Wiseman, and Josh Giddey."
   ]
  },
  {
   "cell_type": "code",
   "execution_count": 215,
   "metadata": {},
   "outputs": [],
   "source": [
    "# Establishing players\n",
    "players = ['Shai Gilgeous-Alexander', 'Zion Williamson', 'James Wiseman', 'Josh Giddey']"
   ]
  },
  {
   "cell_type": "code",
   "execution_count": 217,
   "metadata": {},
   "outputs": [],
   "source": [
    "# Filter the deduplicated results for the specific players\n",
    "specific_results = dedup.loc[dedup['player'].isin(players)]"
   ]
  },
  {
   "cell_type": "code",
   "execution_count": 218,
   "metadata": {},
   "outputs": [],
   "source": [
    "# Set the display format for float values\n",
    "pd.options.display.float_format = '{:.2%}'.format"
   ]
  },
  {
   "cell_type": "code",
   "execution_count": 219,
   "metadata": {},
   "outputs": [
    {
     "data": {
      "text/html": [
       "<div>\n",
       "<style scoped>\n",
       "    .dataframe tbody tr th:only-of-type {\n",
       "        vertical-align: middle;\n",
       "    }\n",
       "\n",
       "    .dataframe tbody tr th {\n",
       "        vertical-align: top;\n",
       "    }\n",
       "\n",
       "    .dataframe thead th {\n",
       "        text-align: right;\n",
       "    }\n",
       "</style>\n",
       "<table border=\"1\" class=\"dataframe\">\n",
       "  <thead>\n",
       "    <tr style=\"text-align: right;\">\n",
       "      <th></th>\n",
       "      <th>nbapersonid</th>\n",
       "      <th>All-Star</th>\n",
       "      <th>Elite</th>\n",
       "      <th>Roster</th>\n",
       "      <th>Rotation</th>\n",
       "      <th>Starter</th>\n",
       "      <th>player</th>\n",
       "    </tr>\n",
       "  </thead>\n",
       "  <tbody>\n",
       "    <tr>\n",
       "      <th>133</th>\n",
       "      <td>1628983</td>\n",
       "      <td>0.40%</td>\n",
       "      <td>0.01%</td>\n",
       "      <td>0.00%</td>\n",
       "      <td>9.95%</td>\n",
       "      <td>89.64%</td>\n",
       "      <td>Shai Gilgeous-Alexander</td>\n",
       "    </tr>\n",
       "    <tr>\n",
       "      <th>664</th>\n",
       "      <td>1629627</td>\n",
       "      <td>0.03%</td>\n",
       "      <td>0.01%</td>\n",
       "      <td>98.84%</td>\n",
       "      <td>1.10%</td>\n",
       "      <td>0.02%</td>\n",
       "      <td>Zion Williamson</td>\n",
       "    </tr>\n",
       "    <tr>\n",
       "      <th>1152</th>\n",
       "      <td>1630164</td>\n",
       "      <td>0.08%</td>\n",
       "      <td>0.00%</td>\n",
       "      <td>82.58%</td>\n",
       "      <td>16.13%</td>\n",
       "      <td>1.20%</td>\n",
       "      <td>James Wiseman</td>\n",
       "    </tr>\n",
       "    <tr>\n",
       "      <th>2270</th>\n",
       "      <td>1630581</td>\n",
       "      <td>2.77%</td>\n",
       "      <td>0.03%</td>\n",
       "      <td>0.00%</td>\n",
       "      <td>8.72%</td>\n",
       "      <td>88.48%</td>\n",
       "      <td>Josh Giddey</td>\n",
       "    </tr>\n",
       "  </tbody>\n",
       "</table>\n",
       "</div>"
      ],
      "text/plain": [
       "      nbapersonid  All-Star  Elite  Roster  Rotation  Starter  \\\n",
       "133       1628983     0.40%  0.01%   0.00%     9.95%   89.64%   \n",
       "664       1629627     0.03%  0.01%  98.84%     1.10%    0.02%   \n",
       "1152      1630164     0.08%  0.00%  82.58%    16.13%    1.20%   \n",
       "2270      1630581     2.77%  0.03%   0.00%     8.72%   88.48%   \n",
       "\n",
       "                       player  \n",
       "133   Shai Gilgeous-Alexander  \n",
       "664           Zion Williamson  \n",
       "1152            James Wiseman  \n",
       "2270              Josh Giddey  "
      ]
     },
     "execution_count": 219,
     "metadata": {},
     "output_type": "execute_result"
    }
   ],
   "source": [
    "# Checking out the results for the specific players we are interested in\n",
    "specific_results"
   ]
  },
  {
   "cell_type": "markdown",
   "metadata": {},
   "source": [
    "## Part 2 -- Predicting Team Stats  \n",
    "\n",
    "In this section, we're going to introduce a simple way to predict team offensive rebound percent in the next game and then discuss ways to improve those predictions.  \n",
    " \n",
    "### Question 1   \n",
    "\n",
    "Using the `rebounding_data` dataset, we'll predict a team's next game's offensive rebounding percent to be their average offensive rebounding percent in all prior games. On a single game level, offensive rebounding percent is the number of offensive rebounds divided by their number offensive rebound \"chances\" (essentially the team's missed shots). On a multi-game sample, it should be the total number of offensive rebounds divided by the total number of offensive rebound chances.    \n",
    "\n",
    "Please calculate what OKC's predicted offensive rebound percent is for game 81 in the data. That is, use games 1-80 to predict game 81.  "
   ]
  },
  {
   "cell_type": "code",
   "execution_count": 226,
   "metadata": {},
   "outputs": [
    {
     "name": "stdout",
     "output_type": "stream",
     "text": [
      "Predicted Offensive Rebound Percent for Game 81: 0.288689755388714\n"
     ]
    }
   ],
   "source": [
    "# Filter data for OKC and games 1-80\n",
    "okc_data = rebounding_data[(rebounding_data['team'] == 'OKC') & (rebounding_data['game_number'] <= 80)]\n",
    "\n",
    "# Calculate total offensive rebounds and total offensive rebound chances\n",
    "total_offensive_rebounds = okc_data['offensive_rebounds'].sum()\n",
    "total_off_rebound_chances = okc_data['off_rebound_chances'].sum()\n",
    "\n",
    "# Calculate predicted offensive rebound percent\n",
    "predicted_off_rebound_pct = total_offensive_rebounds / total_off_rebound_chances\n",
    "\n",
    "print(\"Predicted Offensive Rebound Percent for Game 81:\", predicted_off_rebound_pct)"
   ]
  },
  {
   "cell_type": "markdown",
   "metadata": {},
   "source": [
    "<strong><span style=\"color:red\">ANSWER 1:</span></strong>  \n",
    "\n",
    "28.9% "
   ]
  },
  {
   "cell_type": "markdown",
   "metadata": {},
   "source": [
    "### Question 2  \n",
    "\n",
    "There are a few limitations to the method we used above. For example, if a team has a great offensive rebounder who has played in most games this season but will be out due to an injury for the next game, we might reasonably predict a lower team offensive rebound percent for the next game.  \n",
    "\n",
    "Please discuss how you would think about changing our original model to better account for missing players. You do not have to write any code or implement any changes, and you can assume you have access to any reasonable data that isn't provided in this project. Try to be clear and concise with your answer.  "
   ]
  },
  {
   "cell_type": "markdown",
   "metadata": {},
   "source": [
    "<strong><span style=\"color:red\">ANSWER 2:</span></strong>  "
   ]
  },
  {
   "cell_type": "markdown",
   "metadata": {},
   "source": [
    "With teams I have worked with in the past we will create dashboards to represent specific lineups. That way you can see game averages for the specific 5 players that are on the floor at any given time, in this scenario, we would just remove the player who is the good offensive rebounder from the dashboard. In addition, we could focus more on player level analysis and metrics rather than team metrics to account for injuries. Finally, we could look into who the opponent we are going against. How did we do against them last time? This may help inform our process. "
   ]
  },
  {
   "cell_type": "markdown",
   "metadata": {},
   "source": [
    "### Question 3  \n",
    "\n",
    "In question 2, you saw and discussed how to deal with one weakness of the model. For this question, please write about 1-3 other potential weaknesses of the simple average model you made in question 1 and discuss how you would deal with each of them. You may either explain a weakness and discuss how you'd fix that weakness, then move onto the next issue, or you can start by explaining multiple weaknesses with the original approach and discuss one overall modeling methodology you'd use that gets around most or all of them. Again, you do not need to write any code or implement any changes, and you can assume you have access to any reasonable data that isn't provided in this project. Try to be clear and concise with your answer.  \n"
   ]
  },
  {
   "cell_type": "markdown",
   "metadata": {},
   "source": [
    "<strong><span style=\"color:red\">ANSWER 3:</span></strong>  "
   ]
  },
  {
   "cell_type": "markdown",
   "metadata": {},
   "source": [
    "As discussed a bit in question 2, who the opponent is will have a large impact on our offensive rebounding capabilities. If our opponent struggles with defensive rebounding, we might have more offensive rebounds and vice versa. One way to account for this is to investigate how we have performed against specific opponents in the past, including accounting for injuries in their specific lineups. \n",
    "\n",
    "Pace of play and game dynamics can have a huge impact on rebounding as well. To mitigate error here, we could segment games into different scenarios including close games, blowouts, etc. We can calculate offensive rebounding averages for each scenario, this would help provide a more nuanced prediction. \n",
    "\n",
    "Home/away games, player rotations, referees, and many other factors could play a role here as well. "
   ]
  }
 ],
 "metadata": {
  "kernelspec": {
   "display_name": "Python 3 (ipykernel)",
   "language": "python",
   "name": "python3"
  },
  "language_info": {
   "codemirror_mode": {
    "name": "ipython",
    "version": 3
   },
   "file_extension": ".py",
   "mimetype": "text/x-python",
   "name": "python",
   "nbconvert_exporter": "python",
   "pygments_lexer": "ipython3",
   "version": "3.10.6"
  }
 },
 "nbformat": 4,
 "nbformat_minor": 4
}
